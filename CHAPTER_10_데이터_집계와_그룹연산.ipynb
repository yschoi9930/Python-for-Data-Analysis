{
  "nbformat": 4,
  "nbformat_minor": 0,
  "metadata": {
    "colab": {
      "private_outputs": true,
      "provenance": [],
      "authorship_tag": "ABX9TyPjYRhCWK6WGkxAlMaSLuhv",
      "include_colab_link": true
    },
    "kernelspec": {
      "name": "python3",
      "display_name": "Python 3"
    },
    "language_info": {
      "name": "python"
    }
  },
  "cells": [
    {
      "cell_type": "markdown",
      "metadata": {
        "id": "view-in-github",
        "colab_type": "text"
      },
      "source": [
        "<a href=\"https://colab.research.google.com/github/yschoi9930/Python-for-Data-Analysis/blob/main/CHAPTER_10_%EB%8D%B0%EC%9D%B4%ED%84%B0_%EC%A7%91%EA%B3%84%EC%99%80_%EA%B7%B8%EB%A3%B9%EC%97%B0%EC%82%B0.ipynb\" target=\"_parent\"><img src=\"https://colab.research.google.com/assets/colab-badge.svg\" alt=\"Open In Colab\"/></a>"
      ]
    },
    {
      "cell_type": "code",
      "execution_count": null,
      "metadata": {
        "id": "phuJzexW8dop"
      },
      "outputs": [],
      "source": [
        "import pandas as pd\n",
        "import numpy as np"
      ]
    },
    {
      "cell_type": "markdown",
      "source": [
        "# CHAPTER 10. 데이터 집계와 그룹 연산\n",
        "## 10.1 GroupBy 메카닉\n"
      ],
      "metadata": {
        "id": "ZXvR1nbxB2re"
      }
    },
    {
      "cell_type": "code",
      "source": [
        "df = pd.DataFrame({'key1':['a','a','b','b','a'], 'key2' : ['one','two','one','two','one'], 'data1' : np.random.randn(5), 'data2':np.random.randn(5)})"
      ],
      "metadata": {
        "id": "mVsPMlAnB2u5"
      },
      "execution_count": null,
      "outputs": []
    },
    {
      "cell_type": "code",
      "source": [
        "df"
      ],
      "metadata": {
        "id": "8HlSP6JyB2yB"
      },
      "execution_count": null,
      "outputs": []
    },
    {
      "cell_type": "code",
      "source": [
        "grouped = df['data1'].groupby(df['key1'])\n",
        "grouped"
      ],
      "metadata": {
        "id": "olWgiDSBB21I"
      },
      "execution_count": null,
      "outputs": []
    },
    {
      "cell_type": "code",
      "source": [
        "grouped.mean()"
      ],
      "metadata": {
        "id": "GtGwKWBSB24S"
      },
      "execution_count": null,
      "outputs": []
    },
    {
      "cell_type": "code",
      "source": [
        "df['data1'].groupby(df['key1']).mean()"
      ],
      "metadata": {
        "id": "qT2WSRr5EVPw"
      },
      "execution_count": null,
      "outputs": []
    },
    {
      "cell_type": "code",
      "source": [
        "means = df['data1'].groupby([df['key1'], df['key2']]).mean()\n",
        "means"
      ],
      "metadata": {
        "id": "NePBSYZHB274"
      },
      "execution_count": null,
      "outputs": []
    },
    {
      "cell_type": "code",
      "source": [
        "means.unstack()"
      ],
      "metadata": {
        "id": "QCmfE9gmB2_Z"
      },
      "execution_count": null,
      "outputs": []
    },
    {
      "cell_type": "code",
      "source": [
        "df['data1']"
      ],
      "metadata": {
        "id": "CNTJy_QWFQ_3"
      },
      "execution_count": null,
      "outputs": []
    },
    {
      "cell_type": "code",
      "source": [
        "states = np.array(['Ohio','California','California', 'Ohio','Ohio'])\n",
        "years = np.array([2005,2005,2006,2005,2006])\n",
        "df['data1'].groupby([states,years]).mean()\n",
        "\n",
        "# 시리즈 길이만 같으면 그냥 묶어서 계산해줌"
      ],
      "metadata": {
        "id": "gAFDmefqB3C4"
      },
      "execution_count": null,
      "outputs": []
    },
    {
      "cell_type": "code",
      "source": [
        "df.groupby('key1').mean()\n",
        "# key2는 숫자형 데이터가 아니라 자동적으로 삭제함"
      ],
      "metadata": {
        "id": "ilWwyKfZB3KI"
      },
      "execution_count": null,
      "outputs": []
    },
    {
      "cell_type": "code",
      "source": [
        "df.groupby(['key1','key2']).size()\n",
        "# 그룹의 크기를 답고 있는 시리즈 반환"
      ],
      "metadata": {
        "id": "8FWhP9DtB3Ng"
      },
      "execution_count": null,
      "outputs": []
    },
    {
      "cell_type": "markdown",
      "source": [
        "### 10.1.1 그룹 간 순회하기"
      ],
      "metadata": {
        "id": "XNSikj79B3RY"
      }
    },
    {
      "cell_type": "code",
      "source": [
        "for name, group in df.groupby('key1') :\n",
        "  print(name)\n",
        "  print(group)"
      ],
      "metadata": {
        "id": "daRlTR1gB3Uy"
      },
      "execution_count": null,
      "outputs": []
    },
    {
      "cell_type": "code",
      "source": [
        "for (k1,k2), group in df.groupby(['key1','key2']) :\n",
        "  print((k1,k2))\n",
        "  print(group)"
      ],
      "metadata": {
        "id": "n0CO4KOzB3YQ"
      },
      "execution_count": null,
      "outputs": []
    },
    {
      "cell_type": "code",
      "source": [
        "pieces = dict(list(df.groupby('key1')))\n",
        "pieces"
      ],
      "metadata": {
        "id": "GJEssx6KB3cC"
      },
      "execution_count": null,
      "outputs": []
    },
    {
      "cell_type": "code",
      "source": [
        "pieces['b']"
      ],
      "metadata": {
        "id": "0AHpDI3sJ0al"
      },
      "execution_count": null,
      "outputs": []
    },
    {
      "cell_type": "markdown",
      "source": [
        "### 10.1.2 컬럼이나 컬럼의 일부만 선택하기\n"
      ],
      "metadata": {
        "id": "c45Wg_qeJ0eX"
      }
    },
    {
      "cell_type": "code",
      "source": [
        "df.groupby('key1')['data1']"
      ],
      "metadata": {
        "id": "VXpBKq71J0hl"
      },
      "execution_count": null,
      "outputs": []
    },
    {
      "cell_type": "code",
      "source": [
        "df.groupby('key1')[['data2']].mean()"
      ],
      "metadata": {
        "id": "YAcBSeZXJ0kX"
      },
      "execution_count": null,
      "outputs": []
    },
    {
      "cell_type": "code",
      "source": [
        "df.groupby('key1')['data2'].mean()"
      ],
      "metadata": {
        "id": "fjwQEKjKJ0n2"
      },
      "execution_count": null,
      "outputs": []
    },
    {
      "cell_type": "code",
      "source": [
        "df.groupby('key1').mean()"
      ],
      "metadata": {
        "id": "FLrwTO06J0rm"
      },
      "execution_count": null,
      "outputs": []
    },
    {
      "cell_type": "code",
      "source": [
        "s_grouped = df.groupby(['key1','key2'])[['data2']].mean()\n",
        "s_grouped"
      ],
      "metadata": {
        "id": "nOhhl86fJ0uu"
      },
      "execution_count": null,
      "outputs": []
    },
    {
      "cell_type": "markdown",
      "source": [
        "### 10.1.3 사전과 Series에서 그룹핑하기기"
      ],
      "metadata": {
        "id": "I8MY7aj5J0yN"
      }
    },
    {
      "cell_type": "code",
      "source": [
        "people = pd.DataFrame(np.random.randn(5,5), columns = ['a','b','c','d','e'], index = ['Joe','Steve','Wes','Jim','Travis'])\n",
        "people"
      ],
      "metadata": {
        "id": "9GqKwD5bJ01t"
      },
      "execution_count": null,
      "outputs": []
    },
    {
      "cell_type": "code",
      "source": [
        "people.iloc[2:3,[1,2]] = np.nan"
      ],
      "metadata": {
        "id": "YvzofdbiJ05e"
      },
      "execution_count": null,
      "outputs": []
    },
    {
      "cell_type": "code",
      "source": [
        "mapping = {'a' :'red','b':'red','c':'blue','d':'blue','e':'red','f':'orange'}"
      ],
      "metadata": {
        "id": "kzNFV0G1J09O"
      },
      "execution_count": null,
      "outputs": []
    },
    {
      "cell_type": "code",
      "source": [],
      "metadata": {
        "id": "kpH-tjhpJ1Au"
      },
      "execution_count": null,
      "outputs": []
    },
    {
      "cell_type": "code",
      "source": [],
      "metadata": {
        "id": "YUcViD0zJ1D2"
      },
      "execution_count": null,
      "outputs": []
    },
    {
      "cell_type": "code",
      "source": [],
      "metadata": {
        "id": "a_EtsPTjJ1Gw"
      },
      "execution_count": null,
      "outputs": []
    },
    {
      "cell_type": "code",
      "source": [],
      "metadata": {
        "id": "sxkSYfeeJ1KK"
      },
      "execution_count": null,
      "outputs": []
    },
    {
      "cell_type": "code",
      "source": [],
      "metadata": {
        "id": "YEcnfZ1vJ1OX"
      },
      "execution_count": null,
      "outputs": []
    }
  ]
}