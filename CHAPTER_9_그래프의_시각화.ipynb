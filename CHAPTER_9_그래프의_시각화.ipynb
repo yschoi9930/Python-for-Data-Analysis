{
  "nbformat": 4,
  "nbformat_minor": 0,
  "metadata": {
    "colab": {
      "private_outputs": true,
      "provenance": [],
      "mount_file_id": "1nb4aF7M4vxNpaE42hYUAu67-p1bzPzvb",
      "authorship_tag": "ABX9TyPEZTBnwbnr0T4rCx9SexF7",
      "include_colab_link": true
    },
    "kernelspec": {
      "name": "python3",
      "display_name": "Python 3"
    },
    "language_info": {
      "name": "python"
    }
  },
  "cells": [
    {
      "cell_type": "markdown",
      "metadata": {
        "id": "view-in-github",
        "colab_type": "text"
      },
      "source": [
        "<a href=\"https://colab.research.google.com/github/yschoi9930/Python-for-Data-Analysis/blob/main/CHAPTER_9_%EA%B7%B8%EB%9E%98%ED%94%84%EC%9D%98_%EC%8B%9C%EA%B0%81%ED%99%94.ipynb\" target=\"_parent\"><img src=\"https://colab.research.google.com/assets/colab-badge.svg\" alt=\"Open In Colab\"/></a>"
      ]
    },
    {
      "cell_type": "markdown",
      "source": [
        "# CHAPTER 9. 그래프의 시각화"
      ],
      "metadata": {
        "id": "EBH6E_0yaKor"
      }
    },
    {
      "cell_type": "markdown",
      "source": [
        "## 9.1 matplotlib API 간략하게 살펴보기"
      ],
      "metadata": {
        "id": "o6-b9hGrxdCC"
      }
    },
    {
      "cell_type": "code",
      "source": [
        "import matplotlib.pyplot as plt"
      ],
      "metadata": {
        "id": "hGoYkJirxdFz"
      },
      "execution_count": null,
      "outputs": []
    },
    {
      "cell_type": "code",
      "source": [
        "import numpy as np\n",
        "import pandas as pd"
      ],
      "metadata": {
        "id": "UHOL8-nOxdJb"
      },
      "execution_count": null,
      "outputs": []
    },
    {
      "cell_type": "code",
      "source": [
        "data = np.arange(10)\n",
        "plt.plot(data)"
      ],
      "metadata": {
        "id": "YmbaPcuhxdMp"
      },
      "execution_count": null,
      "outputs": []
    },
    {
      "cell_type": "markdown",
      "source": [
        "### 9.1.1 figure와 서브플롯"
      ],
      "metadata": {
        "id": "YnbzN-s8xdPp"
      }
    },
    {
      "cell_type": "code",
      "source": [
        "fig = plt.figure()"
      ],
      "metadata": {
        "id": "SCekuNgKxdTR"
      },
      "execution_count": null,
      "outputs": []
    },
    {
      "cell_type": "code",
      "source": [
        "ax1 = fig.add_subplot(2,2,1) # figure가 2x2 크기이고 4개의 서브플롯 중에서 첫번째를 선택하겠다는 뜻뜻"
      ],
      "metadata": {
        "id": "aAsIughdxdXS"
      },
      "execution_count": null,
      "outputs": []
    },
    {
      "cell_type": "code",
      "source": [
        "ax2 = fig.add_subplot(2,2,2)"
      ],
      "metadata": {
        "id": "ebCQ1Vxmxday"
      },
      "execution_count": null,
      "outputs": []
    },
    {
      "cell_type": "code",
      "source": [
        "ax3 = fig.add_subplot(2,2,3)\n",
        "fig"
      ],
      "metadata": {
        "id": "MHx0bKGExde7"
      },
      "execution_count": null,
      "outputs": []
    },
    {
      "cell_type": "code",
      "source": [
        "plt.plot(np.random.randn(50).cumsum(), 'k--')"
      ],
      "metadata": {
        "id": "hF2BMJwixdib"
      },
      "execution_count": null,
      "outputs": []
    },
    {
      "cell_type": "code",
      "source": [
        "_ = ax1.hist(np.random.randn(100), bins = 20, color = 'k', alpha = 0.3)"
      ],
      "metadata": {
        "id": "Dd_X-fHuxdlh"
      },
      "execution_count": null,
      "outputs": []
    },
    {
      "cell_type": "code",
      "source": [
        "ax2.scatter(np.arange(30), np.arange(30)+3*np.random.randn(30))"
      ],
      "metadata": {
        "id": "s_qLzV8zxdo6"
      },
      "execution_count": null,
      "outputs": []
    },
    {
      "cell_type": "code",
      "source": [
        "ax3"
      ],
      "metadata": {
        "id": "I4NonM6N32lF"
      },
      "execution_count": null,
      "outputs": []
    },
    {
      "cell_type": "code",
      "source": [
        "ax3.plot(np.random.randn(50).cumsum())"
      ],
      "metadata": {
        "id": "OuDrVQ693uVL"
      },
      "execution_count": null,
      "outputs": []
    },
    {
      "cell_type": "code",
      "source": [
        "fig"
      ],
      "metadata": {
        "id": "eYl3ahogxdsx"
      },
      "execution_count": null,
      "outputs": []
    },
    {
      "cell_type": "code",
      "source": [
        "fig, axes = plt.subplots(2,3)\n",
        "axes"
      ],
      "metadata": {
        "id": "tbXSV3hOxdwJ"
      },
      "execution_count": null,
      "outputs": []
    },
    {
      "cell_type": "markdown",
      "source": [
        "- 서브플롯 간의 간격 조절하기"
      ],
      "metadata": {
        "id": "t8O_vwFHxdzq"
      }
    },
    {
      "cell_type": "markdown",
      "source": [
        "subplots_adjust(left=None, bpttom = None, right = None, top = None, wspace = None, hspace = None)"
      ],
      "metadata": {
        "id": "uBZzIyJTxd3K"
      }
    },
    {
      "cell_type": "code",
      "source": [
        "fig, axes = plt.subplots(2,2, sharex=True, sharey = True)\n",
        "for i in range(2) :\n",
        "  for j in range(2):\n",
        "    axes[i,j].hist(np.random.randn(500), bins = 50, color = 'k', alpha = 0.5)\n",
        "plt.subplots_adjust(wspace=0, hspace=0)"
      ],
      "metadata": {
        "id": "51heZXQExd6h"
      },
      "execution_count": null,
      "outputs": []
    },
    {
      "cell_type": "markdown",
      "source": [
        "### 9.1.2 색상, 마커, 선 스타일"
      ],
      "metadata": {
        "id": "FXkMmAHDxd-a"
      }
    },
    {
      "cell_type": "code",
      "source": [
        "from numpy.random import randn"
      ],
      "metadata": {
        "id": "yJxoiJY9_LYd"
      },
      "execution_count": null,
      "outputs": []
    },
    {
      "cell_type": "code",
      "source": [
        "plt.plot(randn(30).cumsum(), 'ko--')"
      ],
      "metadata": {
        "id": "0xvGUXxjxeBj"
      },
      "execution_count": null,
      "outputs": []
    },
    {
      "cell_type": "code",
      "source": [
        "plt.plot(randn(30).cumsum(), color = 'k', linestyle='dashed', marker = 'o')"
      ],
      "metadata": {
        "id": "jmA4o2nOxeFM"
      },
      "execution_count": null,
      "outputs": []
    },
    {
      "cell_type": "code",
      "source": [
        "plt.plot(data, 'k--', label = 'Default')\n",
        "plt.plot(data, 'k--', drawstyle='steps-post', label='steps-post')\n",
        "plt.legend(loc='best')"
      ],
      "metadata": {
        "id": "KHih08LOxeMh"
      },
      "execution_count": null,
      "outputs": []
    },
    {
      "cell_type": "markdown",
      "source": [
        "### 9.1.3 눈금, 라벨, 범례"
      ],
      "metadata": {
        "id": "L6pD8yKVxeTZ"
      }
    },
    {
      "cell_type": "markdown",
      "source": [
        "- 제목, 축 이름, 눈금, 눈금 이름 설정하기"
      ],
      "metadata": {
        "id": "zpOUyagidjr4"
      }
    },
    {
      "cell_type": "code",
      "source": [
        "fig = plt.figure()"
      ],
      "metadata": {
        "id": "akNsj_VrA_In"
      },
      "execution_count": null,
      "outputs": []
    },
    {
      "cell_type": "code",
      "source": [
        "ax = plt.subplot(1,1,1)\n",
        "ax.plot(np.random.randn(1000).cumsum())\n",
        "ticks = ax.set_xticks([0,250,500,750,1000])\n",
        "labels = ax.set_xticklabels(['one','two','three','four','five'], rotation = 30, fontsize = 'small')\n",
        "ax.set_title('My first matplotlib plot')\n",
        "ax.set_xlabel('Stages')"
      ],
      "metadata": {
        "id": "2qGJn6MrA_QT"
      },
      "execution_count": null,
      "outputs": []
    },
    {
      "cell_type": "markdown",
      "source": [
        "- 범례 추가하기"
      ],
      "metadata": {
        "id": "9upfgsO8dWv7"
      }
    },
    {
      "cell_type": "code",
      "source": [
        "from numpy.random import randn\n",
        "fig = plt.figure()\n",
        "ax = plt.subplot(1,1,1)\n",
        "ax.plot(randn(1000).cumsum(), 'k', label = 'one')\n",
        "ax.plot(randn(1000).cumsum(), 'k', label = 'two')\n",
        "ax.plot(randn(1000).cumsum(), 'k', label = 'three')\n",
        "ax.legend(loc='best') # 위치 베스트에 둬라"
      ],
      "metadata": {
        "id": "r_MMb_QcA_Tz"
      },
      "execution_count": null,
      "outputs": []
    },
    {
      "cell_type": "markdown",
      "source": [
        "### 9.1.4 주석과 그림 추가하기 (버전이 다른지 잘 안됨,,)"
      ],
      "metadata": {
        "id": "R9a6sBZXA_W7"
      }
    },
    {
      "cell_type": "markdown",
      "source": [
        "ax.text(x,y, 'Hello world', family = 'monospace', fontsize = 10)"
      ],
      "metadata": {
        "id": "T5aF87x-A_aD"
      }
    },
    {
      "cell_type": "code",
      "source": [
        "from datetime import datetime"
      ],
      "metadata": {
        "id": "Oqtq8q04A_dT"
      },
      "execution_count": null,
      "outputs": []
    },
    {
      "cell_type": "code",
      "source": [
        "data"
      ],
      "metadata": {
        "id": "-FaZAcUZA_3D"
      },
      "execution_count": null,
      "outputs": []
    },
    {
      "cell_type": "code",
      "source": [],
      "metadata": {
        "id": "uCz5VPAZle2_"
      },
      "execution_count": null,
      "outputs": []
    },
    {
      "cell_type": "code",
      "source": [
        "%matplotlib inline"
      ],
      "metadata": {
        "id": "1392avOxmBWQ"
      },
      "execution_count": null,
      "outputs": []
    },
    {
      "cell_type": "code",
      "source": [
        "fig = plt.figure()\n",
        "ax = plt.subplot(1,1,1)\n",
        "ax.plot(data['Date'], data['SPX'])\n",
        "ax.set_xlim(['1/1/2007','1/1/2011'])\n",
        "ax.set_ylim([600,1800])"
      ],
      "metadata": {
        "id": "b7MdfRdClKLQ"
      },
      "execution_count": null,
      "outputs": []
    },
    {
      "cell_type": "markdown",
      "source": [
        "### 9.1.5 그래프를 파일로 저장하기\n",
        "- plt.savefig('figpath.svg')"
      ],
      "metadata": {
        "id": "xtz5mQ4nnfre"
      }
    },
    {
      "cell_type": "markdown",
      "source": [
        "### 9.1.6 matplotlib 설정"
      ],
      "metadata": {
        "id": "jOxiKSjFnfuq"
      }
    },
    {
      "cell_type": "markdown",
      "source": [
        "- figure 크기를 10x10으로 전역 설정해두고 싶다면"
      ],
      "metadata": {
        "id": "hYvUQ3V6nfxi"
      }
    },
    {
      "cell_type": "code",
      "source": [
        "plt.rc('figure', figsize = (10,10))"
      ],
      "metadata": {
        "id": "ll1uiol2nf03"
      },
      "execution_count": null,
      "outputs": []
    },
    {
      "cell_type": "code",
      "source": [
        "font_options = {'family':'monospace', 'weight':'bold', 'size':10}\n",
        "plt.rc('font', **font_options)"
      ],
      "metadata": {
        "id": "miRRe9Vznf3j"
      },
      "execution_count": null,
      "outputs": []
    },
    {
      "cell_type": "markdown",
      "source": [
        "## pandas에서 seaborn 으로 그래프 그리기"
      ],
      "metadata": {
        "id": "sut9UiREnf6c"
      }
    },
    {
      "cell_type": "markdown",
      "source": [
        "### 9.2.1 선그래프"
      ],
      "metadata": {
        "id": "B3Nclqqfnf9C"
      }
    },
    {
      "cell_type": "code",
      "source": [
        "s = pd.Series(np.random.randn(10).cumsum(), index = np.arange(0,100,10))\n",
        "s.plot()"
      ],
      "metadata": {
        "id": "-VkZ86lynf_-"
      },
      "execution_count": null,
      "outputs": []
    },
    {
      "cell_type": "code",
      "source": [
        "s"
      ],
      "metadata": {
        "id": "OlJfWlhRngCj"
      },
      "execution_count": null,
      "outputs": []
    },
    {
      "cell_type": "markdown",
      "source": [
        "- dataframe의 plot 메서드는 하나의 서브플롯 안에 각 컬럼별로 선 그래프를 자동적으로 그리고 범례를 생성한다."
      ],
      "metadata": {
        "id": "W2ZmntOXngFS"
      }
    },
    {
      "cell_type": "code",
      "source": [
        "df = pd.DataFrame(np.random.randn(10,4).cumsum(0), columns=['A','B','C','D'], index = np.arange(0,100,10))\n",
        "df.plot()"
      ],
      "metadata": {
        "id": "MNgKcA2_ngIS"
      },
      "execution_count": null,
      "outputs": []
    },
    {
      "cell_type": "markdown",
      "source": [
        "### 9.2.2 막대그래프"
      ],
      "metadata": {
        "id": "_fuGGxv4ngLQ"
      }
    },
    {
      "cell_type": "code",
      "source": [
        "fig, axes = plt.subplots(2,1)\n",
        "data = pd.Series(np.random.rand(16), index = list('abcdefghijklmnop'))\n",
        "data.plot.bar(ax=axes[0], color = 'k', alpha = 0.7)\n",
        "data.plot.barh(ax=axes[1], color = 'k', alpha = 0.7)"
      ],
      "metadata": {
        "id": "3PwvH1sIrR-H"
      },
      "execution_count": null,
      "outputs": []
    },
    {
      "cell_type": "code",
      "source": [
        "df = pd.DataFrame(np.random.rand(6,4), index = ['one','two', 'three','four','five','six'], columns = pd.Index(['A','B','C','D'], name = 'Genus'))\n",
        "df"
      ],
      "metadata": {
        "id": "2OpcA-TtrSBQ"
      },
      "execution_count": null,
      "outputs": []
    },
    {
      "cell_type": "code",
      "source": [
        "df.plot.bar()"
      ],
      "metadata": {
        "id": "CwfIT5FBrSEU"
      },
      "execution_count": null,
      "outputs": []
    },
    {
      "cell_type": "code",
      "source": [
        "df.plot.barh(stacked = True, alpha = 0.5)"
      ],
      "metadata": {
        "id": "lFE7BHP2rSG6"
      },
      "execution_count": null,
      "outputs": []
    },
    {
      "cell_type": "code",
      "source": [
        "tips = pd.read_csv('/content/drive/MyDrive/Python for Data Analysis/examples/tips.csv')"
      ],
      "metadata": {
        "id": "dY68t9O3rSJZ"
      },
      "execution_count": null,
      "outputs": []
    },
    {
      "cell_type": "code",
      "source": [
        "tips"
      ],
      "metadata": {
        "id": "yIslVUdkFVVZ"
      },
      "execution_count": null,
      "outputs": []
    },
    {
      "cell_type": "code",
      "source": [
        "party_counts = pd.crosstab(tips['day'], tips['size'])"
      ],
      "metadata": {
        "id": "toipy5NorSMH"
      },
      "execution_count": null,
      "outputs": []
    },
    {
      "cell_type": "code",
      "source": [
        "party_counts"
      ],
      "metadata": {
        "id": "kfGFF0WErSOw"
      },
      "execution_count": null,
      "outputs": []
    },
    {
      "cell_type": "code",
      "source": [
        "# 1인과 6인 파티는 제외\n",
        "party_counts = party_counts.loc[:,2:5]\n",
        "party_counts"
      ],
      "metadata": {
        "id": "0eWMNtUPrSR2"
      },
      "execution_count": null,
      "outputs": []
    },
    {
      "cell_type": "code",
      "source": [
        "party_counts.plot.bar(stacked=True)"
      ],
      "metadata": {
        "id": "vc1ROVJ_rSUW"
      },
      "execution_count": null,
      "outputs": []
    },
    {
      "cell_type": "code",
      "source": [
        "order = ['Thur','Fri','Sat','Sun']\n",
        "pt = party_counts.loc[order]"
      ],
      "metadata": {
        "id": "dN7L2L0frSXD"
      },
      "execution_count": null,
      "outputs": []
    },
    {
      "cell_type": "code",
      "source": [
        "pt"
      ],
      "metadata": {
        "id": "_msTDO6dHhYa"
      },
      "execution_count": null,
      "outputs": []
    },
    {
      "cell_type": "code",
      "source": [
        "pt.plot.barh(stacked=True)"
      ],
      "metadata": {
        "id": "lHAWm-wdrSZz"
      },
      "execution_count": null,
      "outputs": []
    },
    {
      "cell_type": "code",
      "source": [
        "import seaborn as sns"
      ],
      "metadata": {
        "id": "ciezSFl5rSci"
      },
      "execution_count": null,
      "outputs": []
    },
    {
      "cell_type": "code",
      "source": [
        "tips['tip_pct'] = tips['tip']/(tips['total_bill']-tips['tip'])\n",
        "tips.head()"
      ],
      "metadata": {
        "id": "nZUWLbHvrSfI"
      },
      "execution_count": null,
      "outputs": []
    },
    {
      "cell_type": "code",
      "source": [
        "sns.barplot(x='tip_pct', y = 'day', data = tips , orient = 'h')"
      ],
      "metadata": {
        "id": "rvs_sZHJrSho"
      },
      "execution_count": null,
      "outputs": []
    },
    {
      "cell_type": "code",
      "source": [
        "sns.barplot(x = 'tip_pct', y ='day', hue = 'time', data=tips)"
      ],
      "metadata": {
        "id": "ZrEzYvSNIN3j"
      },
      "execution_count": null,
      "outputs": []
    },
    {
      "cell_type": "code",
      "source": [
        "sns.set(style = 'whitegrid')"
      ],
      "metadata": {
        "id": "sHmGmP_fIN-6"
      },
      "execution_count": null,
      "outputs": []
    },
    {
      "cell_type": "code",
      "source": [
        "sns.barplot(x = 'tip_pct', y ='day', hue = 'time', data=tips)"
      ],
      "metadata": {
        "id": "0C7PDVREIOCD"
      },
      "execution_count": null,
      "outputs": []
    },
    {
      "cell_type": "markdown",
      "source": [
        "### 9.2.3 히스토그램과 밀도 그래프"
      ],
      "metadata": {
        "id": "MBCmN7nqIOFh"
      }
    },
    {
      "cell_type": "code",
      "source": [
        "tips['tip_pct'].plot.hist(bins=50)"
      ],
      "metadata": {
        "id": "68h0iRpSIOIs"
      },
      "execution_count": null,
      "outputs": []
    },
    {
      "cell_type": "code",
      "source": [
        "tips['tip_pct'].plot.density(c)"
      ],
      "metadata": {
        "id": "hlfkXmvmIOLy"
      },
      "execution_count": null,
      "outputs": []
    },
    {
      "cell_type": "code",
      "source": [
        "comp1 = np.random.normal(0,1, size =200)\n",
        "comp2 = np.random.normal(10,2,size=200)"
      ],
      "metadata": {
        "id": "dMCiWYOuIOPQ"
      },
      "execution_count": null,
      "outputs": []
    },
    {
      "cell_type": "code",
      "source": [
        "values = pd.Series(np.concatenate([comp1,comp2]))\n",
        "values"
      ],
      "metadata": {
        "id": "vTburnelIOSb"
      },
      "execution_count": null,
      "outputs": []
    },
    {
      "cell_type": "code",
      "source": [
        "sns.distplot(values, bins=10, color='k')"
      ],
      "metadata": {
        "id": "6dg5gMe2IOV6"
      },
      "execution_count": null,
      "outputs": []
    },
    {
      "cell_type": "markdown",
      "source": [
        "### 9.2.4 산포도"
      ],
      "metadata": {
        "id": "8CYckXVCIOZC"
      }
    },
    {
      "cell_type": "code",
      "source": [
        "marco = pd.read_csv('/content/drive/MyDrive/Python for Data Analysis/examples/macrodata.csv')"
      ],
      "metadata": {
        "id": "c4ZXjJDWIOcm"
      },
      "execution_count": null,
      "outputs": []
    },
    {
      "cell_type": "code",
      "source": [
        "marco"
      ],
      "metadata": {
        "id": "vkZWl4vqz7pt"
      },
      "execution_count": null,
      "outputs": []
    },
    {
      "cell_type": "code",
      "source": [
        "data = marco[['cpi','m1','tbilrate','unemp']]\n",
        "trans_data = np.log(data).diff().dropna()\n",
        "trans_data"
      ],
      "metadata": {
        "id": "XKtXSJLv0AR4"
      },
      "execution_count": null,
      "outputs": []
    },
    {
      "cell_type": "code",
      "source": [
        "sns.regplot(x = 'm1', y = 'unemp', data = trans_data)"
      ],
      "metadata": {
        "id": "2MSXXEQDz1mo"
      },
      "execution_count": null,
      "outputs": []
    },
    {
      "cell_type": "code",
      "source": [
        "sns.pairplot(trans_data, diag_kind = 'kde', plot_kws = {'alpha':0.2})"
      ],
      "metadata": {
        "id": "aYyNv5A2z2Rt"
      },
      "execution_count": null,
      "outputs": []
    },
    {
      "cell_type": "markdown",
      "source": [
        "### 9.2.5 패싯그리드와 범주형 데이터"
      ],
      "metadata": {
        "id": "s4up2kojz2U0"
      }
    },
    {
      "cell_type": "code",
      "source": [
        "!pip install -U seaborn"
      ],
      "metadata": {
        "id": "VZJ07TG12Ilc"
      },
      "execution_count": null,
      "outputs": []
    },
    {
      "cell_type": "code",
      "source": [
        "sns.catplot(x='day',y='tip_pct', hue = 'time', col='smoker', kind = 'bar', data = tips[tips.tip_pct<1])"
      ],
      "metadata": {
        "id": "R2eWxBDvz2Xt"
      },
      "execution_count": null,
      "outputs": []
    },
    {
      "cell_type": "code",
      "source": [
        "sns.catplot(x='day',y='tip_pct', row = 'time', col='smoker', kind = 'bar', data = tips[tips.tip_pct<1])"
      ],
      "metadata": {
        "id": "tVLooixCz2aQ"
      },
      "execution_count": null,
      "outputs": []
    },
    {
      "cell_type": "code",
      "source": [
        "sns.catplot(x='tip_pct',y='day',kind = 'box', data = tips[tips.tip_pct<1])"
      ],
      "metadata": {
        "id": "ny2knu3Dz2dQ"
      },
      "execution_count": null,
      "outputs": []
    },
    {
      "cell_type": "code",
      "source": [],
      "metadata": {
        "id": "sxe4PS_4z2gU"
      },
      "execution_count": null,
      "outputs": []
    },
    {
      "cell_type": "code",
      "source": [],
      "metadata": {
        "id": "2pbCXAnIz2iW"
      },
      "execution_count": null,
      "outputs": []
    },
    {
      "cell_type": "code",
      "source": [],
      "metadata": {
        "id": "ztMQoSUFz2kd"
      },
      "execution_count": null,
      "outputs": []
    },
    {
      "cell_type": "code",
      "source": [],
      "metadata": {
        "id": "9iOZZ-11z2nF"
      },
      "execution_count": null,
      "outputs": []
    },
    {
      "cell_type": "code",
      "source": [],
      "metadata": {
        "id": "BFg98oddz2pd"
      },
      "execution_count": null,
      "outputs": []
    },
    {
      "cell_type": "code",
      "source": [
        "b"
      ],
      "metadata": {
        "id": "6CwmFOdkz2sk"
      },
      "execution_count": null,
      "outputs": []
    },
    {
      "cell_type": "code",
      "source": [],
      "metadata": {
        "id": "pyIdGw2-z2wl"
      },
      "execution_count": null,
      "outputs": []
    },
    {
      "cell_type": "code",
      "source": [],
      "metadata": {
        "id": "LKznQx3_z2zE"
      },
      "execution_count": null,
      "outputs": []
    },
    {
      "cell_type": "code",
      "source": [],
      "metadata": {
        "id": "A5ckIdO_z21r"
      },
      "execution_count": null,
      "outputs": []
    },
    {
      "cell_type": "code",
      "source": [],
      "metadata": {
        "id": "pQBDtoTcz24R"
      },
      "execution_count": null,
      "outputs": []
    },
    {
      "cell_type": "code",
      "source": [],
      "metadata": {
        "id": "Ctl2fwp1z26O"
      },
      "execution_count": null,
      "outputs": []
    },
    {
      "cell_type": "code",
      "source": [],
      "metadata": {
        "id": "HlDMuJGlz29O"
      },
      "execution_count": null,
      "outputs": []
    },
    {
      "cell_type": "code",
      "source": [],
      "metadata": {
        "id": "GUlnnx18z2-m"
      },
      "execution_count": null,
      "outputs": []
    }
  ]
}