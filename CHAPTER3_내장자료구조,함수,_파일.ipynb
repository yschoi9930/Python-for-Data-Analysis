{
  "nbformat": 4,
  "nbformat_minor": 0,
  "metadata": {
    "colab": {
      "private_outputs": true,
      "provenance": [],
      "authorship_tag": "ABX9TyOK4WCbd8z96RhtAKwpnQFR",
      "include_colab_link": true
    },
    "kernelspec": {
      "name": "python3",
      "display_name": "Python 3"
    },
    "language_info": {
      "name": "python"
    }
  },
  "cells": [
    {
      "cell_type": "markdown",
      "metadata": {
        "id": "view-in-github",
        "colab_type": "text"
      },
      "source": [
        "<a href=\"https://colab.research.google.com/github/yschoi9930/Python-for-Data-Analysis/blob/main/CHAPTER3_%EB%82%B4%EC%9E%A5%EC%9E%90%EB%A3%8C%EA%B5%AC%EC%A1%B0%2C%ED%95%A8%EC%88%98%2C_%ED%8C%8C%EC%9D%BC.ipynb\" target=\"_parent\"><img src=\"https://colab.research.google.com/assets/colab-badge.svg\" alt=\"Open In Colab\"/></a>"
      ]
    },
    {
      "cell_type": "markdown",
      "source": [
        "# CHAPTER3  내장자료구조,함수, 파일"
      ],
      "metadata": {
        "id": "phLqzlKYngLM"
      }
    },
    {
      "cell_type": "markdown",
      "source": [
        "## 3.1 자료구조와 순차 자료"
      ],
      "metadata": {
        "id": "8bmsP2WBnb6b"
      }
    },
    {
      "cell_type": "markdown",
      "source": [
        "### 3.1.1 튜플\n",
        " \n",
        "- 1차원의 고정된 크기를 가지는 변경 불가능한 순차 자료형\n",
        "- 괄호를 사용해서 묶어줌으로써 중첩된 튜플 정의 가능 \n",
        "- 모든 순차 자료형이나 이터레이터는 tuple 메서드를 호출해 튜플로 변환 가능\n",
        "  -  이터레이터?? : \n",
        "  내부 요소를 하나씩 리턴할 수 있는 객체는 iterable 하다고 표현\n",
        "  BUT, iterable한 것 중 __next__ 메소드를 가진 것을 Iterator라 함\n",
        "  iter함수/__iter__메소드를 활용해 iterable한 변수를 iterator로 바꿀 수 있음\n",
        "- 튜플에 저장된 객체 자체는 변경이 가능하지만 한 번 생성되면 각 슬롯에 저장된 객체를 변경하는 것은 불가능하다.\n",
        "- 튜플 내에 저장된 객체는 그 위치에서 바로 변경이 가능\n",
        "- 연산자를 이용해서 튜플을 이어 붙일 수 있다.\n",
        "- 튜플에 정수를 곱하면 복사본이 반복되어 늘어남"
      ],
      "metadata": {
        "id": "RxpE5laanpmB"
      }
    },
    {
      "cell_type": "code",
      "source": [
        "tup = 4,5,6\n",
        "tup"
      ],
      "metadata": {
        "id": "S8ViEnKwnnK8"
      },
      "execution_count": null,
      "outputs": []
    },
    {
      "cell_type": "code",
      "source": [
        "nested_tup = (4,5,6),(7,8)\n",
        "nested_tup"
      ],
      "metadata": {
        "id": "3pZJdhm9r3YS"
      },
      "execution_count": null,
      "outputs": []
    },
    {
      "cell_type": "code",
      "source": [
        "list_1 = [4,0,2]\n",
        "tup = tuple(list_1)\n",
        "tup\n",
        "\n",
        "tup = tuple('string')\n",
        "tup"
      ],
      "metadata": {
        "id": "iIteJ7aGr3sl"
      },
      "execution_count": null,
      "outputs": []
    },
    {
      "cell_type": "code",
      "source": [
        "tup[0]"
      ],
      "metadata": {
        "id": "QTSnsG_Tr416"
      },
      "execution_count": null,
      "outputs": []
    },
    {
      "cell_type": "code",
      "source": [
        "tup = tuple(['foo',[1,2],True])\n",
        "tup[2] = False"
      ],
      "metadata": {
        "id": "YhPdNpEGr3wR"
      },
      "execution_count": null,
      "outputs": []
    },
    {
      "cell_type": "code",
      "source": [
        "tup[1].append(3)\n",
        "tup"
      ],
      "metadata": {
        "id": "4hOihakpr30M"
      },
      "execution_count": null,
      "outputs": []
    },
    {
      "cell_type": "code",
      "source": [
        "# 튜플에서 값 분리하기\n",
        "# 튜플과 같은 표현의 변수에 튜플을 대입하면 파이썬은 등호 오른쪽에 있는 변수에서 값을 분리함\n",
        "# 중첩된 튜플을 포함해도 가능\n",
        "tup = (4,5,6)\n",
        "a,b,c = tup\n",
        "b\n",
        "\n",
        "tup = 4,5,(6,7)\n",
        "a,b,(c,d) = tup\n",
        "d"
      ],
      "metadata": {
        "id": "915qGRO-r33q"
      },
      "execution_count": null,
      "outputs": []
    },
    {
      "cell_type": "code",
      "source": [
        "# 이 방법을 통해 변수의 이름을 바꾸는 것을 쉽게 처리할 수 있음\n",
        "\n",
        "a,b = 1,2\n",
        "\n",
        "b,a, = a,b\n",
        "\n",
        "b"
      ],
      "metadata": {
        "id": "yi35G5NKr37c"
      },
      "execution_count": null,
      "outputs": []
    },
    {
      "cell_type": "code",
      "source": [
        "# 튜플의 처음 몇몇 값을 끄집어내야 하는 상황을 위해 특수한 문법인 *rest를 사용\n",
        "# 함수의 시그니처에서 길이를 알 수 없는 긴 인자를 담기 위한 방법으로도 사용\n",
        "\n",
        "values = 1,2,3,4,5\n",
        "\n",
        "a,b, *rest = values\n",
        "\n",
        "a,b,rest"
      ],
      "metadata": {
        "id": "R2FMuK1uNIDV"
      },
      "execution_count": null,
      "outputs": []
    },
    {
      "cell_type": "code",
      "source": [
        "# 튜플의 크기와 내용은 변경이 불가능해 인스턴스 메서드가 많지 않음\n",
        "# count 메서드 정도 사용 -> 튜플 내의 주어진 값이 몇개 있는지 반환\n",
        "\n",
        "a = (1,2,2,2,3,4,2)\n",
        "a.count(2)"
      ],
      "metadata": {
        "id": "_cBV1thxNIKw"
      },
      "execution_count": null,
      "outputs": []
    },
    {
      "cell_type": "markdown",
      "source": [
        "### 3.1.2 리스트\n",
        "- 튜플과 대조적으로 리스트는 크기나 내용의 변경이 가능\n",
        "- 대괄호나 list함수를 사용해서 생성\n",
        "- list 함수는 이터레이터나 제너레이터 표현에서 실제 값을 모두 담기 위한 용도로도 자주 사용"
      ],
      "metadata": {
        "id": "BxWmwXLANIOc"
      }
    },
    {
      "cell_type": "code",
      "source": [
        "a_list = [2,3,7,None]\n",
        "tup = ('foo','bar','baz')\n",
        "\n",
        "b_list = list(tup)\n",
        "b_list\n",
        "\n",
        "b_list[1] = 'peekaboo'\n",
        "b_list"
      ],
      "metadata": {
        "id": "wS0OQQoWNIR8"
      },
      "execution_count": null,
      "outputs": []
    },
    {
      "cell_type": "code",
      "source": [
        "gen = range(10)\n",
        "\n",
        "gen\n",
        "list(gen)"
      ],
      "metadata": {
        "id": "f8l3gyOfNIYU"
      },
      "execution_count": null,
      "outputs": []
    },
    {
      "cell_type": "code",
      "source": [
        "# 원소 추가하고 삭제하기\n",
        "b_list.append('dwarf')\n",
        "b_list"
      ],
      "metadata": {
        "id": "nKxh323sPaQZ"
      },
      "execution_count": null,
      "outputs": []
    },
    {
      "cell_type": "code",
      "source": [
        "# insert 메서드를 사용해서 리스트의 특정 위치에 값 추가 가능\n",
        "# insert는 append에 비해 연산비용이 많이 든다\n",
        "b_list.insert(1,'red')\n",
        "b_list"
      ],
      "metadata": {
        "id": "FfZDp8d3PaTx"
      },
      "execution_count": null,
      "outputs": []
    },
    {
      "cell_type": "code",
      "source": [
        "# pop 메서드를 사용해서 특정 위치의 값을 반환하고 해당 값을 리스트에서 삭제\n",
        "b_list.pop(2)\n",
        "b_list"
      ],
      "metadata": {
        "id": "WINxNLdUPaXi"
      },
      "execution_count": null,
      "outputs": []
    },
    {
      "cell_type": "code",
      "source": [
        "# remove 메서드를 이용해서 원소를 삭제 가능, 삭제는 리스트에서 제일 앞에 위치한 값부터 이루어진다.\n",
        "b_list.append('foo')\n",
        "b_list.remove('foo')\n",
        "b_list"
      ],
      "metadata": {
        "id": "alPcpOWKPaa6"
      },
      "execution_count": null,
      "outputs": []
    },
    {
      "cell_type": "code",
      "source": [
        "# in 예약어를 사용해서 리스트에 어떤 값이 있는지 검사 가능\n",
        "'dwarf' in b_list"
      ],
      "metadata": {
        "id": "fM9IMKVHPaeY"
      },
      "execution_count": null,
      "outputs": []
    },
    {
      "cell_type": "code",
      "source": [
        "'peekaboo' not in b_list"
      ],
      "metadata": {
        "id": "yJN7OICWPaik"
      },
      "execution_count": null,
      "outputs": []
    },
    {
      "cell_type": "code",
      "source": [
        "# 리스트 이어 붙이기 -> + 연산자 사용\n",
        "[4,None,'foo'] + [7,8,(2,3)]"
      ],
      "metadata": {
        "id": "IcGwRsKBRY00"
      },
      "execution_count": null,
      "outputs": []
    },
    {
      "cell_type": "code",
      "source": [
        "# 리스트 이어 붙이기 -> extend 사용\n",
        "# 리스트를 이어 붙이면 새로운 리스트를 생성해 값을 복사하는 연산으로 비용이 높다\n",
        "# 큰 리스트일수록 extend 메서드를 사용해 추가하는게 일반적으로 나음\n",
        "x = [4,None,'foo']\n",
        "x.extend([7,8,(2,3)])\n",
        "x"
      ],
      "metadata": {
        "id": "Fo-5i9FaRY4C"
      },
      "execution_count": null,
      "outputs": []
    },
    {
      "cell_type": "code",
      "source": [
        "# 정렬 -> sort 함수\n",
        "a = [7,2,5,1,3]\n",
        "a.sort()\n",
        "a"
      ],
      "metadata": {
        "id": "6wSH3PeoRY7H"
      },
      "execution_count": null,
      "outputs": []
    },
    {
      "cell_type": "code",
      "source": [
        "# sort의 몇가지 옵션 존재\n",
        "b = ['saw','small','He','foxes','six']\n",
        "b.sort(key =len)\n",
        "b"
      ],
      "metadata": {
        "id": "SiAIFvw1RY-9"
      },
      "execution_count": null,
      "outputs": []
    },
    {
      "cell_type": "code",
      "source": [
        "# 이진 탐색과 정렬된 리스트 유지하기\n",
        "# bisect.bisect 메서드는 값이 추가될 때 리스트가 정렬된 상태를 유지할 수 있는 위치를 반환\n",
        "# bisect.insort는 실제로 정렬된 상태를 유지한 채 값을 추가\n",
        "import bisect\n",
        "c=[1,2,2,2,3,4,7]\n",
        "bisect.bisect(c,2)\n",
        "bisect.bisect(c,5)\n",
        "bisect.insort(c,6)\n",
        "c"
      ],
      "metadata": {
        "id": "OdLAULRoRZCd"
      },
      "execution_count": null,
      "outputs": []
    },
    {
      "cell_type": "code",
      "source": [
        "# 슬라이싱 : 리스트와 같은 자료형은 색인 연산자 []안에 start:stop을 지정해서 원하는 크기만큼 잘라낼 수 있다.\n",
        "seq = [7,2,3,7,5,6,0,1]\n",
        "seq[1:5]"
      ],
      "metadata": {
        "id": "UHbAACjdRZG1"
      },
      "execution_count": null,
      "outputs": []
    },
    {
      "cell_type": "code",
      "source": [
        "# 슬라이스에 다른 순차 자료형을 대입하는 것도 가능\n",
        "seq[3:4]=[6,3]\n",
        "seq"
      ],
      "metadata": {
        "id": "Ma2QGWCMRZLi"
      },
      "execution_count": null,
      "outputs": []
    },
    {
      "cell_type": "code",
      "source": [
        "# 음수 색인은 순차자료형의 끝에서부터 위치를 나타낸다\n",
        "seq[-9:]"
      ],
      "metadata": {
        "id": "CZ2775bKT2a3"
      },
      "execution_count": null,
      "outputs": []
    },
    {
      "cell_type": "code",
      "source": [
        "# 두번째 콜론 다음에 간격을 지정할 수 있어 하나 걸러 다음 원소 선택 가능\n",
        "seq[::2]"
      ],
      "metadata": {
        "id": "nL0QkaUET2f9"
      },
      "execution_count": null,
      "outputs": []
    },
    {
      "cell_type": "code",
      "source": [
        "# 간격 값으로 -1을 사용하면 리스트나 튜플을 역순으로 반환\n",
        "seq[::-1]"
      ],
      "metadata": {
        "id": "pmJr2bhhT2ks"
      },
      "execution_count": null,
      "outputs": []
    },
    {
      "cell_type": "markdown",
      "source": [
        "### 3.1.3 내장 순차 자료형 함수\n"
      ],
      "metadata": {
        "id": "uRP9JKLhT2oE"
      }
    },
    {
      "cell_type": "code",
      "source": [
        "# enumerate : 순차 자료형에서 현재 아이템의 색인을 함께 처리하고자 할 때 사용\n",
        "some_list = ['foo','bar','baz']\n",
        "mapping = {}\n",
        "\n",
        "for i, v in enumerate(some_list):\n",
        "  mapping[v]=i\n",
        "\n",
        "mapping # enumerate를 사용해 순차 자료형의 값과 그 위치를 dict에 넘겨 줌"
      ],
      "metadata": {
        "id": "9cDCj_uSVQ_0"
      },
      "execution_count": null,
      "outputs": []
    },
    {
      "cell_type": "code",
      "source": [
        "# sorted : 정렬된 새로운 순차 자료형을 반환\n",
        "sorted([7,1,2,6,0,3,2])"
      ],
      "metadata": {
        "id": "g_4iRO1cVRDo"
      },
      "execution_count": null,
      "outputs": []
    },
    {
      "cell_type": "code",
      "source": [
        "# zip : 여러개의 리스트나 튜플 또는 다른 순차 자료형을 서로 짝지어서 튜플의 리스트를 생성\n",
        "seq1 = ['foo','bar','baz']\n",
        "seq2 = ['one','two','three']\n",
        "\n",
        "zipped = zip(seq1,seq2)\n",
        "\n",
        "list(zipped)\n",
        "\n",
        "# zip함수는 여러개의 순차자료형을 받을 수 있으며 리스트의 크기는 가장 짧은 크기의 순차자료형으로 결정됨"
      ],
      "metadata": {
        "id": "JNre4QdSVRHS"
      },
      "execution_count": null,
      "outputs": []
    },
    {
      "cell_type": "code",
      "source": [
        "# zip과 enumerate 함께하는 연습 문제\n",
        "for i, (a,b) in enumerate(zip(seq1,seq2)) :\n",
        "  print('{0}: {1}, {2}'.format(i,a,b))"
      ],
      "metadata": {
        "id": "xrOdzIvrVRKa"
      },
      "execution_count": null,
      "outputs": []
    },
    {
      "cell_type": "code",
      "source": [
        "# zip을 사용해 짝지어진 순차 자료형 풀어내는 법\n",
        "pitchers = [('Nolan','Ryan'),('Roger','Clemens'),('Schilling','Curt')]\n",
        "\n",
        "first_name, last_name = zip(*pitchers)\n",
        "first_name, last_name"
      ],
      "metadata": {
        "id": "w6OOHR51VROT"
      },
      "execution_count": null,
      "outputs": []
    },
    {
      "cell_type": "code",
      "source": [
        "# reversed 순차 자료형을 역순으로 / reversed는 제너레이터... 먼뜻이야?\n",
        "list(reversed(range(10)))"
      ],
      "metadata": {
        "id": "eVou34THVRSe"
      },
      "execution_count": null,
      "outputs": []
    },
    {
      "cell_type": "markdown",
      "source": [
        "### 3.1.4 사전(dict)\n",
        "- 해시맵 또는 연관 배열이라 함\n",
        "- 키-값 쌍으로 키와 값은 모두 파이썬 객체"
      ],
      "metadata": {
        "id": "q9ChSVg0VRWK"
      }
    },
    {
      "cell_type": "code",
      "source": [
        "empty_dict = {}\n",
        "d1 = {'a':'some_value','b' : [1,2,3,4]}\n",
        "\n",
        "d1"
      ],
      "metadata": {
        "id": "x5IWNM01aiQc"
      },
      "execution_count": null,
      "outputs": []
    },
    {
      "cell_type": "code",
      "source": [
        "d1[7] = 'an integer'\n",
        "d1"
      ],
      "metadata": {
        "id": "ISoXyI2IaiT4"
      },
      "execution_count": null,
      "outputs": []
    },
    {
      "cell_type": "code",
      "source": [
        "'b' in d1 # 어떤 키가 있는지만 확인 가능 "
      ],
      "metadata": {
        "id": "3JW98HCoaiXS"
      },
      "execution_count": null,
      "outputs": []
    },
    {
      "cell_type": "code",
      "source": [
        "# del 예약어나 pop 매서드와 키를 사용해서 사전의 값 삭제 가능\n",
        "d1[5] = 'some_value'\n",
        "d1['dummy'] = 'another_value'\n",
        "\n",
        "\n",
        "del d1[5]\n",
        "d1\n",
        "\n",
        "ret = d1.pop('dummy')\n",
        "ret\n",
        "\n",
        "d1"
      ],
      "metadata": {
        "id": "6UoqGPF3aibG"
      },
      "execution_count": null,
      "outputs": []
    },
    {
      "cell_type": "code",
      "source": [
        "# keys와 values 메서드는 각각 키와 값이 담긴 이터레이터를 반환\n",
        "list(d1.keys())\n",
        "list(d1.values())"
      ],
      "metadata": {
        "id": "Gqqz1p4qaieT"
      },
      "execution_count": null,
      "outputs": []
    },
    {
      "cell_type": "code",
      "source": [
        "# update 메서드를 사용해서 사전 + 사전 가능\n",
        "d1.update({'b':'foo','c':12})\n",
        "d1"
      ],
      "metadata": {
        "id": "kFlHMf6TaiiB"
      },
      "execution_count": null,
      "outputs": []
    },
    {
      "cell_type": "code",
      "source": [
        "mapping = dict(zip(range(5), reversed(range(5))))\n",
        "mapping"
      ],
      "metadata": {
        "id": "V3a_Jie6cr0n"
      },
      "execution_count": null,
      "outputs": []
    },
    {
      "cell_type": "code",
      "source": [
        "words = ['apple','bat','bar','atom','book']"
      ],
      "metadata": {
        "id": "1qlhElfTeDkl"
      },
      "execution_count": null,
      "outputs": []
    },
    {
      "cell_type": "code",
      "source": [
        "by_letter = {}\n",
        "\n",
        "for word in words :\n",
        "  letter = word[0]\n",
        "  if letter not in by_letter :\n",
        "    by_letter[letter] = [word]\n",
        "  else :\n",
        "    by_letter[letter].append(word)\n",
        "\n",
        "by_letter"
      ],
      "metadata": {
        "id": "atGt8-fBeLAj"
      },
      "execution_count": null,
      "outputs": []
    },
    {
      "cell_type": "code",
      "source": [],
      "metadata": {
        "id": "WplOMxI9eLFV"
      },
      "execution_count": null,
      "outputs": []
    },
    {
      "cell_type": "markdown",
      "source": [
        "### 3.1.5 집합\n",
        "- 집합은 유일한 원소만 담는 정렬되지 않은 자료형이다.\n",
        "- 값은 없고 키만 있음\n",
        "- set 함수를 이용하거나 중괄호를 이용해서 생성"
      ],
      "metadata": {
        "id": "zX5_GZaKeLJR"
      }
    },
    {
      "cell_type": "code",
      "source": [
        "set([2,2,2,1,3,3]) , {2,2,2,1,3,3}"
      ],
      "metadata": {
        "id": "7DjFHwaXfi4p"
      },
      "execution_count": null,
      "outputs": []
    },
    {
      "cell_type": "code",
      "source": [
        "a = {1,2,3,4,5}\n",
        "b = {3,4,5,6,7,8}\n",
        "\n",
        "a.union(b), a|b"
      ],
      "metadata": {
        "id": "b62D46gUfi8x"
      },
      "execution_count": null,
      "outputs": []
    },
    {
      "cell_type": "code",
      "source": [
        "a.intersection(b),  a&b"
      ],
      "metadata": {
        "id": "OYsMpj2LfjAr"
      },
      "execution_count": null,
      "outputs": []
    },
    {
      "cell_type": "code",
      "source": [
        "c = a.copy()\n",
        "c|=b\n",
        "c"
      ],
      "metadata": {
        "id": "_0VjSA1QfjEl"
      },
      "execution_count": null,
      "outputs": []
    },
    {
      "cell_type": "markdown",
      "source": [
        "### 3.1.6 리스트, 집합, 사전표기법\n",
        "- 리스트 표기법은 파이썬 언어에서 가장 사랑받는 기능"
      ],
      "metadata": {
        "id": "CXE7xdKufjHw"
      }
    },
    {
      "cell_type": "code",
      "source": [
        "strings = ['a','as','bat','car','dove','python']\n",
        "\n",
        "[x.upper() for x in strings if len(x) > 2]"
      ],
      "metadata": {
        "id": "CrM0CVbGcr7o"
      },
      "execution_count": null,
      "outputs": []
    },
    {
      "cell_type": "code",
      "source": [
        "unique_length = [len(x) for x in strings]\n",
        "unique_length"
      ],
      "metadata": {
        "id": "rWAoKasVcr_P"
      },
      "execution_count": null,
      "outputs": []
    },
    {
      "cell_type": "code",
      "source": [
        "# 리스트에서 문자열의 위치를 담고 있는 사전을 생성해보자\n",
        "\n",
        "loc_mapping = {val : index for  index, val in enumerate(strings)}\n",
        "loc_mapping"
      ],
      "metadata": {
        "id": "syJPfHiicsC3"
      },
      "execution_count": null,
      "outputs": []
    },
    {
      "cell_type": "code",
      "source": [
        "# 중첩된 리스트 표기법\n",
        "all_data = [['John','Emily','Michael','Steven'],['Maria','Juan','Javier','Natalia','Pilar']]"
      ],
      "metadata": {
        "id": "3SW-9QEecsGG"
      },
      "execution_count": null,
      "outputs": []
    },
    {
      "cell_type": "code",
      "source": [
        "names_of_interest = []\n",
        "for names in all_data :\n",
        "  enough_es = [name for name in names if name.count('e')>=2]\n",
        "  names_of_interest.extend(enough_es)\n",
        "names_of_interest"
      ],
      "metadata": {
        "id": "wjcJNopVcsJz"
      },
      "execution_count": null,
      "outputs": []
    },
    {
      "cell_type": "code",
      "source": [
        "names_of_interest = [name for names in all_data for name in names if name.count('e') >= 2 ]\n",
        "names_of_interest"
      ],
      "metadata": {
        "id": "y7kxMLolcsNq"
      },
      "execution_count": null,
      "outputs": []
    },
    {
      "cell_type": "code",
      "source": [
        "# 숫자 튜플이 담긴 리스트를 단순 리스트로 변환하자\n",
        "some_tuples = [(1,2,3),(4,5,6),(7,8,9)]\n",
        "\n",
        "flattend = [x for tup in some_tuples for x in tup]\n",
        "flattend"
      ],
      "metadata": {
        "id": "4JCjG8-9XW_z"
      },
      "execution_count": null,
      "outputs": []
    },
    {
      "cell_type": "code",
      "source": [
        "# 위와 같음\n",
        "flattend = []\n",
        "\n",
        "for tup in some_tuples:\n",
        "  for x in tup :\n",
        "    flattend.append(x)\n",
        "flattend\n",
        "\n",
        "# for 문 두개가 쭉 이어져서 위의 포맷으로 써진 다는 것을 알 수 있음"
      ],
      "metadata": {
        "id": "BgMvL3SAcsSl"
      },
      "execution_count": null,
      "outputs": []
    },
    {
      "cell_type": "markdown",
      "source": [
        "## 3.2 함수\n",
        "- 코드를 재사용하고 조직화하기 위한 가장 중요한 수단\n",
        "- def 예약어로 정의하고 return 예약어를 사용해서 값을 반환한다.\n",
        "- 여러개의 이란인자와 키워드 인자를 받을 수 있다.\n",
        "- 키워드 인자는 기본값/부수적인 인자를 지정하기 위해 사용\n",
        "- 키워드 인자는 항상 일반인자 다음에 와야 함"
      ],
      "metadata": {
        "id": "MpTmAGlKZJL_"
      }
    },
    {
      "cell_type": "code",
      "source": [
        "def my_function(x,y, z=1.5) :\n",
        "  if z>1:\n",
        "    return z*(x+y)\n",
        "  else:\n",
        "    return z/(x+y)"
      ],
      "metadata": {
        "id": "D4mEyVUVYfgJ"
      },
      "execution_count": null,
      "outputs": []
    },
    {
      "cell_type": "code",
      "source": [
        "my_function(10,20,z=0.7)"
      ],
      "metadata": {
        "id": "mLP4mMkLYgMo"
      },
      "execution_count": null,
      "outputs": []
    },
    {
      "cell_type": "markdown",
      "source": [
        "### 3.2.1 네임스페이스, 스코프, 지역함수\n",
        "- 함수는 전역과 지역 두가지 스코프(네임스페이스)에서 변수를 참조함\n",
        "- 함수 내에서 선언된 변수는 기본적으로 모두 지역 네임스페이스에 속한다.\n",
        "- 지역 네임스페이스는 함수가 호출될 때 생성되고, 실행이 끝나면 사라진다."
      ],
      "metadata": {
        "id": "_usvkW-_Yg0g"
      }
    },
    {
      "cell_type": "code",
      "source": [
        "# 지역 네임스페이스\n",
        "def func() :\n",
        "  a = []\n",
        "  for i in range(5) :\n",
        "    a.append(i)\n",
        "\n",
        "# global 예약어 이용\n",
        "a = None\n",
        "def bind_a_variable():\n",
        "  global a\n",
        "  a = []\n",
        "bind_a_variable()"
      ],
      "metadata": {
        "id": "sEuZFzvPYg34"
      },
      "execution_count": null,
      "outputs": []
    },
    {
      "cell_type": "markdown",
      "source": [
        "### 3.2.2 여러 값 반환하기"
      ],
      "metadata": {
        "id": "camlJPIYa4Vq"
      }
    },
    {
      "cell_type": "code",
      "source": [
        "def f() :\n",
        "  a = 5\n",
        "  b = 6\n",
        "  c = 7\n",
        "  return a,b,c\n",
        "\n",
        "a,b,c, = f()\n",
        "a,b,c"
      ],
      "metadata": {
        "id": "OSSloPMLa41h"
      },
      "execution_count": null,
      "outputs": []
    },
    {
      "cell_type": "code",
      "source": [
        "return_value = f()\n",
        "return_value"
      ],
      "metadata": {
        "id": "IOcAfTWQa444"
      },
      "execution_count": null,
      "outputs": []
    },
    {
      "cell_type": "markdown",
      "source": [
        "### 3.2.3 문자열 리스트 정형화 예시"
      ],
      "metadata": {
        "id": "0R74wFaua48x"
      }
    },
    {
      "cell_type": "code",
      "source": [
        "states = ['Alabama','Georgia!','Georgia','georgia','FlOrIda','southcarolina##','West virginia?']"
      ],
      "metadata": {
        "id": "x-RTUZena4_Y"
      },
      "execution_count": null,
      "outputs": []
    },
    {
      "cell_type": "code",
      "source": [
        "import re\n",
        "\n",
        "def clean_strings(strings) :\n",
        "  result = []\n",
        "  for value in strings:\n",
        "    value = value.strip()\n",
        "    value = re.sub('[!#?]','',value)\n",
        "    value = value.title()\n",
        "    result.append(value)\n",
        "  return result"
      ],
      "metadata": {
        "id": "POQFALn3a5Ch"
      },
      "execution_count": null,
      "outputs": []
    },
    {
      "cell_type": "code",
      "source": [
        "clean_strings(states)"
      ],
      "metadata": {
        "id": "cCFzUryga5Gc"
      },
      "execution_count": null,
      "outputs": []
    },
    {
      "cell_type": "code",
      "source": [
        "# 함수도 리스트에 담아두어 적용\n",
        "\n",
        "def remove_punctuation(value) : \n",
        "  return re.sub('[!#?]','',value)\n",
        "\n",
        "clean_ops = [str.strip, remove_punctuation, str.title]\n",
        "\n",
        "def clean_strings(strings, ops):\n",
        "  result = []\n",
        "  for value in strings:\n",
        "    for function in ops : \n",
        "      value = function(value)\n",
        "    result.append(value) # 들여쓰기 조심\n",
        "  return result"
      ],
      "metadata": {
        "id": "gaS0ekE2a5KF"
      },
      "execution_count": null,
      "outputs": []
    },
    {
      "cell_type": "code",
      "source": [
        "clean_strings(states, clean_ops)"
      ],
      "metadata": {
        "id": "aZwlR92Ia5NU"
      },
      "execution_count": null,
      "outputs": []
    },
    {
      "cell_type": "markdown",
      "source": [
        "### 3.2.4 익명 함수\n",
        "- 익명함수, 람다함수라고 하는 값을 반환하는 단순한 한 문장으로 이루어진 함수\n",
        "- 실제 함수를 선언하지 않아도 됨"
      ],
      "metadata": {
        "id": "Cnh9voHbd-VY"
      }
    },
    {
      "cell_type": "code",
      "source": [
        "def short_function(x) :\n",
        "  return x*2"
      ],
      "metadata": {
        "id": "1jl3ICoYd-gP"
      },
      "execution_count": null,
      "outputs": []
    },
    {
      "cell_type": "code",
      "source": [
        "a = [1,2,3]\n",
        "short_function(a)"
      ],
      "metadata": {
        "id": "4iCBWcrld-jg"
      },
      "execution_count": null,
      "outputs": []
    },
    {
      "cell_type": "code",
      "source": [
        "equiv_anon = lambda x : x*2\n",
        "equiv_anon(a)\n",
        "# 위와 같은 결과 값을 보임"
      ],
      "metadata": {
        "id": "YZeodavrd-n-"
      },
      "execution_count": null,
      "outputs": []
    },
    {
      "cell_type": "code",
      "source": [
        "def apply_to_list(some_list,f) :\n",
        "  return [f(x) for x in some_list]\n",
        "\n",
        "ints = [4,0,1,5,6]\n",
        "apply_to_list(ints, lambda x : x*2)"
      ],
      "metadata": {
        "id": "3RT6Yj8fd-tz"
      },
      "execution_count": null,
      "outputs": []
    },
    {
      "cell_type": "code",
      "source": [
        "strings = ['foo','card','bar','aaaa','abab']"
      ],
      "metadata": {
        "id": "X277frdvd-yi"
      },
      "execution_count": null,
      "outputs": []
    },
    {
      "cell_type": "code",
      "source": [
        "strings.sort(key = lambda x : len(set(list(x))))\n",
        "strings"
      ],
      "metadata": {
        "id": "WYx-ka7ofvCY"
      },
      "execution_count": null,
      "outputs": []
    },
    {
      "cell_type": "markdown",
      "source": [
        "### 3.2.5 커링 : 일부 인자만 취하기"
      ],
      "metadata": {
        "id": "ORusuPqzfvGC"
      }
    },
    {
      "cell_type": "code",
      "source": [
        "def add_numbers(x,y) : \n",
        "  return x+y"
      ],
      "metadata": {
        "id": "z9uW5mdYfvJt"
      },
      "execution_count": null,
      "outputs": []
    },
    {
      "cell_type": "code",
      "source": [
        "# 두번째 인자만 커링함\n",
        "add_five = lambda y : add_numbers(5,y)"
      ],
      "metadata": {
        "id": "qsiQnqjCfvNC"
      },
      "execution_count": null,
      "outputs": []
    },
    {
      "cell_type": "code",
      "source": [
        "add_five(6)"
      ],
      "metadata": {
        "id": "2PXK6rMbfvUK"
      },
      "execution_count": null,
      "outputs": []
    },
    {
      "cell_type": "code",
      "source": [],
      "metadata": {
        "id": "jNr0NhyGfvbG"
      },
      "execution_count": null,
      "outputs": []
    },
    {
      "cell_type": "code",
      "source": [],
      "metadata": {
        "id": "JTIfj03bfveR"
      },
      "execution_count": null,
      "outputs": []
    },
    {
      "cell_type": "code",
      "source": [],
      "metadata": {
        "id": "li-zSF0_fvh2"
      },
      "execution_count": null,
      "outputs": []
    },
    {
      "cell_type": "code",
      "source": [],
      "metadata": {
        "id": "ZN8qfHMefvk2"
      },
      "execution_count": null,
      "outputs": []
    }
  ]
}