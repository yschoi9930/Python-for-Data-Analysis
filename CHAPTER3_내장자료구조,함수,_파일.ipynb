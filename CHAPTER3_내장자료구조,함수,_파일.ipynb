{
  "nbformat": 4,
  "nbformat_minor": 0,
  "metadata": {
    "colab": {
      "private_outputs": true,
      "provenance": [],
      "authorship_tag": "ABX9TyONqb3DTUxUTTEYMvEXVsog",
      "include_colab_link": true
    },
    "kernelspec": {
      "name": "python3",
      "display_name": "Python 3"
    },
    "language_info": {
      "name": "python"
    }
  },
  "cells": [
    {
      "cell_type": "markdown",
      "metadata": {
        "id": "view-in-github",
        "colab_type": "text"
      },
      "source": [
        "<a href=\"https://colab.research.google.com/github/yschoi9930/Python-for-Data-Analysis/blob/main/CHAPTER3_%EB%82%B4%EC%9E%A5%EC%9E%90%EB%A3%8C%EA%B5%AC%EC%A1%B0%2C%ED%95%A8%EC%88%98%2C_%ED%8C%8C%EC%9D%BC.ipynb\" target=\"_parent\"><img src=\"https://colab.research.google.com/assets/colab-badge.svg\" alt=\"Open In Colab\"/></a>"
      ]
    },
    {
      "cell_type": "markdown",
      "source": [
        "# CHAPTER3  내장자료구조,함수, 파일"
      ],
      "metadata": {
        "id": "phLqzlKYngLM"
      }
    },
    {
      "cell_type": "markdown",
      "source": [
        "## 3.1 자료구조와 순차 자료"
      ],
      "metadata": {
        "id": "8bmsP2WBnb6b"
      }
    },
    {
      "cell_type": "markdown",
      "source": [
        "### 3.1.1 튜플\n",
        " \n",
        "- 1차원의 고정된 크기를 가지는 변경 불가능한 순차 자료형\n",
        "- 괄호를 사용해서 묶어줌으로써 중첩된 튜플 정의 가능 \n",
        "- 모든 순차 자료형이나 이터레이터는 tuple 메서드를 호출해 튜플로 변환 가능\n",
        "  -  이터레이터?? : \n",
        "  내부 요소를 하나씩 리턴할 수 있는 객체는 iterable 하다고 표현\n",
        "  BUT, iterable한 것 중 __next__ 메소드를 가진 것을 Iterator라 함\n",
        "  iter함수/__iter__메소드를 활용해 iterable한 변수를 iterator로 바꿀 수 있음\n",
        "- 튜플에 저장된 객체 자체는 변경이 가능하지만 한 번 생성되면 각 슬롯에 저장된 객체를 변경하는 것은 불가능하다.\n",
        "- 튜플 내에 저장된 객체는 그 위치에서 바로 변경이 가능\n",
        "- 연산자를 이용해서 튜플을 이어 붙일 수 있다.\n",
        "- 튜플에 정수를 곱하면 복사본이 반복되어 늘어남"
      ],
      "metadata": {
        "id": "RxpE5laanpmB"
      }
    },
    {
      "cell_type": "code",
      "source": [
        "tup = 4,5,6\n",
        "tup"
      ],
      "metadata": {
        "id": "S8ViEnKwnnK8"
      },
      "execution_count": null,
      "outputs": []
    },
    {
      "cell_type": "code",
      "source": [
        "nested_tup = (4,5,6),(7,8)\n",
        "nested_tup"
      ],
      "metadata": {
        "id": "3pZJdhm9r3YS"
      },
      "execution_count": null,
      "outputs": []
    },
    {
      "cell_type": "code",
      "source": [
        "list_1 = [4,0,2]\n",
        "tup = tuple(list_1)\n",
        "tup\n",
        "\n",
        "tup = tuple('string')\n",
        "tup"
      ],
      "metadata": {
        "id": "iIteJ7aGr3sl"
      },
      "execution_count": null,
      "outputs": []
    },
    {
      "cell_type": "code",
      "source": [
        "tup[0]"
      ],
      "metadata": {
        "id": "QTSnsG_Tr416"
      },
      "execution_count": null,
      "outputs": []
    },
    {
      "cell_type": "code",
      "source": [
        "tup = tuple(['foo',[1,2],True])\n",
        "tup[2] = False"
      ],
      "metadata": {
        "id": "YhPdNpEGr3wR"
      },
      "execution_count": null,
      "outputs": []
    },
    {
      "cell_type": "code",
      "source": [
        "tup[1].append(3)\n",
        "tup"
      ],
      "metadata": {
        "id": "4hOihakpr30M"
      },
      "execution_count": null,
      "outputs": []
    },
    {
      "cell_type": "code",
      "source": [
        "# 튜플에서 값 분리하기\n",
        "# 튜플과 같은 표현의 변수에 튜플을 대입하면 파이썬은 등호 오른쪽에 있는 변수에서 값을 분리함\n",
        "# 중첩된 튜플을 포함해도 가능\n",
        "tup = (4,5,6)\n",
        "a,b,c = tup\n",
        "b\n",
        "\n",
        "tup = 4,5,(6,7)\n",
        "a,b,(c,d) = tup\n",
        "d"
      ],
      "metadata": {
        "id": "915qGRO-r33q"
      },
      "execution_count": null,
      "outputs": []
    },
    {
      "cell_type": "code",
      "source": [
        "# 이 방법을 통해 변수의 이름을 바꾸는 것을 쉽게 처리할 수 있음\n",
        "\n",
        "a,b = 1,2\n",
        "\n",
        "b,a, = a,b\n",
        "\n",
        "b"
      ],
      "metadata": {
        "id": "yi35G5NKr37c"
      },
      "execution_count": null,
      "outputs": []
    },
    {
      "cell_type": "code",
      "source": [
        "# 튜플의 처음 몇몇 값을 끄집어내야 하는 상황을 위해 특수한 문법인 *rest를 사용\n",
        "# 함수의 시그니처에서 길이를 알 수 없는 긴 인자를 담기 위한 방법으로도 사용\n",
        "\n",
        "values = 1,2,3,4,5\n",
        "\n",
        "a,b, *rest = values\n",
        "\n",
        "a,b,rest"
      ],
      "metadata": {
        "id": "R2FMuK1uNIDV"
      },
      "execution_count": null,
      "outputs": []
    },
    {
      "cell_type": "code",
      "source": [
        "# 튜플의 크기와 내용은 변경이 불가능해 인스턴스 메서드가 많지 않음\n",
        "# count 메서드 정도 사용 -> 튜플 내의 주어진 값이 몇개 있는지 반환\n",
        "\n",
        "a = (1,2,2,2,3,4,2)\n",
        "a.count(2)"
      ],
      "metadata": {
        "id": "_cBV1thxNIKw"
      },
      "execution_count": null,
      "outputs": []
    },
    {
      "cell_type": "markdown",
      "source": [
        "### 3.1.2 리스트\n",
        "- 튜플과 대조적으로 리스트는 크기나 내용의 변경이 가능\n",
        "- 대괄호나 list함수를 사용해서 생성\n",
        "- list 함수는 이터레이터나 제너레이터 표현에서 실제 값을 모두 담기 위한 용도로도 자주 사용"
      ],
      "metadata": {
        "id": "BxWmwXLANIOc"
      }
    },
    {
      "cell_type": "code",
      "source": [
        "a_list = [2,3,7,None]\n",
        "tup = ('foo','bar','baz')\n",
        "\n",
        "b_list = list(tup)\n",
        "b_list\n",
        "\n",
        "b_list[1] = 'peekaboo'\n",
        "b_list"
      ],
      "metadata": {
        "id": "wS0OQQoWNIR8"
      },
      "execution_count": null,
      "outputs": []
    },
    {
      "cell_type": "code",
      "source": [
        "gen = range(10)\n",
        "\n",
        "gen\n",
        "list(gen)"
      ],
      "metadata": {
        "id": "f8l3gyOfNIYU"
      },
      "execution_count": null,
      "outputs": []
    },
    {
      "cell_type": "code",
      "source": [
        "# 원소 추가하고 삭제하기\n",
        "b_list.append('dwarf')\n",
        "b_list"
      ],
      "metadata": {
        "id": "nKxh323sPaQZ"
      },
      "execution_count": null,
      "outputs": []
    },
    {
      "cell_type": "code",
      "source": [
        "# insert 메서드를 사용해서 리스트의 특정 위치에 값 추가 가능\n",
        "# insert는 append에 비해 연산비용이 많이 든다\n",
        "b_list.insert(1,'red')\n",
        "b_list"
      ],
      "metadata": {
        "id": "FfZDp8d3PaTx"
      },
      "execution_count": null,
      "outputs": []
    },
    {
      "cell_type": "code",
      "source": [
        "# pop 메서드를 사용해서 특정 위치의 값을 반환하고 해당 값을 리스트에서 삭제\n",
        "b_list.pop(2)\n",
        "b_list"
      ],
      "metadata": {
        "id": "WINxNLdUPaXi"
      },
      "execution_count": null,
      "outputs": []
    },
    {
      "cell_type": "code",
      "source": [
        "# remove 메서드를 이용해서 원소를 삭제 가능, 삭제는 리스트에서 제일 앞에 위치한 값부터 이루어진다.\n",
        "b_list.append('foo')\n",
        "b_list.remove('foo')\n",
        "b_list"
      ],
      "metadata": {
        "id": "alPcpOWKPaa6"
      },
      "execution_count": null,
      "outputs": []
    },
    {
      "cell_type": "code",
      "source": [
        "# in 예약어를 사용해서 리스트에 어떤 값이 있는지 검사 가능\n",
        "'dwarf' in b_list"
      ],
      "metadata": {
        "id": "fM9IMKVHPaeY"
      },
      "execution_count": null,
      "outputs": []
    },
    {
      "cell_type": "code",
      "source": [
        "'peekaboo' not in b_list"
      ],
      "metadata": {
        "id": "yJN7OICWPaik"
      },
      "execution_count": null,
      "outputs": []
    },
    {
      "cell_type": "code",
      "source": [
        "# 리스트 이어 붙이기 -> + 연산자 사용\n",
        "[4,None,'foo'] + [7,8,(2,3)]"
      ],
      "metadata": {
        "id": "IcGwRsKBRY00"
      },
      "execution_count": null,
      "outputs": []
    },
    {
      "cell_type": "code",
      "source": [
        "# 리스트 이어 붙이기 -> extend 사용\n",
        "# 리스트를 이어 붙이면 새로운 리스트를 생성해 값을 복사하는 연산으로 비용이 높다\n",
        "# 큰 리스트일수록 extend 메서드를 사용해 추가하는게 일반적으로 나음\n",
        "x = [4,None,'foo']\n",
        "x.extend([7,8,(2,3)])\n",
        "x"
      ],
      "metadata": {
        "id": "Fo-5i9FaRY4C"
      },
      "execution_count": null,
      "outputs": []
    },
    {
      "cell_type": "code",
      "source": [
        "# 정렬 -> sort 함수\n",
        "a = [7,2,5,1,3]\n",
        "a.sort()\n",
        "a"
      ],
      "metadata": {
        "id": "6wSH3PeoRY7H"
      },
      "execution_count": null,
      "outputs": []
    },
    {
      "cell_type": "code",
      "source": [
        "# sort의 몇가지 옵션 존재\n",
        "b = ['saw','small','He','foxes','six']\n",
        "b.sort(key =len)\n",
        "b"
      ],
      "metadata": {
        "id": "SiAIFvw1RY-9"
      },
      "execution_count": null,
      "outputs": []
    },
    {
      "cell_type": "code",
      "source": [
        "# 이진 탐색과 정렬된 리스트 유지하기\n",
        "# bisect.bisect 메서드는 값이 추가될 때 리스트가 정렬된 상태를 유지할 수 있는 위치를 반환\n",
        "# bisect.insort는 실제로 정렬된 상태를 유지한 채 값을 추가\n",
        "import bisect\n",
        "c=[1,2,2,2,3,4,7]\n",
        "bisect.bisect(c,2)\n",
        "bisect.bisect(c,5)\n",
        "bisect.insort(c,6)\n",
        "c"
      ],
      "metadata": {
        "id": "OdLAULRoRZCd"
      },
      "execution_count": null,
      "outputs": []
    },
    {
      "cell_type": "code",
      "source": [
        "# 슬라이싱 : 리스트와 같은 자료형은 색인 연산자 []안에 start:stop을 지정해서 원하는 크기만큼 잘라낼 수 있다.\n",
        "seq = [7,2,3,7,5,6,0,1]\n",
        "seq[1:5]"
      ],
      "metadata": {
        "id": "UHbAACjdRZG1"
      },
      "execution_count": null,
      "outputs": []
    },
    {
      "cell_type": "code",
      "source": [
        "# 슬라이스에 다른 순차 자료형을 대입하는 것도 가능\n",
        "seq[3:4]=[6,3]\n",
        "seq"
      ],
      "metadata": {
        "id": "Ma2QGWCMRZLi"
      },
      "execution_count": null,
      "outputs": []
    },
    {
      "cell_type": "code",
      "source": [
        "# 음수 색인은 순차자료형의 끝에서부터 위치를 나타낸다\n",
        "seq[-9:]"
      ],
      "metadata": {
        "id": "CZ2775bKT2a3"
      },
      "execution_count": null,
      "outputs": []
    },
    {
      "cell_type": "code",
      "source": [
        "# 두번째 콜론 다음에 간격을 지정할 수 있어 하나 걸러 다음 원소 선택 가능\n",
        "seq[::2]"
      ],
      "metadata": {
        "id": "nL0QkaUET2f9"
      },
      "execution_count": null,
      "outputs": []
    },
    {
      "cell_type": "code",
      "source": [
        "# 간격 값으로 -1을 사용하면 리스트나 튜플을 역순으로 반환\n",
        "seq[::-1]"
      ],
      "metadata": {
        "id": "pmJr2bhhT2ks"
      },
      "execution_count": null,
      "outputs": []
    },
    {
      "cell_type": "code",
      "source": [],
      "metadata": {
        "id": "uRP9JKLhT2oE"
      },
      "execution_count": null,
      "outputs": []
    }
  ]
}