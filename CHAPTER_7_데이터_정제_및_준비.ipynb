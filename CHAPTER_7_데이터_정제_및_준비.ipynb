{
  "nbformat": 4,
  "nbformat_minor": 0,
  "metadata": {
    "colab": {
      "private_outputs": true,
      "provenance": [],
      "mount_file_id": "1tNFHb8mvq5wEkmfQd5Foas1URi49lIXu",
      "authorship_tag": "ABX9TyPiPo8clHKk41+5h4nDx8If",
      "include_colab_link": true
    },
    "kernelspec": {
      "name": "python3",
      "display_name": "Python 3"
    },
    "language_info": {
      "name": "python"
    }
  },
  "cells": [
    {
      "cell_type": "markdown",
      "metadata": {
        "id": "view-in-github",
        "colab_type": "text"
      },
      "source": [
        "<a href=\"https://colab.research.google.com/github/yschoi9930/Python-for-Data-Analysis/blob/main/CHAPTER_7_%EB%8D%B0%EC%9D%B4%ED%84%B0_%EC%A0%95%EC%A0%9C_%EB%B0%8F_%EC%A4%80%EB%B9%84.ipynb\" target=\"_parent\"><img src=\"https://colab.research.google.com/assets/colab-badge.svg\" alt=\"Open In Colab\"/></a>"
      ]
    },
    {
      "cell_type": "markdown",
      "source": [
        "# CHAPTER 7 데이터 정제 및 준비"
      ],
      "metadata": {
        "id": "sBjryPStKAyX"
      }
    },
    {
      "cell_type": "markdown",
      "source": [
        "## 7.1 누락된 데이터 처리하기\n",
        "- pandas 객체의 모든 기술 통계는 누락된 데이터를 배제하고 처리한다.\n",
        "- NA는 데이터가 존재하지 않거나, 존재하더라도 데이터를 수집하는 과정에서 검출되지 않았음을 의미\n",
        "- 결측치 자체를 데이터 수집과정에서의 실수나 결측치로 인한 잠재적인 편향을 찾아내는 수단으로 인식하는 것이 중요!\n",
        "- None 값도 NA 값으로 취급"
      ],
      "metadata": {
        "id": "GivdZSoKKJrZ"
      }
    },
    {
      "cell_type": "code",
      "source": [
        "import pandas as pd\n",
        "import numpy as np"
      ],
      "metadata": {
        "id": "DqkMhwdaLOe0"
      },
      "execution_count": null,
      "outputs": []
    },
    {
      "cell_type": "code",
      "source": [
        "string_data = pd.Series(['aardvark','artichoke', np.nan, 'avocado'])"
      ],
      "metadata": {
        "id": "bJwS_95BKJux"
      },
      "execution_count": null,
      "outputs": []
    },
    {
      "cell_type": "code",
      "source": [
        "string_data"
      ],
      "metadata": {
        "id": "AoI6PuQ7KJx4"
      },
      "execution_count": null,
      "outputs": []
    },
    {
      "cell_type": "code",
      "source": [
        "string_data.isnull()"
      ],
      "metadata": {
        "id": "j0gWVgzEKJ1M"
      },
      "execution_count": null,
      "outputs": []
    },
    {
      "cell_type": "code",
      "source": [
        "string_data[0] = None"
      ],
      "metadata": {
        "id": "CAA37KzIKJ4d"
      },
      "execution_count": null,
      "outputs": []
    },
    {
      "cell_type": "code",
      "source": [
        "string_data.isnull()"
      ],
      "metadata": {
        "id": "c2nQ_uPvKJ7x"
      },
      "execution_count": null,
      "outputs": []
    },
    {
      "cell_type": "markdown",
      "source": [
        "### 7.1.1 누락된 데이터 골라내기"
      ],
      "metadata": {
        "id": "2-ODhuVUKJ-7"
      }
    },
    {
      "cell_type": "code",
      "source": [
        "from numpy import nan as NA"
      ],
      "metadata": {
        "id": "LpqqwPgMKKCX"
      },
      "execution_count": null,
      "outputs": []
    },
    {
      "cell_type": "code",
      "source": [
        "data = pd.Series([1,NA,3.5,NA,7])"
      ],
      "metadata": {
        "id": "nYxhYoZoMNrZ"
      },
      "execution_count": null,
      "outputs": []
    },
    {
      "cell_type": "code",
      "source": [
        "data"
      ],
      "metadata": {
        "id": "FM1b2MLrMNvL"
      },
      "execution_count": null,
      "outputs": []
    },
    {
      "cell_type": "code",
      "source": [
        "data.dropna()"
      ],
      "metadata": {
        "id": "43BSWdA7MNyc"
      },
      "execution_count": null,
      "outputs": []
    },
    {
      "cell_type": "code",
      "source": [
        "data[data.notnull()]"
      ],
      "metadata": {
        "id": "SefltL7AMN1-"
      },
      "execution_count": null,
      "outputs": []
    },
    {
      "cell_type": "code",
      "source": [
        "data[data.isnull()]"
      ],
      "metadata": {
        "id": "WPhiJ08HMN5l"
      },
      "execution_count": null,
      "outputs": []
    },
    {
      "cell_type": "code",
      "source": [
        "data = pd.DataFrame([[1.,6.5,3.],[1., NA, NA],[NA,NA,NA],[NA,6.5,3.]])"
      ],
      "metadata": {
        "id": "q_2YZMhpMN-X"
      },
      "execution_count": null,
      "outputs": []
    },
    {
      "cell_type": "code",
      "source": [
        "data"
      ],
      "metadata": {
        "id": "FZM3YneYMOCB"
      },
      "execution_count": null,
      "outputs": []
    },
    {
      "cell_type": "code",
      "source": [
        "cleaned = data.dropna()"
      ],
      "metadata": {
        "id": "7LzCWhV_MOFl"
      },
      "execution_count": null,
      "outputs": []
    },
    {
      "cell_type": "code",
      "source": [
        "cleaned"
      ],
      "metadata": {
        "id": "iJGmYhzIMOJP"
      },
      "execution_count": null,
      "outputs": []
    },
    {
      "cell_type": "code",
      "source": [
        "data[4] = NA"
      ],
      "metadata": {
        "id": "vChARvKDNVcD"
      },
      "execution_count": null,
      "outputs": []
    },
    {
      "cell_type": "code",
      "source": [
        "data"
      ],
      "metadata": {
        "id": "stT1Dug4NVfe"
      },
      "execution_count": null,
      "outputs": []
    },
    {
      "cell_type": "markdown",
      "source": [
        "- 컬럼 기준으로 드랍하고 싶을 때"
      ],
      "metadata": {
        "id": "Ecbm0MwpOIRY"
      }
    },
    {
      "cell_type": "code",
      "source": [
        "data.dropna(axis =1, how = 'all')"
      ],
      "metadata": {
        "id": "q8xogA8mNVii"
      },
      "execution_count": null,
      "outputs": []
    },
    {
      "cell_type": "code",
      "source": [
        "df = pd.DataFrame(np.random.randn(7,3))"
      ],
      "metadata": {
        "id": "k2-_2LFLNVmv"
      },
      "execution_count": null,
      "outputs": []
    },
    {
      "cell_type": "code",
      "source": [
        "df"
      ],
      "metadata": {
        "id": "JQh88ssINVpi"
      },
      "execution_count": null,
      "outputs": []
    },
    {
      "cell_type": "code",
      "source": [
        "df.iloc[:4,1] = NA"
      ],
      "metadata": {
        "id": "wBi7WEIENVs1"
      },
      "execution_count": null,
      "outputs": []
    },
    {
      "cell_type": "code",
      "source": [
        "df"
      ],
      "metadata": {
        "id": "tmF8c1umNVwK"
      },
      "execution_count": null,
      "outputs": []
    },
    {
      "cell_type": "code",
      "source": [
        "df.iloc[:2,2] = NA"
      ],
      "metadata": {
        "id": "_rP95-K-NVzh"
      },
      "execution_count": null,
      "outputs": []
    },
    {
      "cell_type": "code",
      "source": [
        "df"
      ],
      "metadata": {
        "id": "9pbxK7zDNV24"
      },
      "execution_count": null,
      "outputs": []
    },
    {
      "cell_type": "code",
      "source": [
        "df.dropna()"
      ],
      "metadata": {
        "id": "kcubXhYwNV5-"
      },
      "execution_count": null,
      "outputs": []
    },
    {
      "cell_type": "code",
      "source": [
        "df.dropna(axis = 1)"
      ],
      "metadata": {
        "id": "ZERVLikLNV9R"
      },
      "execution_count": null,
      "outputs": []
    },
    {
      "cell_type": "markdown",
      "source": [
        "- 몇개 이상의 값이 들어 있는 로우만 살펴보고 싶다면 thresh 인자에 값 넣기"
      ],
      "metadata": {
        "id": "GRFG0SS2NWA0"
      }
    },
    {
      "cell_type": "code",
      "source": [
        "df.dropna(thresh = 2) # 이해 잘 안됨.."
      ],
      "metadata": {
        "id": "PpxwXAmxNWEH"
      },
      "execution_count": null,
      "outputs": []
    },
    {
      "cell_type": "markdown",
      "source": [
        "### 7.1.2 결측치 채우기(fillna)"
      ],
      "metadata": {
        "id": "8ayJet0JOtOS"
      }
    },
    {
      "cell_type": "code",
      "source": [
        "df.fillna(0)"
      ],
      "metadata": {
        "id": "iIs66F07OtRj"
      },
      "execution_count": null,
      "outputs": []
    },
    {
      "cell_type": "markdown",
      "source": [
        "-  각 컬럼마다 다른 값으로 채울 수도 있음"
      ],
      "metadata": {
        "id": "_eQ1VPkpO250"
      }
    },
    {
      "cell_type": "code",
      "source": [
        "df.fillna({1:0.5,2:0})"
      ],
      "metadata": {
        "id": "J3rA5BJZOtU8"
      },
      "execution_count": null,
      "outputs": []
    },
    {
      "cell_type": "markdown",
      "source": [
        "- fillna는 새로운 객체를 반환하지만 다음처럼 기존 객체 변경도 가능"
      ],
      "metadata": {
        "id": "RkzCOiKUPAJ_"
      }
    },
    {
      "cell_type": "code",
      "source": [
        "_ = df.fillna(0, inplace = True)\n",
        "df"
      ],
      "metadata": {
        "id": "CS2bQUGHOtYh"
      },
      "execution_count": null,
      "outputs": []
    },
    {
      "cell_type": "code",
      "source": [
        "df = pd.DataFrame(np.random.randn(6,3))\n",
        "df"
      ],
      "metadata": {
        "id": "ZuCwp_lLOtb-"
      },
      "execution_count": null,
      "outputs": []
    },
    {
      "cell_type": "code",
      "source": [
        "df.iloc[2:,1] = NA\n",
        "df.iloc[4:,2] = NA"
      ],
      "metadata": {
        "id": "FgdKlC2GOtfR"
      },
      "execution_count": null,
      "outputs": []
    },
    {
      "cell_type": "code",
      "source": [
        "df"
      ],
      "metadata": {
        "id": "IGj-nVCkOtij"
      },
      "execution_count": null,
      "outputs": []
    },
    {
      "cell_type": "code",
      "source": [
        "df.fillna(method = 'ffill')"
      ],
      "metadata": {
        "id": "cdVlZJJMOtlw"
      },
      "execution_count": null,
      "outputs": []
    },
    {
      "cell_type": "markdown",
      "source": [
        "- ffillna의 limit을 정할 수 있음"
      ],
      "metadata": {
        "id": "NT3HmHmYPqlV"
      }
    },
    {
      "cell_type": "code",
      "source": [
        "df.fillna(method = 'ffill', limit = 2)"
      ],
      "metadata": {
        "id": "aF2k0VI_Oto7"
      },
      "execution_count": null,
      "outputs": []
    },
    {
      "cell_type": "code",
      "source": [
        "data = pd.Series([1.,NA,3.5,NA,7])\n",
        "data.fillna(data.mean())"
      ],
      "metadata": {
        "id": "fugYs2r-Otr0"
      },
      "execution_count": null,
      "outputs": []
    },
    {
      "cell_type": "markdown",
      "source": [
        "## 7.2 데이터 변형"
      ],
      "metadata": {
        "id": "JbOiAuvDOtvq"
      }
    },
    {
      "cell_type": "markdown",
      "source": [
        "### 7.2.1 중복 제거하기\n"
      ],
      "metadata": {
        "id": "-zlgZzXAOtyD"
      }
    },
    {
      "cell_type": "code",
      "source": [
        "data = pd.DataFrame({'k1':['one','two']*3 + ['two'], 'k2':[1,1,2,3,3,4,4]})\n",
        "data"
      ],
      "metadata": {
        "id": "cmzHyMVfOt1s"
      },
      "execution_count": null,
      "outputs": []
    },
    {
      "cell_type": "code",
      "source": [
        "data.duplicated() # 중복인지 아닌지 불리언 시리즈 반환"
      ],
      "metadata": {
        "id": "fUp8LOwLOt4w"
      },
      "execution_count": null,
      "outputs": []
    },
    {
      "cell_type": "code",
      "source": [
        "data.drop_duplicates() # 중복 제외한 데이터셋만 반환"
      ],
      "metadata": {
        "id": "1l3jhg_pOt8L"
      },
      "execution_count": null,
      "outputs": []
    },
    {
      "cell_type": "code",
      "source": [
        " data['v1'] = range(7)\n",
        " data"
      ],
      "metadata": {
        "id": "QFqr9upBOuAH"
      },
      "execution_count": null,
      "outputs": []
    },
    {
      "cell_type": "markdown",
      "source": [
        "- 중복을 찾아내는 기준 설정 가능"
      ],
      "metadata": {
        "id": "UzDnZ23yOuC_"
      }
    },
    {
      "cell_type": "code",
      "source": [
        "data.drop_duplicates(['k1']) # k1 열의 중복데이터 모두 제거"
      ],
      "metadata": {
        "id": "U98SkAdLOuGG"
      },
      "execution_count": null,
      "outputs": []
    },
    {
      "cell_type": "code",
      "source": [
        "data.drop_duplicates(['k1'], keep = 'last') # 중복된 값 중 마지막으로 발견한 값 반환"
      ],
      "metadata": {
        "id": "yrp5raUzQ11t"
      },
      "execution_count": null,
      "outputs": []
    },
    {
      "cell_type": "markdown",
      "source": [
        "### 7.2.2 함수나 매핑을 이용해서 데이터 변형하기"
      ],
      "metadata": {
        "id": "0ANCyiSiQ142"
      }
    },
    {
      "cell_type": "code",
      "source": [
        "data = pd.DataFrame({\"food\": [\"bacon\", \"pulled pork\", \"bacon\",\n",
        "                              \"pastrami\", \"corned beef\", \"bacon\",\n",
        "                              \"pastrami\", \"honey ham\", \"nova lox\"],\n",
        "                     \"ounces\": [4, 3, 12, 6, 7.5, 8, 3, 5, 6]})\n",
        "data"
      ],
      "metadata": {
        "id": "kiNgqvR6Q18Z"
      },
      "execution_count": null,
      "outputs": []
    },
    {
      "cell_type": "code",
      "source": [
        "meat_to_animal = {\n",
        "  \"bacon\": \"pig\",\n",
        "  \"pulled pork\": \"pig\",\n",
        "  \"pastrami\": \"cow\",\n",
        "  \"corned beef\": \"cow\",\n",
        "  \"honey ham\": \"pig\",\n",
        "  \"nova lox\": \"salmon\"\n",
        "}"
      ],
      "metadata": {
        "id": "dlUS8MGLQ1_o"
      },
      "execution_count": null,
      "outputs": []
    },
    {
      "cell_type": "code",
      "source": [
        "lowercased = data['food'].str.lower()"
      ],
      "metadata": {
        "id": "OIhxGAb1Q2DN"
      },
      "execution_count": null,
      "outputs": []
    },
    {
      "cell_type": "code",
      "source": [
        "lowercased"
      ],
      "metadata": {
        "id": "oyYSVsKWQ2GQ"
      },
      "execution_count": null,
      "outputs": []
    },
    {
      "cell_type": "markdown",
      "source": [
        "- 데이터 매핑을 통해 컿럼을 옆에 붙임"
      ],
      "metadata": {
        "id": "xElMY-JDR4pX"
      }
    },
    {
      "cell_type": "code",
      "source": [
        "data['animal'] = lowercased.map(meat_to_animal) "
      ],
      "metadata": {
        "id": "Ne7KRYFZQ2Jc"
      },
      "execution_count": null,
      "outputs": []
    },
    {
      "cell_type": "code",
      "source": [
        "data"
      ],
      "metadata": {
        "id": "JH5_dSenQ2ND"
      },
      "execution_count": null,
      "outputs": []
    },
    {
      "cell_type": "code",
      "source": [
        " data['food'].map(lambda x : meat_to_animal[x.lower()])"
      ],
      "metadata": {
        "id": "QxACtqFCQ2Qo"
      },
      "execution_count": null,
      "outputs": []
    },
    {
      "cell_type": "markdown",
      "source": [
        "### 7.2.3 값 치환하기"
      ],
      "metadata": {
        "id": "3ulAYCOCQ2Ty"
      }
    },
    {
      "cell_type": "code",
      "source": [
        "data = pd.Series([1., -999., 2., -999., -1000., 3.])\n",
        "data"
      ],
      "metadata": {
        "id": "XQUkUJ9IQ2XW"
      },
      "execution_count": null,
      "outputs": []
    },
    {
      "cell_type": "code",
      "source": [
        "data.replace(-999, np.nan)"
      ],
      "metadata": {
        "id": "GrJtOeqUQ2a0"
      },
      "execution_count": null,
      "outputs": []
    },
    {
      "cell_type": "markdown",
      "source": [
        "- 여러개를 한번에 치환하려면"
      ],
      "metadata": {
        "id": "VRCVo8i5ScUA"
      }
    },
    {
      "cell_type": "code",
      "source": [
        "data.replace([-999,-1000], np.nan)"
      ],
      "metadata": {
        "id": "g0-9Nb7ZQ2eu"
      },
      "execution_count": null,
      "outputs": []
    },
    {
      "cell_type": "markdown",
      "source": [
        "- 각자 값마다 지정할 값이 다르다면"
      ],
      "metadata": {
        "id": "nKn2xaclQ2iJ"
      }
    },
    {
      "cell_type": "code",
      "source": [
        "data.replace([-999,-1000],[np.nan,0])"
      ],
      "metadata": {
        "id": "IHe3SkZvQ2lz"
      },
      "execution_count": null,
      "outputs": []
    },
    {
      "cell_type": "code",
      "source": [
        "data.replace({-999 : np.nan, -1000 : 0})"
      ],
      "metadata": {
        "id": "vGr84MyQQ2o3"
      },
      "execution_count": null,
      "outputs": []
    },
    {
      "cell_type": "markdown",
      "source": [
        "### 7.2.4 축 색인 이름 바꾸기"
      ],
      "metadata": {
        "id": "lichad1tQ2sz"
      }
    },
    {
      "cell_type": "code",
      "source": [
        "data = pd.DataFrame(np.arange(12).reshape((3, 4)),\n",
        "                    index=[\"Ohio\", \"Colorado\", \"New York\"],\n",
        "                    columns=[\"one\", \"two\", \"three\", \"four\"])"
      ],
      "metadata": {
        "id": "tmv1mfrfQ2wI"
      },
      "execution_count": null,
      "outputs": []
    },
    {
      "cell_type": "code",
      "source": [
        "transform = lambda x : x[:4].upper()"
      ],
      "metadata": {
        "id": "2JWyPDuLQ2z2"
      },
      "execution_count": null,
      "outputs": []
    },
    {
      "cell_type": "code",
      "source": [
        "transform"
      ],
      "metadata": {
        "id": "ecNO3wncQ238"
      },
      "execution_count": null,
      "outputs": []
    },
    {
      "cell_type": "code",
      "source": [
        "data.index.map(transform)"
      ],
      "metadata": {
        "id": "Mc_uvGeQTPVs"
      },
      "execution_count": null,
      "outputs": []
    },
    {
      "cell_type": "code",
      "source": [
        "data.index = data.index.map(transform)"
      ],
      "metadata": {
        "id": "t6fbZJWbTPZJ"
      },
      "execution_count": null,
      "outputs": []
    },
    {
      "cell_type": "code",
      "source": [
        "data"
      ],
      "metadata": {
        "id": "-W39esFeTPc0"
      },
      "execution_count": null,
      "outputs": []
    },
    {
      "cell_type": "markdown",
      "source": [
        "- 새로운 객체를 생성하려면"
      ],
      "metadata": {
        "id": "3iCsShYITPfw"
      }
    },
    {
      "cell_type": "code",
      "source": [
        "data.rename(index = str.title, columns = str.upper)"
      ],
      "metadata": {
        "id": "l2F99OyzTPkF"
      },
      "execution_count": null,
      "outputs": []
    },
    {
      "cell_type": "markdown",
      "source": [
        "- rename 매서드는 사전형식으로 축 이름 중 일부만 변경 가능"
      ],
      "metadata": {
        "id": "wfyVTM21TPmw"
      }
    },
    {
      "cell_type": "code",
      "source": [
        "data.rename(index={'OHIO' : 'INDIANA'},columns = {'three':'peekaboo'})"
      ],
      "metadata": {
        "id": "xTOXLD_5TPqD"
      },
      "execution_count": null,
      "outputs": []
    },
    {
      "cell_type": "markdown",
      "source": [
        "- rename의 경우 데이터 프레임을 직접 복사해서 index와 columns 속성을 갱신할 필요 없이 바로 변경 가능"
      ],
      "metadata": {
        "id": "m90Y2lxITPt9"
      }
    },
    {
      "cell_type": "code",
      "source": [
        "data # 위의 변경 내용 저장 안되어 있음"
      ],
      "metadata": {
        "id": "ECcJTdeQUKtf"
      },
      "execution_count": null,
      "outputs": []
    },
    {
      "cell_type": "code",
      "source": [
        "data.rename(index={'OHIO' : 'INDIANA'},columns = {'three':'peekaboo'}, inplace = True)"
      ],
      "metadata": {
        "id": "hFkxSeN1TPwm"
      },
      "execution_count": null,
      "outputs": []
    },
    {
      "cell_type": "code",
      "source": [
        "data # 위의 내용 바로 적용되어 있음"
      ],
      "metadata": {
        "id": "CgJJtH-3UP5T"
      },
      "execution_count": null,
      "outputs": []
    },
    {
      "cell_type": "markdown",
      "source": [
        "### 7.2.5 개별화와 양자화"
      ],
      "metadata": {
        "id": "NDHedKWnW4Cc"
      }
    },
    {
      "cell_type": "code",
      "source": [
        "ages = [20,22,25,27,21,23,37,31,62,45,41,32]"
      ],
      "metadata": {
        "id": "6xHSU5XmW4Fp"
      },
      "execution_count": null,
      "outputs": []
    },
    {
      "cell_type": "code",
      "source": [
        "ages = [20,22,25,27]\n",
        "bins = [18,25,35,60,100]"
      ],
      "metadata": {
        "id": "EhEa-X8eW4JO"
      },
      "execution_count": null,
      "outputs": []
    },
    {
      "cell_type": "code",
      "source": [
        "cats = pd.cut(ages,bins)"
      ],
      "metadata": {
        "id": "fsvhJuPsW4Mc"
      },
      "execution_count": null,
      "outputs": []
    },
    {
      "cell_type": "code",
      "source": [
        "cats"
      ],
      "metadata": {
        "id": "IZaqNz3mW4QI"
      },
      "execution_count": null,
      "outputs": []
    },
    {
      "cell_type": "code",
      "source": [
        "cats.codes"
      ],
      "metadata": {
        "id": "Z4o84QTyW4Tg"
      },
      "execution_count": null,
      "outputs": []
    },
    {
      "cell_type": "code",
      "source": [
        "cats.categories"
      ],
      "metadata": {
        "id": "uzfuFhfYW4XH"
      },
      "execution_count": null,
      "outputs": []
    },
    {
      "cell_type": "code",
      "source": [
        "pd.value_counts(cats)"
      ],
      "metadata": {
        "id": "Eozg85X5W4an"
      },
      "execution_count": null,
      "outputs": []
    },
    {
      "cell_type": "markdown",
      "source": [
        "- 중괄호 쪽의 값은 포함하지 않고 대괄호 쪽의 값은 포함하는 간격을 의미\n",
        "- labels 옵션을 통해 그룹의 이름 설정 가능"
      ],
      "metadata": {
        "id": "udqWgExwW4d6"
      }
    },
    {
      "cell_type": "code",
      "source": [
        "group_names = ['Youth','YoungAdult','MiddlAged','Senior']"
      ],
      "metadata": {
        "id": "iTadWIpnW4hR"
      },
      "execution_count": null,
      "outputs": []
    },
    {
      "cell_type": "code",
      "source": [
        "pd.cut(ages, bins,labels = group_names)"
      ],
      "metadata": {
        "id": "503Soos1W4kk"
      },
      "execution_count": null,
      "outputs": []
    },
    {
      "cell_type": "markdown",
      "source": [
        "- 그룹의 경곗값을 넘기지 않고 그룹의 개수를 넘겨주면 데이터에서 최솟값과 최댓값을 기준으로 균등한 길이의 그룹을 자동 계산"
      ],
      "metadata": {
        "id": "1eDxUT22W4oI"
      }
    },
    {
      "cell_type": "code",
      "source": [
        "data = np.random.rand(20)\n",
        "pd.cut(data, 4, precision = 2) # precision -> 소숫점 자리리"
      ],
      "metadata": {
        "id": "jPWdhPIgW4rU"
      },
      "execution_count": null,
      "outputs": []
    },
    {
      "cell_type": "markdown",
      "source": [
        "- 사실 qcut을 더 잘 사용, 적당히 같은 크기의 그룹으로 나누고자함!"
      ],
      "metadata": {
        "id": "DK0k_CrzaQA5"
      }
    },
    {
      "cell_type": "code",
      "source": [
        "data = np.random.rand(1000)\n",
        "pd.qcut(data, 4) # precision -> 소숫점 자리리"
      ],
      "metadata": {
        "id": "m1vbQf6yW4uo"
      },
      "execution_count": null,
      "outputs": []
    },
    {
      "cell_type": "code",
      "source": [
        "print(pd.value_counts(pd.cut(data, 4)), \n",
        "pd.value_counts(pd.qcut(data, 4)))"
      ],
      "metadata": {
        "id": "iQRSKqU3W4x9"
      },
      "execution_count": null,
      "outputs": []
    },
    {
      "cell_type": "markdown",
      "source": [
        "### 7.2.6 특잇값을 찾고 제외하기"
      ],
      "metadata": {
        "id": "QLYVdSsNW414"
      }
    },
    {
      "cell_type": "code",
      "source": [
        "data = pd.DataFrame(np.random.randn(1000,4))\n",
        "data"
      ],
      "metadata": {
        "id": "p2rHi0F7W45B"
      },
      "execution_count": null,
      "outputs": []
    },
    {
      "cell_type": "code",
      "source": [
        "data.describe()"
      ],
      "metadata": {
        "id": "QRFU65tka-6W"
      },
      "execution_count": null,
      "outputs": []
    },
    {
      "cell_type": "code",
      "source": [
        "# 한 컬럼에서 절대값이 3 초과하는 값을 찾아보자!\n",
        "col = data[2]\n",
        "col[np.abs(col)>3]"
      ],
      "metadata": {
        "id": "U0tgrvOVa1Bv"
      },
      "execution_count": null,
      "outputs": []
    },
    {
      "cell_type": "code",
      "source": [
        "data[(np.abs(data)>3).any(1)] # any 메서드...중요"
      ],
      "metadata": {
        "id": "9chIpR91a1FP"
      },
      "execution_count": null,
      "outputs": []
    },
    {
      "cell_type": "code",
      "source": [
        "data[np.abs(data)>3] = np.sign(data)*3 # np.sign -> 값의 부호값 반환"
      ],
      "metadata": {
        "id": "MXL-dxmUa1IS"
      },
      "execution_count": null,
      "outputs": []
    },
    {
      "cell_type": "code",
      "source": [
        "data.iloc[23,1] # 값 바뀐거 확인 가능"
      ],
      "metadata": {
        "id": "LfyDGBdjcAoF"
      },
      "execution_count": null,
      "outputs": []
    },
    {
      "cell_type": "markdown",
      "source": [
        "### 7.2.7 치환과 임의 샘플링"
      ],
      "metadata": {
        "id": "08kMNcRRa1On"
      }
    },
    {
      "cell_type": "code",
      "source": [
        "df = pd.DataFrame(np.arange(5*4).reshape((5,4)))\n",
        "df"
      ],
      "metadata": {
        "id": "MsROtT-ua1U7"
      },
      "execution_count": null,
      "outputs": []
    },
    {
      "cell_type": "code",
      "source": [
        "sampler = np.random.permutation(5)"
      ],
      "metadata": {
        "id": "C96rOwLla1kM"
      },
      "execution_count": null,
      "outputs": []
    },
    {
      "cell_type": "code",
      "source": [
        "sampler"
      ],
      "metadata": {
        "id": "HXdsNl75a1nU"
      },
      "execution_count": null,
      "outputs": []
    },
    {
      "cell_type": "code",
      "source": [
        "df.take(sampler)"
      ],
      "metadata": {
        "id": "ZevtJ9AOa1qZ"
      },
      "execution_count": null,
      "outputs": []
    },
    {
      "cell_type": "markdown",
      "source": [
        "- 단순 랜덤 추출"
      ],
      "metadata": {
        "id": "VddXxuAIg9dO"
      }
    },
    {
      "cell_type": "code",
      "source": [
        "df.sample(n=3)"
      ],
      "metadata": {
        "id": "CqHbdndua1ta"
      },
      "execution_count": null,
      "outputs": []
    },
    {
      "cell_type": "markdown",
      "source": [
        "- 랜덤 반복 허용용 추출"
      ],
      "metadata": {
        "id": "wDoQUEabhAnP"
      }
    },
    {
      "cell_type": "code",
      "source": [
        "choices = pd.Series([5,7,-1,6,4])"
      ],
      "metadata": {
        "id": "Oo5zPP5Egj6j"
      },
      "execution_count": null,
      "outputs": []
    },
    {
      "cell_type": "code",
      "source": [
        "draws = choices.sample(n=10,replace = True)"
      ],
      "metadata": {
        "id": "1LMKMrfFgj9c"
      },
      "execution_count": null,
      "outputs": []
    },
    {
      "cell_type": "code",
      "source": [
        "draws"
      ],
      "metadata": {
        "id": "HXP7SB8FgkAH"
      },
      "execution_count": null,
      "outputs": []
    },
    {
      "cell_type": "markdown",
      "source": [
        "### 7.2.8 표시자/더미변수 계산하기"
      ],
      "metadata": {
        "id": "L0EL9cmYgkC_"
      }
    },
    {
      "cell_type": "code",
      "source": [
        "df = pd.DataFrame({'key':['b','b','a','c','a','b'],'data1' : range(6)})"
      ],
      "metadata": {
        "id": "jyCstOdegkF9"
      },
      "execution_count": null,
      "outputs": []
    },
    {
      "cell_type": "code",
      "source": [
        "df"
      ],
      "metadata": {
        "id": "GzyEpC6sgkI2"
      },
      "execution_count": null,
      "outputs": []
    },
    {
      "cell_type": "code",
      "source": [
        "pd.get_dummies(df['key'])"
      ],
      "metadata": {
        "id": "cPn99oLagkLy"
      },
      "execution_count": null,
      "outputs": []
    },
    {
      "cell_type": "markdown",
      "source": [
        "- 컬럼에 접두어를 추가해 더미 가능"
      ],
      "metadata": {
        "id": "vvyVTkxmgkPf"
      }
    },
    {
      "cell_type": "code",
      "source": [
        "dummies = pd.get_dummies(df['key'], prefix = 'key')"
      ],
      "metadata": {
        "id": "jgulxOAIgkSo"
      },
      "execution_count": null,
      "outputs": []
    },
    {
      "cell_type": "code",
      "source": [
        "dummies"
      ],
      "metadata": {
        "id": "7eNRzWvahvKn"
      },
      "execution_count": null,
      "outputs": []
    },
    {
      "cell_type": "code",
      "source": [
        "df_with_dummy = df[['data1']].join(dummies)"
      ],
      "metadata": {
        "id": "a4TWopIKhvN5"
      },
      "execution_count": null,
      "outputs": []
    },
    {
      "cell_type": "code",
      "source": [
        "df_with_dummy "
      ],
      "metadata": {
        "id": "BjlTn3cwhvRL"
      },
      "execution_count": null,
      "outputs": []
    },
    {
      "cell_type": "code",
      "source": [
        "mnames = ['movie_id','title','genres']\n",
        "movies = pd.read_table('/content/drive/MyDrive/Python for Data Analysis/datasets/movielens/movies.dat', sep='::', header = None, names = mnames)"
      ],
      "metadata": {
        "id": "H8pWbd-MhvUs"
      },
      "execution_count": null,
      "outputs": []
    },
    {
      "cell_type": "code",
      "source": [
        "movies"
      ],
      "metadata": {
        "id": "DsnB5wXXiJCN"
      },
      "execution_count": null,
      "outputs": []
    },
    {
      "cell_type": "code",
      "source": [
        "movies.iloc[0,2].split('|')"
      ],
      "metadata": {
        "id": "A-N99oZli-9d"
      },
      "execution_count": null,
      "outputs": []
    },
    {
      "cell_type": "code",
      "source": [
        "all_genres = []\n",
        "for x in movies.genres :\n",
        "  all_genres.extend(x.split('|'))"
      ],
      "metadata": {
        "id": "A6giJ5DfiJFg"
      },
      "execution_count": null,
      "outputs": []
    },
    {
      "cell_type": "code",
      "source": [
        "all_genres[0:5]"
      ],
      "metadata": {
        "id": "LV7vGEDDiJIn"
      },
      "execution_count": null,
      "outputs": []
    },
    {
      "cell_type": "code",
      "source": [
        "genres = pd.unique(all_genres)"
      ],
      "metadata": {
        "id": "HfH4D_XMiJL3"
      },
      "execution_count": null,
      "outputs": []
    },
    {
      "cell_type": "code",
      "source": [
        "genres"
      ],
      "metadata": {
        "id": "QY_ZGBbFiJPI"
      },
      "execution_count": null,
      "outputs": []
    },
    {
      "cell_type": "code",
      "source": [
        "zero_matrix = np.zeros((len(movies),len(genres)))"
      ],
      "metadata": {
        "id": "9FqjwL6kiJSE"
      },
      "execution_count": null,
      "outputs": []
    },
    {
      "cell_type": "code",
      "source": [
        "dummies = pd.DataFrame(zero_matrix, columns = genres)"
      ],
      "metadata": {
        "id": "-AlSVyeliJUx"
      },
      "execution_count": null,
      "outputs": []
    },
    {
      "cell_type": "code",
      "source": [
        "dummies"
      ],
      "metadata": {
        "id": "QhF8iVDniJX8"
      },
      "execution_count": null,
      "outputs": []
    },
    {
      "cell_type": "code",
      "source": [
        "gen = movies.genres[0]\n",
        "gen.split('|')"
      ],
      "metadata": {
        "id": "gg2ydyURiJbA"
      },
      "execution_count": null,
      "outputs": []
    },
    {
      "cell_type": "code",
      "source": [
        "dummies.columns.get_indexer(gen.split('|'))"
      ],
      "metadata": {
        "id": "4HR9BcrriJeW"
      },
      "execution_count": null,
      "outputs": []
    },
    {
      "cell_type": "code",
      "source": [
        "dummies.columns"
      ],
      "metadata": {
        "id": "0To62r24iJhg"
      },
      "execution_count": null,
      "outputs": []
    },
    {
      "cell_type": "code",
      "source": [
        "movies.genres"
      ],
      "metadata": {
        "id": "lcrBDcsJk5Is"
      },
      "execution_count": null,
      "outputs": []
    },
    {
      "cell_type": "code",
      "source": [
        "for i, gen in enumerate(movies.genres) : \n",
        "  indices = dummies.columns.get_indexer(gen.split('|'))\n",
        "  dummies.iloc[i, indices] = 1"
      ],
      "metadata": {
        "id": "AJOtx7zeiJkv"
      },
      "execution_count": null,
      "outputs": []
    },
    {
      "cell_type": "code",
      "source": [
        "dummies"
      ],
      "metadata": {
        "id": "A4tjrIrZiJn2"
      },
      "execution_count": null,
      "outputs": []
    },
    {
      "cell_type": "code",
      "source": [
        "movies_windic = movies.join(dummies.add_prefix('Genre_'))\n",
        "movies_windic"
      ],
      "metadata": {
        "id": "b-eV1jQniJrR"
      },
      "execution_count": null,
      "outputs": []
    },
    {
      "cell_type": "markdown",
      "source": [
        "### 7.3 문자열 다루기\n"
      ],
      "metadata": {
        "id": "zXuvBV1CiJut"
      }
    },
    {
      "cell_type": "markdown",
      "source": [
        "### 7.3.1 문자열 객체 메서드"
      ],
      "metadata": {
        "id": "27Wswe0IiJx7"
      }
    },
    {
      "cell_type": "code",
      "source": [
        "val = 'a,b,guido'\n",
        "val.split(',')"
      ],
      "metadata": {
        "id": "SvayI0ebiJ1X"
      },
      "execution_count": null,
      "outputs": []
    },
    {
      "cell_type": "code",
      "source": [
        "pieces = [x.strip() for x in val.split(',')]\n",
        "pieces"
      ],
      "metadata": {
        "id": "Ej-oakrHiJ5L"
      },
      "execution_count": null,
      "outputs": []
    },
    {
      "cell_type": "code",
      "source": [
        "first, second, third = pieces"
      ],
      "metadata": {
        "id": "VD-ZxVaYhvXy"
      },
      "execution_count": null,
      "outputs": []
    },
    {
      "cell_type": "code",
      "source": [
        "first+'::'+second+'::'+third"
      ],
      "metadata": {
        "id": "CE2KHF2UhvbG"
      },
      "execution_count": null,
      "outputs": []
    },
    {
      "cell_type": "code",
      "source": [
        "'::'.join(pieces)"
      ],
      "metadata": {
        "id": "GqWS95AFhveQ"
      },
      "execution_count": null,
      "outputs": []
    },
    {
      "cell_type": "code",
      "source": [
        "val"
      ],
      "metadata": {
        "id": "mbpgpHQln-W1"
      },
      "execution_count": null,
      "outputs": []
    },
    {
      "cell_type": "markdown",
      "source": [
        "### 7.3.2 정규 표현식\n",
        "- 텍스트에서 문자열 패턴을 찾는 유연한 방법을 제공\n",
        "- 패턴 매칭, 치환, 분리 세가지"
      ],
      "metadata": {
        "id": "PwGeVI8Un-Z_"
      }
    },
    {
      "cell_type": "code",
      "source": [
        "import re\n",
        "text = \"foo bar baz qux\"\n",
        "re.split('\\s+', text)"
      ],
      "metadata": {
        "id": "TbjRIWsan-dM"
      },
      "execution_count": null,
      "outputs": []
    },
    {
      "cell_type": "markdown",
      "source": [
        "- re.compile로 직접 정규 표현식을 컴파일하고 그렇게 얻은 정규 표현식 객체를 재사용하는 것도 가능"
      ],
      "metadata": {
        "id": "YXin7jnQrbui"
      }
    },
    {
      "cell_type": "code",
      "source": [
        "regex = re.compile('\\s+')\n",
        "regex.split(text)"
      ],
      "metadata": {
        "id": "jEYwk39bn-gV"
      },
      "execution_count": null,
      "outputs": []
    },
    {
      "cell_type": "markdown",
      "source": [
        "- 정규 표현식에 매칭되는 모든 패턴의 목록을 얻고 싶다면"
      ],
      "metadata": {
        "id": "mjin0AC6n-jb"
      }
    },
    {
      "cell_type": "code",
      "source": [
        "regex.findall(text)"
      ],
      "metadata": {
        "id": "NxCZqe1vn-mZ"
      },
      "execution_count": null,
      "outputs": []
    },
    {
      "cell_type": "code",
      "source": [
        "text = \"\"\"Dave dave@google.com\n",
        "Steve steve@google.com\n",
        "Rob rob@google.com\n",
        "Ryan ryan@yahoo.com\n",
        "\"\"\"\n",
        "\n",
        "pattern = r\"[A-Z0-9._%+-]+@[A-Z0-9.-]+\\.[A-Z]{2,4}\""
      ],
      "metadata": {
        "id": "AWaXCrfBn-pV"
      },
      "execution_count": null,
      "outputs": []
    },
    {
      "cell_type": "code",
      "source": [
        "regex = re.compile(pattern, flags = re.IGNORECASE)"
      ],
      "metadata": {
        "id": "HChm3Nksn-vb"
      },
      "execution_count": null,
      "outputs": []
    },
    {
      "cell_type": "code",
      "source": [
        "regex.findall(text)"
      ],
      "metadata": {
        "id": "R4WnIOA5n-yh"
      },
      "execution_count": null,
      "outputs": []
    },
    {
      "cell_type": "code",
      "source": [
        "m = regex.search(text)"
      ],
      "metadata": {
        "id": "q_SnFyWgs8J_"
      },
      "execution_count": null,
      "outputs": []
    },
    {
      "cell_type": "code",
      "source": [
        "text[m.start():m.end()]"
      ],
      "metadata": {
        "id": "AwgmE9Bas8NN"
      },
      "execution_count": null,
      "outputs": []
    },
    {
      "cell_type": "code",
      "source": [
        "# 찾은 패턴을 주어진 문자열로 치환\n",
        "print(regex.sub('REDACTED', text))"
      ],
      "metadata": {
        "id": "2b0cuOE3s8QX"
      },
      "execution_count": null,
      "outputs": []
    },
    {
      "cell_type": "markdown",
      "source": [
        "### 7.3.3 pandas의 벡터화된 문자열 함수"
      ],
      "metadata": {
        "id": "V91cdTY2s8Td"
      }
    },
    {
      "cell_type": "code",
      "source": [
        "data = {'Dave':'dave@google,com','Steve':'steve@google.com','Rob':'rob@gmail.com','Wes':np.nan}"
      ],
      "metadata": {
        "id": "ljxrnCd-s8WU"
      },
      "execution_count": null,
      "outputs": []
    },
    {
      "cell_type": "code",
      "source": [
        "data = pd.Series(data)"
      ],
      "metadata": {
        "id": "lfj3UPjCs8Zw"
      },
      "execution_count": null,
      "outputs": []
    },
    {
      "cell_type": "code",
      "source": [
        "data"
      ],
      "metadata": {
        "id": "bsgAbjd2s8c5"
      },
      "execution_count": null,
      "outputs": []
    },
    {
      "cell_type": "code",
      "source": [
        "data.isnull()"
      ],
      "metadata": {
        "id": "fW48e3CHs8fy"
      },
      "execution_count": null,
      "outputs": []
    },
    {
      "cell_type": "markdown",
      "source": [
        "- Series의 str 속성을 이용해 특정 단어를 포함하고 있는지 검사"
      ],
      "metadata": {
        "id": "ZKnhL3_js8i0"
      }
    },
    {
      "cell_type": "code",
      "source": [
        "data.str.contains('gmail')"
      ],
      "metadata": {
        "id": "k3V1lYICs8l8"
      },
      "execution_count": null,
      "outputs": []
    },
    {
      "cell_type": "code",
      "source": [
        "data.str[:5]"
      ],
      "metadata": {
        "id": "9oodvSQFs8on"
      },
      "execution_count": null,
      "outputs": []
    },
    {
      "cell_type": "code",
      "source": [],
      "metadata": {
        "id": "rowI6UPus8ry"
      },
      "execution_count": null,
      "outputs": []
    },
    {
      "cell_type": "code",
      "source": [],
      "metadata": {
        "id": "jGScBpOws8uM"
      },
      "execution_count": null,
      "outputs": []
    },
    {
      "cell_type": "code",
      "source": [],
      "metadata": {
        "id": "mTRkambin-2H"
      },
      "execution_count": null,
      "outputs": []
    },
    {
      "cell_type": "code",
      "source": [],
      "metadata": {
        "id": "di2pwqaYn-4r"
      },
      "execution_count": null,
      "outputs": []
    }
  ]
}