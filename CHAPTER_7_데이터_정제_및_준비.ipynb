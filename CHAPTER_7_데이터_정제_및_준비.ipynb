{
  "nbformat": 4,
  "nbformat_minor": 0,
  "metadata": {
    "colab": {
      "private_outputs": true,
      "provenance": [],
      "authorship_tag": "ABX9TyP9bY/z+SLWS4tlqPK7J/qT",
      "include_colab_link": true
    },
    "kernelspec": {
      "name": "python3",
      "display_name": "Python 3"
    },
    "language_info": {
      "name": "python"
    }
  },
  "cells": [
    {
      "cell_type": "markdown",
      "metadata": {
        "id": "view-in-github",
        "colab_type": "text"
      },
      "source": [
        "<a href=\"https://colab.research.google.com/github/yschoi9930/Python-for-Data-Analysis/blob/main/CHAPTER_7_%EB%8D%B0%EC%9D%B4%ED%84%B0_%EC%A0%95%EC%A0%9C_%EB%B0%8F_%EC%A4%80%EB%B9%84.ipynb\" target=\"_parent\"><img src=\"https://colab.research.google.com/assets/colab-badge.svg\" alt=\"Open In Colab\"/></a>"
      ]
    },
    {
      "cell_type": "markdown",
      "source": [
        "# CHAPTER 7 데이터 정제 및 준비"
      ],
      "metadata": {
        "id": "sBjryPStKAyX"
      }
    },
    {
      "cell_type": "markdown",
      "source": [
        "## 7.1 누락된 데이터 처리하기\n",
        "- pandas 객체의 모든 기술 통계는 누락된 데이터를 배제하고 처리한다.\n",
        "- NA는 데이터가 존재하지 않거나, 존재하더라도 데이터를 수집하는 과정에서 검출되지 않았음을 의미\n",
        "- 결측치 자체를 데이터 수집과정에서의 실수나 결측치로 인한 잠재적인 편향을 찾아내는 수단으로 인식하는 것이 중요!\n",
        "- None 값도 NA 값으로 취급"
      ],
      "metadata": {
        "id": "GivdZSoKKJrZ"
      }
    },
    {
      "cell_type": "code",
      "source": [
        "import pandas as pd\n",
        "import numpy as np"
      ],
      "metadata": {
        "id": "DqkMhwdaLOe0"
      },
      "execution_count": null,
      "outputs": []
    },
    {
      "cell_type": "code",
      "source": [
        "string_data = pd.Series(['aardvark','artichoke', np.nan, 'avocado'])"
      ],
      "metadata": {
        "id": "bJwS_95BKJux"
      },
      "execution_count": null,
      "outputs": []
    },
    {
      "cell_type": "code",
      "source": [
        "string_data"
      ],
      "metadata": {
        "id": "AoI6PuQ7KJx4"
      },
      "execution_count": null,
      "outputs": []
    },
    {
      "cell_type": "code",
      "source": [
        "string_data.isnull()"
      ],
      "metadata": {
        "id": "j0gWVgzEKJ1M"
      },
      "execution_count": null,
      "outputs": []
    },
    {
      "cell_type": "code",
      "source": [
        "string_data[0] = None"
      ],
      "metadata": {
        "id": "CAA37KzIKJ4d"
      },
      "execution_count": null,
      "outputs": []
    },
    {
      "cell_type": "code",
      "source": [
        "string_data.isnull()"
      ],
      "metadata": {
        "id": "c2nQ_uPvKJ7x"
      },
      "execution_count": null,
      "outputs": []
    },
    {
      "cell_type": "markdown",
      "source": [
        "### 7.1.1 누락된 데이터 골라내기"
      ],
      "metadata": {
        "id": "2-ODhuVUKJ-7"
      }
    },
    {
      "cell_type": "code",
      "source": [
        "from numpy import nan as NA"
      ],
      "metadata": {
        "id": "LpqqwPgMKKCX"
      },
      "execution_count": null,
      "outputs": []
    },
    {
      "cell_type": "code",
      "source": [
        "data = pd.Series([1,NA,3.5,NA,7])"
      ],
      "metadata": {
        "id": "nYxhYoZoMNrZ"
      },
      "execution_count": null,
      "outputs": []
    },
    {
      "cell_type": "code",
      "source": [
        "data"
      ],
      "metadata": {
        "id": "FM1b2MLrMNvL"
      },
      "execution_count": null,
      "outputs": []
    },
    {
      "cell_type": "code",
      "source": [
        "data.dropna()"
      ],
      "metadata": {
        "id": "43BSWdA7MNyc"
      },
      "execution_count": null,
      "outputs": []
    },
    {
      "cell_type": "code",
      "source": [
        "data[data.notnull()]"
      ],
      "metadata": {
        "id": "SefltL7AMN1-"
      },
      "execution_count": null,
      "outputs": []
    },
    {
      "cell_type": "code",
      "source": [
        "data[data.isnull()]"
      ],
      "metadata": {
        "id": "WPhiJ08HMN5l"
      },
      "execution_count": null,
      "outputs": []
    },
    {
      "cell_type": "code",
      "source": [
        "data = pd.DataFrame([[1.,6.5,3.],[1., NA, NA],[NA,NA,NA],[NA,6.5,3.]])"
      ],
      "metadata": {
        "id": "q_2YZMhpMN-X"
      },
      "execution_count": null,
      "outputs": []
    },
    {
      "cell_type": "code",
      "source": [
        "data"
      ],
      "metadata": {
        "id": "FZM3YneYMOCB"
      },
      "execution_count": null,
      "outputs": []
    },
    {
      "cell_type": "code",
      "source": [
        "cleaned = data.dropna()"
      ],
      "metadata": {
        "id": "7LzCWhV_MOFl"
      },
      "execution_count": null,
      "outputs": []
    },
    {
      "cell_type": "code",
      "source": [
        "cleaned"
      ],
      "metadata": {
        "id": "iJGmYhzIMOJP"
      },
      "execution_count": null,
      "outputs": []
    },
    {
      "cell_type": "code",
      "source": [
        "data[4] = NA"
      ],
      "metadata": {
        "id": "vChARvKDNVcD"
      },
      "execution_count": null,
      "outputs": []
    },
    {
      "cell_type": "code",
      "source": [
        "data"
      ],
      "metadata": {
        "id": "stT1Dug4NVfe"
      },
      "execution_count": null,
      "outputs": []
    },
    {
      "cell_type": "markdown",
      "source": [
        "- 컬럼 기준으로 드랍하고 싶을 때"
      ],
      "metadata": {
        "id": "Ecbm0MwpOIRY"
      }
    },
    {
      "cell_type": "code",
      "source": [
        "data.dropna(axis =1, how = 'all')"
      ],
      "metadata": {
        "id": "q8xogA8mNVii"
      },
      "execution_count": null,
      "outputs": []
    },
    {
      "cell_type": "code",
      "source": [
        "df = pd.DataFrame(np.random.randn(7,3))"
      ],
      "metadata": {
        "id": "k2-_2LFLNVmv"
      },
      "execution_count": null,
      "outputs": []
    },
    {
      "cell_type": "code",
      "source": [
        "df"
      ],
      "metadata": {
        "id": "JQh88ssINVpi"
      },
      "execution_count": null,
      "outputs": []
    },
    {
      "cell_type": "code",
      "source": [
        "df.iloc[:4,1] = NA"
      ],
      "metadata": {
        "id": "wBi7WEIENVs1"
      },
      "execution_count": null,
      "outputs": []
    },
    {
      "cell_type": "code",
      "source": [
        "df"
      ],
      "metadata": {
        "id": "tmF8c1umNVwK"
      },
      "execution_count": null,
      "outputs": []
    },
    {
      "cell_type": "code",
      "source": [
        "df.iloc[:2,2] = NA"
      ],
      "metadata": {
        "id": "_rP95-K-NVzh"
      },
      "execution_count": null,
      "outputs": []
    },
    {
      "cell_type": "code",
      "source": [
        "df"
      ],
      "metadata": {
        "id": "9pbxK7zDNV24"
      },
      "execution_count": null,
      "outputs": []
    },
    {
      "cell_type": "code",
      "source": [
        "df.dropna()"
      ],
      "metadata": {
        "id": "kcubXhYwNV5-"
      },
      "execution_count": null,
      "outputs": []
    },
    {
      "cell_type": "code",
      "source": [
        "df.dropna(axis = 1)"
      ],
      "metadata": {
        "id": "ZERVLikLNV9R"
      },
      "execution_count": null,
      "outputs": []
    },
    {
      "cell_type": "markdown",
      "source": [
        "- 몇개 이상의 값이 들어 있는 로우만 살펴보고 싶다면 thresh 인자에 값 넣기"
      ],
      "metadata": {
        "id": "GRFG0SS2NWA0"
      }
    },
    {
      "cell_type": "code",
      "source": [
        "df.dropna(thresh = 2) # 이해 잘 안됨.."
      ],
      "metadata": {
        "id": "PpxwXAmxNWEH"
      },
      "execution_count": null,
      "outputs": []
    },
    {
      "cell_type": "markdown",
      "source": [
        "### 7.1.2 결측치 채우기(fillna)"
      ],
      "metadata": {
        "id": "8ayJet0JOtOS"
      }
    },
    {
      "cell_type": "code",
      "source": [
        "df.fillna(0)"
      ],
      "metadata": {
        "id": "iIs66F07OtRj"
      },
      "execution_count": null,
      "outputs": []
    },
    {
      "cell_type": "markdown",
      "source": [
        "-  각 컬럼마다 다른 값으로 채울 수도 있음"
      ],
      "metadata": {
        "id": "_eQ1VPkpO250"
      }
    },
    {
      "cell_type": "code",
      "source": [
        "df.fillna({1:0.5,2:0})"
      ],
      "metadata": {
        "id": "J3rA5BJZOtU8"
      },
      "execution_count": null,
      "outputs": []
    },
    {
      "cell_type": "markdown",
      "source": [
        "- fillna는 새로운 객체를 반환하지만 다음처럼 기존 객체 변경도 가능"
      ],
      "metadata": {
        "id": "RkzCOiKUPAJ_"
      }
    },
    {
      "cell_type": "code",
      "source": [
        "_ = df.fillna(0, inplace = True)\n",
        "df"
      ],
      "metadata": {
        "id": "CS2bQUGHOtYh"
      },
      "execution_count": null,
      "outputs": []
    },
    {
      "cell_type": "code",
      "source": [
        "df = pd.DataFrame(np.random.randn(6,3))\n",
        "df"
      ],
      "metadata": {
        "id": "ZuCwp_lLOtb-"
      },
      "execution_count": null,
      "outputs": []
    },
    {
      "cell_type": "code",
      "source": [
        "df.iloc[2:,1] = NA\n",
        "df.iloc[4:,2] = NA"
      ],
      "metadata": {
        "id": "FgdKlC2GOtfR"
      },
      "execution_count": null,
      "outputs": []
    },
    {
      "cell_type": "code",
      "source": [
        "df"
      ],
      "metadata": {
        "id": "IGj-nVCkOtij"
      },
      "execution_count": null,
      "outputs": []
    },
    {
      "cell_type": "code",
      "source": [
        "df.fillna(method = 'ffill')"
      ],
      "metadata": {
        "id": "cdVlZJJMOtlw"
      },
      "execution_count": null,
      "outputs": []
    },
    {
      "cell_type": "markdown",
      "source": [
        "- ffillna의 limit을 정할 수 있음"
      ],
      "metadata": {
        "id": "NT3HmHmYPqlV"
      }
    },
    {
      "cell_type": "code",
      "source": [
        "df.fillna(method = 'ffill', limit = 2)"
      ],
      "metadata": {
        "id": "aF2k0VI_Oto7"
      },
      "execution_count": null,
      "outputs": []
    },
    {
      "cell_type": "code",
      "source": [
        "data = pd.Series([1.,NA,3.5,NA,7])\n",
        "data.fillna(data.mean())"
      ],
      "metadata": {
        "id": "fugYs2r-Otr0"
      },
      "execution_count": null,
      "outputs": []
    },
    {
      "cell_type": "markdown",
      "source": [
        "## 7.2 데이터 변형"
      ],
      "metadata": {
        "id": "JbOiAuvDOtvq"
      }
    },
    {
      "cell_type": "markdown",
      "source": [
        "### 7.2.1 중복 제거하기\n"
      ],
      "metadata": {
        "id": "-zlgZzXAOtyD"
      }
    },
    {
      "cell_type": "code",
      "source": [
        "data = pd.DataFrame({'k1':['one','two']*3 + ['two'], 'k2':[1,1,2,3,3,4,4]})\n",
        "data"
      ],
      "metadata": {
        "id": "cmzHyMVfOt1s"
      },
      "execution_count": null,
      "outputs": []
    },
    {
      "cell_type": "code",
      "source": [
        "data.duplicated() # 중복인지 아닌지 불리언 시리즈 반환"
      ],
      "metadata": {
        "id": "fUp8LOwLOt4w"
      },
      "execution_count": null,
      "outputs": []
    },
    {
      "cell_type": "code",
      "source": [
        "data.drop_duplicates() # 중복 제외한 데이터셋만 반환"
      ],
      "metadata": {
        "id": "1l3jhg_pOt8L"
      },
      "execution_count": null,
      "outputs": []
    },
    {
      "cell_type": "code",
      "source": [
        " data['v1'] = range(7)\n",
        " data"
      ],
      "metadata": {
        "id": "QFqr9upBOuAH"
      },
      "execution_count": null,
      "outputs": []
    },
    {
      "cell_type": "markdown",
      "source": [
        "- 중복을 찾아내는 기준 설정 가능"
      ],
      "metadata": {
        "id": "UzDnZ23yOuC_"
      }
    },
    {
      "cell_type": "code",
      "source": [
        "data.drop_duplicates(['k1']) # k1 열의 중복데이터 모두 제거"
      ],
      "metadata": {
        "id": "U98SkAdLOuGG"
      },
      "execution_count": null,
      "outputs": []
    },
    {
      "cell_type": "code",
      "source": [
        "data.drop_duplicates(['k1'], keep = 'last') # 중복된 값 중 마지막으로 발견한 값 반환"
      ],
      "metadata": {
        "id": "yrp5raUzQ11t"
      },
      "execution_count": null,
      "outputs": []
    },
    {
      "cell_type": "markdown",
      "source": [
        "### 7.2.2 함수나 매핑을 이용해서 데이터 변형하기"
      ],
      "metadata": {
        "id": "0ANCyiSiQ142"
      }
    },
    {
      "cell_type": "code",
      "source": [
        "data = pd.DataFrame({\"food\": [\"bacon\", \"pulled pork\", \"bacon\",\n",
        "                              \"pastrami\", \"corned beef\", \"bacon\",\n",
        "                              \"pastrami\", \"honey ham\", \"nova lox\"],\n",
        "                     \"ounces\": [4, 3, 12, 6, 7.5, 8, 3, 5, 6]})\n",
        "data"
      ],
      "metadata": {
        "id": "kiNgqvR6Q18Z"
      },
      "execution_count": null,
      "outputs": []
    },
    {
      "cell_type": "code",
      "source": [
        "meat_to_animal = {\n",
        "  \"bacon\": \"pig\",\n",
        "  \"pulled pork\": \"pig\",\n",
        "  \"pastrami\": \"cow\",\n",
        "  \"corned beef\": \"cow\",\n",
        "  \"honey ham\": \"pig\",\n",
        "  \"nova lox\": \"salmon\"\n",
        "}"
      ],
      "metadata": {
        "id": "dlUS8MGLQ1_o"
      },
      "execution_count": null,
      "outputs": []
    },
    {
      "cell_type": "code",
      "source": [
        "lowercased = data['food'].str.lower()"
      ],
      "metadata": {
        "id": "OIhxGAb1Q2DN"
      },
      "execution_count": null,
      "outputs": []
    },
    {
      "cell_type": "code",
      "source": [
        "lowercased"
      ],
      "metadata": {
        "id": "oyYSVsKWQ2GQ"
      },
      "execution_count": null,
      "outputs": []
    },
    {
      "cell_type": "markdown",
      "source": [
        "- 데이터 매핑을 통해 컿럼을 옆에 붙임"
      ],
      "metadata": {
        "id": "xElMY-JDR4pX"
      }
    },
    {
      "cell_type": "code",
      "source": [
        "data['animal'] = lowercased.map(meat_to_animal) "
      ],
      "metadata": {
        "id": "Ne7KRYFZQ2Jc"
      },
      "execution_count": null,
      "outputs": []
    },
    {
      "cell_type": "code",
      "source": [
        "data"
      ],
      "metadata": {
        "id": "JH5_dSenQ2ND"
      },
      "execution_count": null,
      "outputs": []
    },
    {
      "cell_type": "code",
      "source": [
        " data['food'].map(lambda x : meat_to_animal[x.lower()])"
      ],
      "metadata": {
        "id": "QxACtqFCQ2Qo"
      },
      "execution_count": null,
      "outputs": []
    },
    {
      "cell_type": "markdown",
      "source": [
        "### 7.2.3 값 치환하기"
      ],
      "metadata": {
        "id": "3ulAYCOCQ2Ty"
      }
    },
    {
      "cell_type": "code",
      "source": [
        "data = pd.Series([1., -999., 2., -999., -1000., 3.])\n",
        "data"
      ],
      "metadata": {
        "id": "XQUkUJ9IQ2XW"
      },
      "execution_count": null,
      "outputs": []
    },
    {
      "cell_type": "code",
      "source": [
        "data.replace(-999, np.nan)"
      ],
      "metadata": {
        "id": "GrJtOeqUQ2a0"
      },
      "execution_count": null,
      "outputs": []
    },
    {
      "cell_type": "markdown",
      "source": [
        "- 여러개를 한번에 치환하려면"
      ],
      "metadata": {
        "id": "VRCVo8i5ScUA"
      }
    },
    {
      "cell_type": "code",
      "source": [
        "data.replace([-999,-1000], np.nan)"
      ],
      "metadata": {
        "id": "g0-9Nb7ZQ2eu"
      },
      "execution_count": null,
      "outputs": []
    },
    {
      "cell_type": "markdown",
      "source": [
        "- 각자 값마다 지정할 값이 다르다면"
      ],
      "metadata": {
        "id": "nKn2xaclQ2iJ"
      }
    },
    {
      "cell_type": "code",
      "source": [
        "data.replace([-999,-1000],[np.nan,0])"
      ],
      "metadata": {
        "id": "IHe3SkZvQ2lz"
      },
      "execution_count": null,
      "outputs": []
    },
    {
      "cell_type": "code",
      "source": [
        "data.replace({-999 : np.nan, -1000 : 0})"
      ],
      "metadata": {
        "id": "vGr84MyQQ2o3"
      },
      "execution_count": null,
      "outputs": []
    },
    {
      "cell_type": "markdown",
      "source": [
        "### 7.2.4 축 색인 이름 바꾸기"
      ],
      "metadata": {
        "id": "lichad1tQ2sz"
      }
    },
    {
      "cell_type": "code",
      "source": [
        "data = pd.DataFrame(np.arange(12).reshape((3, 4)),\n",
        "                    index=[\"Ohio\", \"Colorado\", \"New York\"],\n",
        "                    columns=[\"one\", \"two\", \"three\", \"four\"])"
      ],
      "metadata": {
        "id": "tmv1mfrfQ2wI"
      },
      "execution_count": null,
      "outputs": []
    },
    {
      "cell_type": "code",
      "source": [
        "transform = lambda x : x[:4].upper()"
      ],
      "metadata": {
        "id": "2JWyPDuLQ2z2"
      },
      "execution_count": null,
      "outputs": []
    },
    {
      "cell_type": "code",
      "source": [
        "transform"
      ],
      "metadata": {
        "id": "ecNO3wncQ238"
      },
      "execution_count": null,
      "outputs": []
    },
    {
      "cell_type": "code",
      "source": [
        "data.index.map(transform)"
      ],
      "metadata": {
        "id": "Mc_uvGeQTPVs"
      },
      "execution_count": null,
      "outputs": []
    },
    {
      "cell_type": "code",
      "source": [
        "data.index = data.index.map(transform)"
      ],
      "metadata": {
        "id": "t6fbZJWbTPZJ"
      },
      "execution_count": null,
      "outputs": []
    },
    {
      "cell_type": "code",
      "source": [
        "data"
      ],
      "metadata": {
        "id": "-W39esFeTPc0"
      },
      "execution_count": null,
      "outputs": []
    },
    {
      "cell_type": "markdown",
      "source": [
        "- 새로운 객체를 생성하려면"
      ],
      "metadata": {
        "id": "3iCsShYITPfw"
      }
    },
    {
      "cell_type": "code",
      "source": [
        "data.rename(index = str.title, columns = str.upper)"
      ],
      "metadata": {
        "id": "l2F99OyzTPkF"
      },
      "execution_count": null,
      "outputs": []
    },
    {
      "cell_type": "markdown",
      "source": [
        "- rename 매서드는 사전형식으로 축 이름 중 일부만 변경 가능"
      ],
      "metadata": {
        "id": "wfyVTM21TPmw"
      }
    },
    {
      "cell_type": "code",
      "source": [
        "data.rename(index={'OHIO' : 'INDIANA'},columns = {'three':'peekaboo'})"
      ],
      "metadata": {
        "id": "xTOXLD_5TPqD"
      },
      "execution_count": null,
      "outputs": []
    },
    {
      "cell_type": "markdown",
      "source": [
        "- rename의 경우 데이터 프레임을 직접 복사해서 index와 columns 속성을 갱신할 필요 없이 바로 변경 가능"
      ],
      "metadata": {
        "id": "m90Y2lxITPt9"
      }
    },
    {
      "cell_type": "code",
      "source": [
        "data # 위의 변경 내용 저장 안되어 있음"
      ],
      "metadata": {
        "id": "ECcJTdeQUKtf"
      },
      "execution_count": null,
      "outputs": []
    },
    {
      "cell_type": "code",
      "source": [
        "data.rename(index={'OHIO' : 'INDIANA'},columns = {'three':'peekaboo'}, inplace = True)"
      ],
      "metadata": {
        "id": "hFkxSeN1TPwm"
      },
      "execution_count": null,
      "outputs": []
    },
    {
      "cell_type": "code",
      "source": [
        "data # 위의 내용 바로 적용되어 있음"
      ],
      "metadata": {
        "id": "CgJJtH-3UP5T"
      },
      "execution_count": null,
      "outputs": []
    }
  ]
}