{
  "nbformat": 4,
  "nbformat_minor": 0,
  "metadata": {
    "colab": {
      "private_outputs": true,
      "provenance": [],
      "authorship_tag": "ABX9TyOhUvICsrWWH+U+7Yg0A5Xt",
      "include_colab_link": true
    },
    "kernelspec": {
      "name": "python3",
      "display_name": "Python 3"
    },
    "language_info": {
      "name": "python"
    }
  },
  "cells": [
    {
      "cell_type": "markdown",
      "metadata": {
        "id": "view-in-github",
        "colab_type": "text"
      },
      "source": [
        "<a href=\"https://colab.research.google.com/github/yschoi9930/Python-for-Data-Analysis/blob/main/CHAPTER5_pandas_%EC%8B%9C%EC%9E%91%ED%95%98%EA%B8%B0.ipynb\" target=\"_parent\"><img src=\"https://colab.research.google.com/assets/colab-badge.svg\" alt=\"Open In Colab\"/></a>"
      ]
    },
    {
      "cell_type": "markdown",
      "source": [
        "# 5. pandas 시작하기"
      ],
      "metadata": {
        "id": "zw3WkaA5FtzP"
      }
    },
    {
      "cell_type": "code",
      "source": [
        "import pandas as pd"
      ],
      "metadata": {
        "id": "hkRHXs8gF4Qk"
      },
      "execution_count": null,
      "outputs": []
    },
    {
      "cell_type": "markdown",
      "source": [
        "## 5.1 pandas 자료구조 소개"
      ],
      "metadata": {
        "id": "xVe4tQT1F4UM"
      }
    },
    {
      "cell_type": "markdown",
      "source": [
        "### 5.1.1 Series\n",
        "- 일련의 객체를 담을 수 있는 1차원 배열같은 자료구조\n",
        "- 왼쪽에 색인, 오른쪽에 색인의 값 보여 줌\n",
        "- Numpy와 비교하여 단일 값을 선택하거나, 여러 값을 선택할 때 색인으로 라벨을 사용 가능\n",
        "- 산술 곱셈, 불리언 배열로 값을 필터링, 수학함수를 적용해도 색인-값 연결 유지\n",
        "- 파이썬의 사전형과 비슷\n",
        "- 산술연산에서 색인과 라벨로 자동 정렬"
      ],
      "metadata": {
        "id": "1WJgK9ObF4XX"
      }
    },
    {
      "cell_type": "code",
      "source": [
        "obj = pd.Series([4,7,-5,3])\n",
        "obj"
      ],
      "metadata": {
        "id": "Ur9_M8exF4aP"
      },
      "execution_count": null,
      "outputs": []
    },
    {
      "cell_type": "code",
      "source": [
        "obj2 = pd.Series([4,7,-5,3], index=['d','b','a','c'])\n",
        "obj2 # 인덱스 직접 지정 가능"
      ],
      "metadata": {
        "id": "nQQ4H2j0F4dp"
      },
      "execution_count": null,
      "outputs": []
    },
    {
      "cell_type": "code",
      "source": [
        "obj2['a']"
      ],
      "metadata": {
        "id": "6McsgjXrF4hB"
      },
      "execution_count": null,
      "outputs": []
    },
    {
      "cell_type": "code",
      "source": [
        "obj2[['c','a']]"
      ],
      "metadata": {
        "id": "AonP-REwF4kI"
      },
      "execution_count": null,
      "outputs": []
    },
    {
      "cell_type": "code",
      "source": [
        "obj2[obj2>0]"
      ],
      "metadata": {
        "id": "roTCEmCMF4ny"
      },
      "execution_count": null,
      "outputs": []
    },
    {
      "cell_type": "code",
      "source": [
        "obj2*2"
      ],
      "metadata": {
        "id": "AvLORhfjF4rU"
      },
      "execution_count": null,
      "outputs": []
    },
    {
      "cell_type": "code",
      "source": [
        "import numpy as np\n",
        "np.exp(obj2)"
      ],
      "metadata": {
        "id": "CP55_uFiF4uv"
      },
      "execution_count": null,
      "outputs": []
    },
    {
      "cell_type": "code",
      "source": [
        "sdata = {'Ohio' : 35000,'Texas':71000, 'Oregin' : 16000, 'Utah' : 5000}"
      ],
      "metadata": {
        "id": "jAtmJrHgF4x7"
      },
      "execution_count": null,
      "outputs": []
    },
    {
      "cell_type": "code",
      "source": [
        "obj3 = pd.Series(sdata)\n",
        "obj3"
      ],
      "metadata": {
        "id": "KbUoBh47F41C"
      },
      "execution_count": null,
      "outputs": []
    },
    {
      "cell_type": "code",
      "source": [
        "states = ['California','Ohio','Oregon','Texas']\n",
        "obj4 = pd.Series(sdata, index = states)\n",
        "obj4\n",
        "\n",
        "# states에 없는 애들은 제외됨, 값이 없는 인덱스는 NAN을 값으로 가짐"
      ],
      "metadata": {
        "id": "2rN_iwyUF448"
      },
      "execution_count": null,
      "outputs": []
    },
    {
      "cell_type": "code",
      "source": [
        "pd.isnull(obj4)"
      ],
      "metadata": {
        "id": "izGD3aZbF48W"
      },
      "execution_count": null,
      "outputs": []
    },
    {
      "cell_type": "code",
      "source": [
        "pd.notnull(obj4)"
      ],
      "metadata": {
        "id": "AlB5H_9zF5Ba"
      },
      "execution_count": null,
      "outputs": []
    },
    {
      "cell_type": "code",
      "source": [
        "obj4.isnull()"
      ],
      "metadata": {
        "id": "Ixu4_38FF5Ej"
      },
      "execution_count": null,
      "outputs": []
    },
    {
      "cell_type": "code",
      "source": [
        "obj4.name = 'Population'"
      ],
      "metadata": {
        "id": "tAmW-6h8F5F4"
      },
      "execution_count": null,
      "outputs": []
    },
    {
      "cell_type": "code",
      "source": [
        "obj4.index.name = 'states'"
      ],
      "metadata": {
        "id": "YAv18cpgF5Md"
      },
      "execution_count": null,
      "outputs": []
    },
    {
      "cell_type": "code",
      "source": [
        "obj4"
      ],
      "metadata": {
        "id": "swrQNopnF5P8"
      },
      "execution_count": null,
      "outputs": []
    },
    {
      "cell_type": "markdown",
      "source": [
        "### 5.1.2 Dataframe"
      ],
      "metadata": {
        "id": "u1LHdK-OF5S6"
      }
    },
    {
      "cell_type": "code",
      "source": [
        "data = {'state' : ['Ohio','Ohio','Ohio','Nevada','Nevada','Nevada'], 'year' : [2000,2001,2002,2001,2002,2003],'pop':[1.5,1.7,3.6,2.4,2.9,3.2]}"
      ],
      "metadata": {
        "id": "rbzIKbGZF5V1"
      },
      "execution_count": null,
      "outputs": []
    },
    {
      "cell_type": "code",
      "source": [
        "frame = pd.DataFrame(data)"
      ],
      "metadata": {
        "id": "JPpg90aKF5Y-"
      },
      "execution_count": null,
      "outputs": []
    },
    {
      "cell_type": "code",
      "source": [
        "frame"
      ],
      "metadata": {
        "id": "64K9E2QAF5cB"
      },
      "execution_count": null,
      "outputs": []
    },
    {
      "cell_type": "code",
      "source": [
        "frame.head()"
      ],
      "metadata": {
        "id": "ngmzm3yAF5e_"
      },
      "execution_count": null,
      "outputs": []
    },
    {
      "cell_type": "code",
      "source": [
        "pd.DataFrame(data,columns = ['year','state','pop'])"
      ],
      "metadata": {
        "id": "2LGcOTGXF5iY"
      },
      "execution_count": null,
      "outputs": []
    },
    {
      "cell_type": "code",
      "source": [
        "frame2 = pd.DataFrame(data, columns = ['year','state','pop','debt'], index = ['one','two','three','four','five','six'])"
      ],
      "metadata": {
        "id": "2edXoWgWF5lW"
      },
      "execution_count": null,
      "outputs": []
    },
    {
      "cell_type": "code",
      "source": [
        "frame2"
      ],
      "metadata": {
        "id": "6eIc-YxsPGzq"
      },
      "execution_count": null,
      "outputs": []
    },
    {
      "cell_type": "code",
      "source": [
        "frame2['state']"
      ],
      "metadata": {
        "id": "yKs683XUPG2x"
      },
      "execution_count": null,
      "outputs": []
    },
    {
      "cell_type": "code",
      "source": [
        "frame2.year"
      ],
      "metadata": {
        "id": "k2yD0_QoPG5w"
      },
      "execution_count": null,
      "outputs": []
    },
    {
      "cell_type": "code",
      "source": [
        "frame2.loc['three']"
      ],
      "metadata": {
        "id": "EbrX4iiCPG8n"
      },
      "execution_count": null,
      "outputs": []
    },
    {
      "cell_type": "code",
      "source": [
        "frame2['debt'] = 16.5"
      ],
      "metadata": {
        "id": "TyxUytFgPG_c"
      },
      "execution_count": null,
      "outputs": []
    },
    {
      "cell_type": "code",
      "source": [
        "frame2"
      ],
      "metadata": {
        "id": "4Wt8_hrePHCW"
      },
      "execution_count": null,
      "outputs": []
    },
    {
      "cell_type": "code",
      "source": [
        "val = pd.Series([-1.2,-1.5,-1.7], index = ['two','four','five'])\n",
        "frame2['debt'] = val "
      ],
      "metadata": {
        "id": "oBxs-hSLPHFa"
      },
      "execution_count": null,
      "outputs": []
    },
    {
      "cell_type": "code",
      "source": [
        "frame2"
      ],
      "metadata": {
        "id": "c-5odg4APHIj"
      },
      "execution_count": null,
      "outputs": []
    },
    {
      "cell_type": "code",
      "source": [
        "frame2['eastern'] = frame2.state == 'Ohio'\n",
        "frame2"
      ],
      "metadata": {
        "id": "WgL7HXZyPHLV"
      },
      "execution_count": null,
      "outputs": []
    },
    {
      "cell_type": "code",
      "source": [
        "del frame2['eastern']"
      ],
      "metadata": {
        "id": "kt_Jo9TjPHOG"
      },
      "execution_count": null,
      "outputs": []
    },
    {
      "cell_type": "code",
      "source": [
        "frame2.columns"
      ],
      "metadata": {
        "id": "yAkvVWl2PHQ9"
      },
      "execution_count": null,
      "outputs": []
    },
    {
      "cell_type": "code",
      "source": [
        "frame2"
      ],
      "metadata": {
        "id": "cBHLFTjkPHT2"
      },
      "execution_count": null,
      "outputs": []
    },
    {
      "cell_type": "code",
      "source": [
        "# 중첩된 사전을 이용해 데이터 생성\n",
        "pop = {'Nevada' : {2001:2.4,2002:2.9}, 'Ohio' : {2000:1.5,2001:1.7,2002:3.6}}\n",
        "# {column : {index : values}}"
      ],
      "metadata": {
        "id": "0TVW_zpGPHWw"
      },
      "execution_count": null,
      "outputs": []
    },
    {
      "cell_type": "code",
      "source": [
        "import pandas as pd\n",
        "frame3 = pd.DataFrame(pop)"
      ],
      "metadata": {
        "id": "sKW89nOrBg6x"
      },
      "execution_count": null,
      "outputs": []
    },
    {
      "cell_type": "code",
      "source": [
        "frame3"
      ],
      "metadata": {
        "id": "Vvhez0TTBhIu"
      },
      "execution_count": null,
      "outputs": []
    },
    {
      "cell_type": "code",
      "source": [
        "pdata = {'Ohio' : frame3['Ohio'][:-1],'Nevada':frame3['Nevada'][:2]}"
      ],
      "metadata": {
        "id": "zbxmwa2aBhLN"
      },
      "execution_count": null,
      "outputs": []
    },
    {
      "cell_type": "code",
      "source": [
        "pd.DataFrame(pdata)"
      ],
      "metadata": {
        "id": "n1TkMUOLBhN8"
      },
      "execution_count": null,
      "outputs": []
    },
    {
      "cell_type": "code",
      "source": [
        "frame3['Ohio'][:-1]"
      ],
      "metadata": {
        "id": "AzsJw2E_BhQi"
      },
      "execution_count": null,
      "outputs": []
    },
    {
      "cell_type": "code",
      "source": [
        "frame3['Nevada'][:2]"
      ],
      "metadata": {
        "id": "SUNJO2YnBhTK"
      },
      "execution_count": null,
      "outputs": []
    },
    {
      "cell_type": "code",
      "source": [
        "frame3.index.name = 'year'\n",
        "frame3.columns.name = 'state'\n",
        "frame3"
      ],
      "metadata": {
        "id": "5N3Ifz7hBhV0"
      },
      "execution_count": null,
      "outputs": []
    },
    {
      "cell_type": "code",
      "source": [
        "frame3.values"
      ],
      "metadata": {
        "id": "zN736FlPBhY4"
      },
      "execution_count": null,
      "outputs": []
    },
    {
      "cell_type": "markdown",
      "source": [
        "### *DataFrame 만들기 연습"
      ],
      "metadata": {
        "id": "EdU9FZHiXUyc"
      }
    },
    {
      "cell_type": "code",
      "source": [
        "pd.DataFrame(pd.Series([1,3,5,1,7], index = ['a','b','c','d','e']), columns = ['number'])"
      ],
      "metadata": {
        "id": "QshOOzTzBhk6"
      },
      "execution_count": null,
      "outputs": []
    },
    {
      "cell_type": "code",
      "source": [
        "import numpy as np\n",
        "pd.DataFrame(np.random.randn(3,5))"
      ],
      "metadata": {
        "id": "jvL8PTN4Bhn9"
      },
      "execution_count": null,
      "outputs": []
    },
    {
      "cell_type": "code",
      "source": [
        "np.random.randn(3,5)"
      ],
      "metadata": {
        "id": "o-0kHTpwBhq2"
      },
      "execution_count": null,
      "outputs": []
    },
    {
      "cell_type": "code",
      "source": [
        "pd.DataFrame({'Name':{'2001':1}, 'Number': {'2001':2}})"
      ],
      "metadata": {
        "id": "4z51x3bpBhtw"
      },
      "execution_count": null,
      "outputs": []
    },
    {
      "cell_type": "markdown",
      "source": [
        "### 5.1.3 색인 객체"
      ],
      "metadata": {
        "id": "BG5v3vzKPHZ_"
      }
    },
    {
      "cell_type": "code",
      "source": [
        "obj = pd.Series(range(3), index = ['a','b','c'])\n",
        "index = obj.index"
      ],
      "metadata": {
        "id": "0Gq_5k7YBhcK"
      },
      "execution_count": null,
      "outputs": []
    },
    {
      "cell_type": "code",
      "source": [
        "obj"
      ],
      "metadata": {
        "id": "IfavDTpUBhfT"
      },
      "execution_count": null,
      "outputs": []
    },
    {
      "cell_type": "code",
      "source": [
        "index"
      ],
      "metadata": {
        "id": "DTTRZQexBhiK"
      },
      "execution_count": null,
      "outputs": []
    },
    {
      "cell_type": "code",
      "source": [
        "index[1:] # 색인 객체는 변경 불가"
      ],
      "metadata": {
        "id": "zxZS9sa0XlTz"
      },
      "execution_count": null,
      "outputs": []
    },
    {
      "cell_type": "code",
      "source": [
        "labels = pd.Index(np.arange(3))\n",
        "labels"
      ],
      "metadata": {
        "id": "jIwmSXT3XlWk"
      },
      "execution_count": null,
      "outputs": []
    },
    {
      "cell_type": "code",
      "source": [
        "obj2 = pd.Series([1.5,2.3,15], index = labels)"
      ],
      "metadata": {
        "id": "B4nFHLYYXlY8"
      },
      "execution_count": null,
      "outputs": []
    },
    {
      "cell_type": "code",
      "source": [
        "obj2.index == labels"
      ],
      "metadata": {
        "id": "7Bq1VrTsXlbe"
      },
      "execution_count": null,
      "outputs": []
    },
    {
      "cell_type": "markdown",
      "source": [
        "## 5.2 핵심 기능"
      ],
      "metadata": {
        "id": "pOLiQDihXld5"
      }
    },
    {
      "cell_type": "markdown",
      "source": [
        "### 5.2.1 재색인 reindex\n",
        "- 새로운 색인에 맞도록 객체를 새로 생성\n",
        "- index, columns 둘다 변경 가능\n",
        "- 재색인은 loc를 이용해서 라벨을 색인하는 것이 더 간결함"
      ],
      "metadata": {
        "id": "24ZcAVzCXlgl"
      }
    },
    {
      "cell_type": "code",
      "source": [
        "obj = pd.Series([4.5,7.2,-5.3,3.6], index = ['d','s','a','q'])\n",
        "obj"
      ],
      "metadata": {
        "id": "SywbjxNEXljY"
      },
      "execution_count": null,
      "outputs": []
    },
    {
      "cell_type": "code",
      "source": [
        "obj2 = obj.reindex(['a','b','c','d','e'])\n",
        "obj2"
      ],
      "metadata": {
        "id": "YZdxe3RhXlmA"
      },
      "execution_count": null,
      "outputs": []
    },
    {
      "cell_type": "code",
      "source": [
        "obj3 = pd.Series(['blue','purple','yellow'], index = [0,2,4])\n",
        "obj3"
      ],
      "metadata": {
        "id": "HuzicJ2dXloa"
      },
      "execution_count": null,
      "outputs": []
    },
    {
      "cell_type": "code",
      "source": [
        "obj3.reindex(range(6), method = 'ffill')"
      ],
      "metadata": {
        "id": "4onegGWDXlqw"
      },
      "execution_count": null,
      "outputs": []
    },
    {
      "cell_type": "code",
      "source": [
        "frame = pd.DataFrame(np.arange(9).reshape((3,3)), index = ['a','b','c'], columns = ['2001','2002','2003'])\n",
        "frame"
      ],
      "metadata": {
        "id": "Y1HukOCrXltU"
      },
      "execution_count": null,
      "outputs": []
    },
    {
      "cell_type": "code",
      "source": [
        "frame2 = frame.reindex(['a','b','c','d'])\n",
        "frame2"
      ],
      "metadata": {
        "id": "fqBRIXR8Xlvr"
      },
      "execution_count": null,
      "outputs": []
    },
    {
      "cell_type": "markdown",
      "source": [
        "### 5.2.2 하나의 로우나 컬럼 삭제하기\n",
        "- drop 메서드를 사용하면 선택한 값들이 삭제된 새로운 객체를 얻을 수 있음"
      ],
      "metadata": {
        "id": "o2plt3nTXlyI"
      }
    },
    {
      "cell_type": "code",
      "source": [
        "obj = pd.Series(np.arange(5.), index = ['a','b','c','d','e'])\n",
        "obj"
      ],
      "metadata": {
        "id": "dFCaF1IzXl0Q"
      },
      "execution_count": null,
      "outputs": []
    },
    {
      "cell_type": "code",
      "source": [
        "new_obj = obj.drop('c')\n",
        "new_obj"
      ],
      "metadata": {
        "id": "AeDLRgjzXl20"
      },
      "execution_count": null,
      "outputs": []
    },
    {
      "cell_type": "code",
      "source": [
        "data = pd.DataFrame(np.arange(16).reshape((4,4)), index = ['a','b','c','d'], columns = ['2001','2002','2003','2004'])\n",
        "data"
      ],
      "metadata": {
        "id": "YeP4Pt5rXl5N"
      },
      "execution_count": null,
      "outputs": []
    },
    {
      "cell_type": "code",
      "source": [
        "data.drop(['a','b'])"
      ],
      "metadata": {
        "id": "2f2UlXFfXl-L"
      },
      "execution_count": null,
      "outputs": []
    },
    {
      "cell_type": "code",
      "source": [
        "data.drop('2001', axis=1)"
      ],
      "metadata": {
        "id": "lVhHTa6Umz2R"
      },
      "execution_count": null,
      "outputs": []
    },
    {
      "cell_type": "code",
      "source": [
        "data # 원본은 유지"
      ],
      "metadata": {
        "id": "HVUpWV02m0qi"
      },
      "execution_count": null,
      "outputs": []
    },
    {
      "cell_type": "code",
      "source": [
        "data.drop('2001', axis=1, inplace = True)\n",
        "data # 원본도 변경"
      ],
      "metadata": {
        "id": "zmG83miWm0tB"
      },
      "execution_count": null,
      "outputs": []
    },
    {
      "cell_type": "markdown",
      "source": [
        "### 5.2.3 색인하기, 선택하기, 거르기\n",
        "- Series의 색인은 Numpy 배열의 색인과 유사하게 작동하지만 정수가 아니어도 가능"
      ],
      "metadata": {
        "id": "Pa6qqME4m0ve"
      }
    },
    {
      "cell_type": "code",
      "source": [
        "obj"
      ],
      "metadata": {
        "id": "eGHriITLm0x9"
      },
      "execution_count": null,
      "outputs": []
    },
    {
      "cell_type": "code",
      "source": [
        "obj['b']"
      ],
      "metadata": {
        "id": "oHlkq46Wm00R"
      },
      "execution_count": null,
      "outputs": []
    },
    {
      "cell_type": "code",
      "source": [
        "obj[1]"
      ],
      "metadata": {
        "id": "zjObAR42m06m"
      },
      "execution_count": null,
      "outputs": []
    },
    {
      "cell_type": "code",
      "source": [
        "obj[2:4]"
      ],
      "metadata": {
        "id": "O7OQGTFDm0-k"
      },
      "execution_count": null,
      "outputs": []
    },
    {
      "cell_type": "code",
      "source": [
        "obj[['a','b']]"
      ],
      "metadata": {
        "id": "VhWGm8MTm0_-"
      },
      "execution_count": null,
      "outputs": []
    },
    {
      "cell_type": "code",
      "source": [
        "obj[[1,3]]"
      ],
      "metadata": {
        "id": "jr_jItfEnfGr"
      },
      "execution_count": null,
      "outputs": []
    },
    {
      "cell_type": "code",
      "source": [
        "obj[obj<3]"
      ],
      "metadata": {
        "id": "M_6lHtN6nfKA"
      },
      "execution_count": null,
      "outputs": []
    },
    {
      "cell_type": "code",
      "source": [
        "obj['b':'d'] # 라벨이름으로 슬라이싱하면 시작점과 끝점을 포함함"
      ],
      "metadata": {
        "id": "dmNFSygonfNC"
      },
      "execution_count": null,
      "outputs": []
    },
    {
      "cell_type": "code",
      "source": [
        "# 슬라이싱에 값 대입 가능\n",
        "obj['b','c'] = 5\n",
        "obj"
      ],
      "metadata": {
        "id": "FDfoBE4infQL"
      },
      "execution_count": null,
      "outputs": []
    },
    {
      "cell_type": "code",
      "source": [
        "data"
      ],
      "metadata": {
        "id": "-6PA1tJ5nfWR"
      },
      "execution_count": null,
      "outputs": []
    },
    {
      "cell_type": "code",
      "source": [
        "data['2002']"
      ],
      "metadata": {
        "id": "GkW6dF5qnfZg"
      },
      "execution_count": null,
      "outputs": []
    },
    {
      "cell_type": "code",
      "source": [
        "data[:2] # 로우 기준 슬라이싱"
      ],
      "metadata": {
        "id": "BNWHLalZnfa1"
      },
      "execution_count": null,
      "outputs": []
    },
    {
      "cell_type": "code",
      "source": [
        "data[data['2003']>5]"
      ],
      "metadata": {
        "id": "Czy2MtBXnfcR"
      },
      "execution_count": null,
      "outputs": []
    },
    {
      "cell_type": "code",
      "source": [
        "data[data<5]"
      ],
      "metadata": {
        "id": "_EwVO6_Xnffn"
      },
      "execution_count": null,
      "outputs": []
    },
    {
      "cell_type": "code",
      "source": [
        "data[data<5]=0\n",
        "data"
      ],
      "metadata": {
        "id": "N7eHx4bznfiz"
      },
      "execution_count": null,
      "outputs": []
    },
    {
      "cell_type": "markdown",
      "source": [
        "### * loc와 iloc로 선택하기\n",
        "- 축 이름을 선택할 때는 loc, 정수 색인(숫자)으로 선택할 땐 iloc\n",
        "- 한 입력값만 넣으면 row 값으로 적용됨 \n",
        "- column 값을 적용하고 싶으면 data.loc[:, column name] / data.iloc[:,column index]하면됨\n",
        "- 단일 라벨이나 라벨 리스트도 지원함\n"
      ],
      "metadata": {
        "id": "Aak-IgthnfmD"
      }
    },
    {
      "cell_type": "code",
      "source": [
        "data.loc['2002'] # column데이터는 추출 안됨"
      ],
      "metadata": {
        "id": "fJqNIxANqJNv"
      },
      "execution_count": null,
      "outputs": []
    },
    {
      "cell_type": "code",
      "source": [
        "data.loc['a'] # a행 데이터 추출"
      ],
      "metadata": {
        "id": "d4gQCd79qa5-"
      },
      "execution_count": null,
      "outputs": []
    },
    {
      "cell_type": "code",
      "source": [
        "data.loc['a','2002'] # 축 이름 직접 입력, row,column 순으로 입력필요"
      ],
      "metadata": {
        "id": "VGmpqbKUnfpo"
      },
      "execution_count": null,
      "outputs": []
    },
    {
      "cell_type": "code",
      "source": [
        "data.iloc[0,0] # index로 출력"
      ],
      "metadata": {
        "id": "ncZEjqTynftG"
      },
      "execution_count": null,
      "outputs": []
    },
    {
      "cell_type": "code",
      "source": [
        "data.iloc[2] # 2 index를 가지는 c row 데이터 출력"
      ],
      "metadata": {
        "id": "eUNcXGDonfv0"
      },
      "execution_count": null,
      "outputs": []
    },
    {
      "cell_type": "code",
      "source": [
        "data.loc[:'b',['2002','2003']]"
      ],
      "metadata": {
        "id": "g7LDXGIqnfzb"
      },
      "execution_count": null,
      "outputs": []
    },
    {
      "cell_type": "code",
      "source": [
        "data.iloc[:,:2][data.2]"
      ],
      "metadata": {
        "id": "9NbqFwFGnf5r"
      },
      "execution_count": null,
      "outputs": []
    },
    {
      "cell_type": "code",
      "source": [
        "data.loc['b']"
      ],
      "metadata": {
        "id": "WTg9QS5Lnf9J"
      },
      "execution_count": null,
      "outputs": []
    },
    {
      "cell_type": "markdown",
      "source": [
        "### 5.2.4 정수 색인\n"
      ],
      "metadata": {
        "id": "fHBzLUuum1Bb"
      }
    },
    {
      "cell_type": "code",
      "source": [
        "ser = pd.Series(np.arange(3.))\n",
        "ser[-1]\n",
        "# 실행이 안됨, 색인이 아니라 index값으로 적용되기 때문"
      ],
      "metadata": {
        "id": "5xqfQ2_Ym1Cw"
      },
      "execution_count": null,
      "outputs": []
    },
    {
      "cell_type": "code",
      "source": [
        "ser2 = pd.Series(np.arange(3.), index =['a','b','c'])\n",
        "ser2[-1] # index로 적용되어 잘 찾은 것을 알 수 있음"
      ],
      "metadata": {
        "id": "pkYdM1i9sySK"
      },
      "execution_count": null,
      "outputs": []
    },
    {
      "cell_type": "code",
      "source": [
        "ser3 = pd.Series(np.arange(3.), index =[2,3,4])"
      ],
      "metadata": {
        "id": "ohxnEXyjsyZx"
      },
      "execution_count": null,
      "outputs": []
    },
    {
      "cell_type": "markdown",
      "source": [
        "### * 슬라이싱 관련 중요 예제"
      ],
      "metadata": {
        "id": "GQK13U2Dvww-"
      }
    },
    {
      "cell_type": "code",
      "source": [
        "print(\n",
        "ser3, '\\n\\n',\n",
        "'* ser3[2] -> row명으로 검색함', '\\n',\n",
        "ser3[2], '\\n\\n',\n",
        "'ser3.loc[:2] -> row명으로 슬라이싱', '\\n',\n",
        "ser3.loc[:2], '\\n\\n',\n",
        "'* ser3[:2] -> index로 슬라이싱', '\\n',\n",
        "ser3[:2], '\\n\\n',\n",
        "'* ser3.iloc[:2] -> index로 슬라이싱', '\\n',\n",
        "ser3.iloc[:2]\n",
        ") # 정수색인으로 되어 있는 경우 셋의 차이점을 잘 이해하자"
      ],
      "metadata": {
        "id": "No3lf2yXsyVd"
      },
      "execution_count": null,
      "outputs": []
    },
    {
      "cell_type": "markdown",
      "source": [
        "### 5.2.5 산술 연산과 데이터 정렬\n"
      ],
      "metadata": {
        "id": "oDkChrV9syjY"
      }
    },
    {
      "cell_type": "code",
      "source": [
        "s1 = pd.Series([7.3,-2.5,3.4,1.5], index = ['a','c','d','e'])\n",
        "s2 = pd.Series([-2.1,3.6,4,3,1], index = ['a','c','e','f','g'])"
      ],
      "metadata": {
        "id": "yDs3PD4Xsymz"
      },
      "execution_count": null,
      "outputs": []
    },
    {
      "cell_type": "code",
      "source": [
        "s1"
      ],
      "metadata": {
        "id": "evOvKfl6syoD"
      },
      "execution_count": null,
      "outputs": []
    },
    {
      "cell_type": "code",
      "source": [
        "s2"
      ],
      "metadata": {
        "id": "QqH_LfbDsy7y"
      },
      "execution_count": null,
      "outputs": []
    },
    {
      "cell_type": "code",
      "source": [
        "s1+s2 # 안겹치는 색인의 데이터는 NAN 값 됨"
      ],
      "metadata": {
        "id": "2aphi4Stsy-X"
      },
      "execution_count": null,
      "outputs": []
    },
    {
      "cell_type": "code",
      "source": [
        "# NAN 대신 특수한 값 지정하고 싶을 때\n",
        "df1 = pd.DataFrame(np.arange(12).reshape((3,4)), columns = list('abcd'))\n",
        "\n",
        "df2 = pd.DataFrame(np.arange(20).reshape((4,5)), columns = list('abcde'))"
      ],
      "metadata": {
        "id": "EM5XgZN4szA-"
      },
      "execution_count": null,
      "outputs": []
    },
    {
      "cell_type": "code",
      "source": [
        "df1"
      ],
      "metadata": {
        "id": "wnWpx4AnszDg"
      },
      "execution_count": null,
      "outputs": []
    },
    {
      "cell_type": "code",
      "source": [
        "df2"
      ],
      "metadata": {
        "id": "TiZMe47VszID"
      },
      "execution_count": null,
      "outputs": []
    },
    {
      "cell_type": "code",
      "source": [
        "df1 + df2 # 공통되지 않은 곳엔 Nan값으로 출력"
      ],
      "metadata": {
        "id": "fmUeo2YEszKd"
      },
      "execution_count": null,
      "outputs": []
    },
    {
      "cell_type": "code",
      "source": [
        "df1.add(df2, fill_value = 0) # df1에 없는 데이터 란에 0를 넣은 후 다시 산술 계산 -> df2 + 0 으로 나옴"
      ],
      "metadata": {
        "id": "737b2NNwszM1"
      },
      "execution_count": null,
      "outputs": []
    },
    {
      "cell_type": "code",
      "source": [
        "df1.reindex(columns=df2.columns, fill_value = 0)"
      ],
      "metadata": {
        "id": "jzCtRXJ6szPU"
      },
      "execution_count": null,
      "outputs": []
    },
    {
      "cell_type": "code",
      "source": [
        "# 데이터 프레임과 시리즈 간의 연산"
      ],
      "metadata": {
        "id": "BzqwBiPwszRf"
      },
      "execution_count": null,
      "outputs": []
    },
    {
      "cell_type": "code",
      "source": [
        "arr = np.arange(12).reshape((3,4))\n",
        "arr"
      ],
      "metadata": {
        "id": "CM8IiTdtszYN"
      },
      "execution_count": null,
      "outputs": []
    },
    {
      "cell_type": "code",
      "source": [
        "arr - arr[0] # 브로드캐스팅"
      ],
      "metadata": {
        "id": "AcOC1AeUszap"
      },
      "execution_count": null,
      "outputs": []
    },
    {
      "cell_type": "code",
      "source": [
        "frame = pd.DataFrame(np.arange(12).reshape((4,3)), columns = list('bde'), index = ['Utah','Ohio','Texas','Oregon'])\n",
        "Series = frame.iloc[0]"
      ],
      "metadata": {
        "id": "ORpKx1cKszc4"
      },
      "execution_count": null,
      "outputs": []
    },
    {
      "cell_type": "code",
      "source": [
        "frame"
      ],
      "metadata": {
        "id": "L4EksLJwszfO"
      },
      "execution_count": null,
      "outputs": []
    },
    {
      "cell_type": "code",
      "source": [
        "Series"
      ],
      "metadata": {
        "id": "H_E22sAiszho"
      },
      "execution_count": null,
      "outputs": []
    },
    {
      "cell_type": "code",
      "source": [
        "frame - Series # Series 색인을 Dataframe 컬럼에 맞추고 아래 로우로 전파함"
      ],
      "metadata": {
        "id": "WqUxnYieszjx"
      },
      "execution_count": null,
      "outputs": []
    },
    {
      "cell_type": "code",
      "source": [
        "series2 = pd.Series(range(3), index = ['b','e','f'])\n",
        "series2"
      ],
      "metadata": {
        "id": "Tgvlk7BdszmX"
      },
      "execution_count": null,
      "outputs": []
    },
    {
      "cell_type": "code",
      "source": [
        "frame + series2 # 기존에 없었던 시리즈 색인은 추가되고, frame에만 있는 색인은 Nan 처리됨"
      ],
      "metadata": {
        "id": "ybtVQCFOszoj"
      },
      "execution_count": null,
      "outputs": []
    },
    {
      "cell_type": "code",
      "source": [
        "s3 = frame['d']\n",
        "s3"
      ],
      "metadata": {
        "id": "PNQN3MEnszqx"
      },
      "execution_count": null,
      "outputs": []
    },
    {
      "cell_type": "code",
      "source": [
        "frame"
      ],
      "metadata": {
        "id": "U85DLBxS0K0N"
      },
      "execution_count": null,
      "outputs": []
    },
    {
      "cell_type": "code",
      "source": [
        "frame.sub(s3, axis = 'index') # 로우를 따라 연산"
      ],
      "metadata": {
        "id": "4ve0Uk9WsztL"
      },
      "execution_count": null,
      "outputs": []
    },
    {
      "cell_type": "markdown",
      "source": [
        "### 5.2.6 함수 적용과 매핑\n",
        "- pandas 객체에도 Numpy 유니버셜 함수를 적용할 수 있음"
      ],
      "metadata": {
        "id": "WXDAwvBlszzp"
      }
    },
    {
      "cell_type": "code",
      "source": [
        "frame = pd.DataFrame(np.random.randn(4,3), columns = list('bde'), index = ['Utah','Ohio','Texas','Oregon'])\n",
        "frame"
      ],
      "metadata": {
        "id": "TDWhJ5Mzsz4M"
      },
      "execution_count": null,
      "outputs": []
    },
    {
      "cell_type": "code",
      "source": [
        "np.abs(frame) # 절대값화"
      ],
      "metadata": {
        "id": "zltVnZk5sz6X"
      },
      "execution_count": null,
      "outputs": []
    },
    {
      "cell_type": "code",
      "source": [
        "# 1차원 배열에 함수 적용\n",
        "f = lambda x : x.max() - x.min()"
      ],
      "metadata": {
        "id": "YuyWcx8Jsz9C"
      },
      "execution_count": null,
      "outputs": []
    },
    {
      "cell_type": "code",
      "source": [
        "frame.apply(f) # b 컬럼 내에서 최대값 - 최솟값 차이 계산, 시리즈로 반환"
      ],
      "metadata": {
        "id": "uOYOVp-4s0BL"
      },
      "execution_count": null,
      "outputs": []
    },
    {
      "cell_type": "code",
      "source": [
        "frame.apply(f, axis = 1) # 로우에 대해서 수행"
      ],
      "metadata": {
        "id": "bhVkCgkK1V_A"
      },
      "execution_count": null,
      "outputs": []
    },
    {
      "cell_type": "markdown",
      "source": [
        "### 5.2.7 정렬과 순위\n",
        "- 로우나 컬럼의 색인을 알파벳 순으로 정렬하려면 sort_index 사용\n",
        "- DataFrame은 로우나 컬럼 중 하나의 축을 기준으로 정렬 가능\n",
        "- Series 객체를 값에 따라 정렬하고 싶다면 sort_values 메서드 사용"
      ],
      "metadata": {
        "id": "c-D4YXBD1WDw"
      }
    },
    {
      "cell_type": "code",
      "source": [
        "import pandas as pd\n",
        "import numpy as np\n",
        "obj = pd.Series(range(4), index = list('dabc'))"
      ],
      "metadata": {
        "id": "GeJwj10UK2fV"
      },
      "execution_count": null,
      "outputs": []
    },
    {
      "cell_type": "code",
      "source": [
        "obj"
      ],
      "metadata": {
        "id": "SlO3gqf_K2h-"
      },
      "execution_count": null,
      "outputs": []
    },
    {
      "cell_type": "code",
      "source": [
        "obj.sort_index()"
      ],
      "metadata": {
        "id": "MLt2NXl_K2lE"
      },
      "execution_count": null,
      "outputs": []
    },
    {
      "cell_type": "code",
      "source": [
        "fr = pd.DataFrame(np.arange(8).reshape((2,4)), index = ['three','one'], columns = list('dabc'))"
      ],
      "metadata": {
        "id": "hu3mm7vuK2ng"
      },
      "execution_count": null,
      "outputs": []
    },
    {
      "cell_type": "code",
      "source": [
        "fr.sort_index()"
      ],
      "metadata": {
        "id": "vOqNxhBXK2q3"
      },
      "execution_count": null,
      "outputs": []
    },
    {
      "cell_type": "code",
      "source": [
        "fr.sort_index(axis=1)"
      ],
      "metadata": {
        "id": "Nu0ZIcQgK2tT"
      },
      "execution_count": null,
      "outputs": []
    },
    {
      "cell_type": "code",
      "source": [
        "fr.sort_index(axis=1, ascending=False)"
      ],
      "metadata": {
        "id": "3PMlWJjzK2wF"
      },
      "execution_count": null,
      "outputs": []
    },
    {
      "cell_type": "code",
      "source": [
        "obj = pd.Series([4,7,-3,2])\n",
        "obj.sort_values()"
      ],
      "metadata": {
        "id": "qyPJl2LuK2zC"
      },
      "execution_count": null,
      "outputs": []
    },
    {
      "cell_type": "code",
      "source": [
        "fr.sort_values(by='b', ascending = False) # ㅇ값을 정렬할 때 정렬기준으로 원하는 컬럼 이름 전송, ascending 그대로 적용 가능\n",
        "# 여러개 컬럼도 전달 가능"
      ],
      "metadata": {
        "id": "FazaZ2_rK22C"
      },
      "execution_count": null,
      "outputs": []
    },
    {
      "cell_type": "code",
      "source": [
        "obj = pd.Series([7,-5,7,4,2,0,4])\n",
        "obj.rank() # 동점인 항목은 평균순위 보여줌"
      ],
      "metadata": {
        "id": "D3bqbHddK25L"
      },
      "execution_count": null,
      "outputs": []
    },
    {
      "cell_type": "code",
      "source": [
        "obj.rank(method = 'first') # 평균 순위가 아닌 그냥 먼저 출현한 순서대로 순위 매겨줌"
      ],
      "metadata": {
        "id": "y2d3rcdHK28P"
      },
      "execution_count": null,
      "outputs": []
    },
    {
      "cell_type": "code",
      "source": [
        "# 그 외 동률 처리 메서드 여러개 있음..."
      ],
      "metadata": {
        "id": "PLRMdnF9K2-8"
      },
      "execution_count": null,
      "outputs": []
    },
    {
      "cell_type": "code",
      "source": [
        "# 로우와 컬럼의 순위를 정하는 방법\n",
        "frame = pd.DataFrame({'b':[4.3,7,-3,2],'a':[0,1,0,1],'c':[-2,5,8,-2.5]})\n",
        "frame"
      ],
      "metadata": {
        "id": "-cDHYHp2K3CD"
      },
      "execution_count": null,
      "outputs": []
    },
    {
      "cell_type": "code",
      "source": [
        "frame.rank(axis=0)"
      ],
      "metadata": {
        "id": "1Qjfx9NmK3E3"
      },
      "execution_count": null,
      "outputs": []
    },
    {
      "cell_type": "markdown",
      "source": [
        "### 5.2.8 중복 색인\n",
        "- pandas는 인덱스가 유일하지 않아도 되어서 중복 색인 존재\n",
        "- 중복 색인이 있을 때는 색인 검색 시 시리즈/프레임 반환, 유일 색인일 때는 스칼라값 반환"
      ],
      "metadata": {
        "id": "Z7FCS1Zh1WHF"
      }
    },
    {
      "cell_type": "code",
      "source": [
        "obj = pd.Series(range(5), index = list('aabbc'))\n",
        "obj"
      ],
      "metadata": {
        "id": "xDbiMn8eQ7uE"
      },
      "execution_count": null,
      "outputs": []
    },
    {
      "cell_type": "code",
      "source": [
        "obj.index.is_unique\n",
        "# 중복색인이라는 뜻"
      ],
      "metadata": {
        "id": "Vwg8oghkQ7w2"
      },
      "execution_count": null,
      "outputs": []
    },
    {
      "cell_type": "code",
      "source": [
        "obj['c']"
      ],
      "metadata": {
        "id": "Ds5AfBelQ72o"
      },
      "execution_count": null,
      "outputs": []
    },
    {
      "cell_type": "markdown",
      "source": [
        "## 5.3 기술 통계 계산과 요약\n",
        "- 드디어...기술 통계 챕터 5 너무 길다\n",
        "- pandas 메서드는 처음부터 누락된 데이터는 제외하도록 설계되어 있음"
      ],
      "metadata": {
        "id": "K8qqr_q-Q75R"
      }
    },
    {
      "cell_type": "code",
      "source": [
        "df = pd.DataFrame([[1.4, np.nan],[7.1,-4.5],[np.nan, np.nan],[0.75,-1.3]], index = list('abcd'), columns=['one','two'])\n",
        "df"
      ],
      "metadata": {
        "id": "jViMY_ZpQ7_w"
      },
      "execution_count": null,
      "outputs": []
    },
    {
      "cell_type": "code",
      "source": [
        "df.sum() # 각 컬럼의 합을 담은 Series 반환, nan 값은 무시하고 계산"
      ],
      "metadata": {
        "id": "6Cfqdz1qQ8Cl"
      },
      "execution_count": null,
      "outputs": []
    },
    {
      "cell_type": "code",
      "source": [
        "df.sum(axis = 1) # 각 로우의 합 반환"
      ],
      "metadata": {
        "id": "HS5ayrqdQ8GN"
      },
      "execution_count": null,
      "outputs": []
    },
    {
      "cell_type": "code",
      "source": [
        "df.mean()"
      ],
      "metadata": {
        "id": "YtJugjg2Q8JU"
      },
      "execution_count": null,
      "outputs": []
    },
    {
      "cell_type": "code",
      "source": [
        "df.mean(skipna=False) # NAN 포함해서 계산도 가능"
      ],
      "metadata": {
        "id": "Gmd4mXaBQ8Mi"
      },
      "execution_count": null,
      "outputs": []
    },
    {
      "cell_type": "code",
      "source": [
        "df.idxmin(), df.idxmax() # 최솟값/최댓값 갖고 있는 색인값 반환"
      ],
      "metadata": {
        "id": "Na5ddQVZQ8QI"
      },
      "execution_count": null,
      "outputs": []
    },
    {
      "cell_type": "code",
      "source": [
        "df.cumsum() # 누적합계"
      ],
      "metadata": {
        "id": "9cT26BQoQ8T1"
      },
      "execution_count": null,
      "outputs": []
    },
    {
      "cell_type": "code",
      "source": [
        "df.describe()"
      ],
      "metadata": {
        "id": "vK6h-StFQ8XJ"
      },
      "execution_count": null,
      "outputs": []
    },
    {
      "cell_type": "code",
      "source": [
        "# 수치데이터가 아니면 다르게 반환\n",
        "obj = pd.Series(['a','a','b','c']*4)\n",
        "obj.describe()"
      ],
      "metadata": {
        "id": "Fj55bNGSQ8ad"
      },
      "execution_count": null,
      "outputs": []
    },
    {
      "cell_type": "code",
      "source": [
        "df.argmax()"
      ],
      "metadata": {
        "id": "I-q7Lj3YQ8dq"
      },
      "execution_count": null,
      "outputs": []
    },
    {
      "cell_type": "markdown",
      "source": [
        "### 5.3.1 상관관계와 공분산 * 주식데이터 예제"
      ],
      "metadata": {
        "id": "g-JDs25VQ8g3"
      }
    },
    {
      "cell_type": "code",
      "source": [
        "pip install pandas-datareader"
      ],
      "metadata": {
        "id": "g5IVZNCmQ8j0"
      },
      "execution_count": null,
      "outputs": []
    },
    {
      "cell_type": "code",
      "source": [
        "pip install --upgrade pandas-datareader"
      ],
      "metadata": {
        "id": "ZKCD4g7xUtCt"
      },
      "execution_count": null,
      "outputs": []
    },
    {
      "cell_type": "code",
      "source": [
        "pip install yfinance"
      ],
      "metadata": {
        "id": "wyOFnyrxXvOa"
      },
      "execution_count": null,
      "outputs": []
    },
    {
      "cell_type": "code",
      "source": [
        "from pandas_datareader import data as pdr\n",
        "import yfinance as yfin"
      ],
      "metadata": {
        "id": "baI7cCqYQ8nE"
      },
      "execution_count": null,
      "outputs": []
    },
    {
      "cell_type": "code",
      "source": [
        "yfin.pdr_override()"
      ],
      "metadata": {
        "id": "WHH1htErQ8qR"
      },
      "execution_count": null,
      "outputs": []
    },
    {
      "cell_type": "code",
      "source": [
        "all_data = {ticker:pdr.get_data_yahoo(ticker) for ticker in ['AAPL','IBM','MSFT','GOOG']}"
      ],
      "metadata": {
        "id": "J4IKXcBrX7yH"
      },
      "execution_count": null,
      "outputs": []
    },
    {
      "cell_type": "code",
      "source": [
        "all_data"
      ],
      "metadata": {
        "id": "BjwVm4x0ZuEJ"
      },
      "execution_count": null,
      "outputs": []
    },
    {
      "cell_type": "code",
      "source": [
        "price = pd.DataFrame({ticker:data['Adj Close'] for ticker, data in all_data.items()})\n",
        "price\n",
        "# ticker와 각 ticker의 ADdj Close 컬럼을 갖고와 붙이기"
      ],
      "metadata": {
        "id": "0p1ahdLpX72K"
      },
      "execution_count": null,
      "outputs": []
    },
    {
      "cell_type": "code",
      "source": [
        "volume = pd.DataFrame({ticker:data['Volume'] for ticker, data in all_data.items()})\n",
        "volume"
      ],
      "metadata": {
        "id": "W8SkUkLlX75E"
      },
      "execution_count": null,
      "outputs": []
    },
    {
      "cell_type": "code",
      "source": [
        "# 각 주식의 퍼센트 변화율\n",
        "returns  = price.pct_change()\n",
        "returns.tail()"
      ],
      "metadata": {
        "id": "ErO1Z6t3X78F"
      },
      "execution_count": null,
      "outputs": []
    },
    {
      "cell_type": "code",
      "source": [
        "# 파이썬의 corr 메서드는 NA가 아니며 정렬된 색인에서 연속하는 두 시리즈에 대해 상관관계를 계산\n",
        "# cov 는 공분산 계산\n",
        "returns['MSFT'].corr(returns['IBM']), returns['MSFT'].cov(returns['IBM'])"
      ],
      "metadata": {
        "id": "IMDEz1Afat8s"
      },
      "execution_count": null,
      "outputs": []
    },
    {
      "cell_type": "code",
      "source": [
        "returns.corr() # 데이터 프레임 메서드"
      ],
      "metadata": {
        "id": "c-KP5r30auA7"
      },
      "execution_count": null,
      "outputs": []
    },
    {
      "cell_type": "code",
      "source": [
        "returns.cov()"
      ],
      "metadata": {
        "id": "1W7YpoPYauEa"
      },
      "execution_count": null,
      "outputs": []
    },
    {
      "cell_type": "code",
      "source": [
        "returns.corrwith(returns.IBM)"
      ],
      "metadata": {
        "id": "nvodUNX7auHr"
      },
      "execution_count": null,
      "outputs": []
    },
    {
      "cell_type": "code",
      "source": [
        "returns.corrwith(volume)\n",
        "# 컬럼이름이 딱 맞아떨어지는 애들끼리 상관관계 계산\n",
        "# 시가 총액과 퍼센트 변화율에 대한 상관관계 확인"
      ],
      "metadata": {
        "id": "onFh0b7KauLQ"
      },
      "execution_count": null,
      "outputs": []
    },
    {
      "cell_type": "markdown",
      "source": [
        "### 5.3.2 유일값, 값 세기, 멤버십"
      ],
      "metadata": {
        "id": "8ReTtuXSauN4"
      }
    },
    {
      "cell_type": "code",
      "source": [
        "obj = pd.Series(list('cadaabbcc'))"
      ],
      "metadata": {
        "id": "O1TA9DvEauRm"
      },
      "execution_count": null,
      "outputs": []
    },
    {
      "cell_type": "code",
      "source": [
        "uniques = obj.unique()"
      ],
      "metadata": {
        "id": "jNDPpbZec99b"
      },
      "execution_count": null,
      "outputs": []
    },
    {
      "cell_type": "code",
      "source": [
        "uniques.sort()"
      ],
      "metadata": {
        "id": "mpy4cYdJauVT"
      },
      "execution_count": null,
      "outputs": []
    },
    {
      "cell_type": "code",
      "source": [
        "obj.value_counts() \n",
        "# 도수를 계산하여 반환\n",
        "# 내림차순으로 정렬"
      ],
      "metadata": {
        "id": "Fu5CFo97auY_"
      },
      "execution_count": null,
      "outputs": []
    },
    {
      "cell_type": "code",
      "source": [
        "pd.value_counts(obj.values)"
      ],
      "metadata": {
        "id": "zA9J8a6Jaub9"
      },
      "execution_count": null,
      "outputs": []
    },
    {
      "cell_type": "code",
      "source": [
        "# isin 매서드는 어떤 값이 시리즈 내에 존재하는지 불리언 벡터 반환\n",
        "obj"
      ],
      "metadata": {
        "id": "cy1ssqT1aufw"
      },
      "execution_count": null,
      "outputs": []
    },
    {
      "cell_type": "code",
      "source": [
        "mask = obj.isin(['b','c'])\n",
        "mask"
      ],
      "metadata": {
        "id": "oUFj3LXaaujz"
      },
      "execution_count": null,
      "outputs": []
    },
    {
      "cell_type": "code",
      "source": [
        "obj[mask]"
      ],
      "metadata": {
        "id": "KYu9QAG8aunE"
      },
      "execution_count": null,
      "outputs": []
    },
    {
      "cell_type": "code",
      "source": [],
      "metadata": {
        "id": "TPWNWADQauqx"
      },
      "execution_count": null,
      "outputs": []
    },
    {
      "cell_type": "code",
      "source": [],
      "metadata": {
        "id": "Iqkt28xWauuZ"
      },
      "execution_count": null,
      "outputs": []
    },
    {
      "cell_type": "code",
      "source": [],
      "metadata": {
        "id": "PR12Aoc-auxi"
      },
      "execution_count": null,
      "outputs": []
    },
    {
      "cell_type": "code",
      "source": [],
      "metadata": {
        "id": "gqM3GI0jau1b"
      },
      "execution_count": null,
      "outputs": []
    },
    {
      "cell_type": "code",
      "source": [],
      "metadata": {
        "id": "fLIhZdlyau5V"
      },
      "execution_count": null,
      "outputs": []
    }
  ]
}