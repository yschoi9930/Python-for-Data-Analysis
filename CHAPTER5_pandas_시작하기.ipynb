{
  "nbformat": 4,
  "nbformat_minor": 0,
  "metadata": {
    "colab": {
      "private_outputs": true,
      "provenance": [],
      "authorship_tag": "ABX9TyPo4pvkZZo4DGxxDlGX0YYb",
      "include_colab_link": true
    },
    "kernelspec": {
      "name": "python3",
      "display_name": "Python 3"
    },
    "language_info": {
      "name": "python"
    }
  },
  "cells": [
    {
      "cell_type": "markdown",
      "metadata": {
        "id": "view-in-github",
        "colab_type": "text"
      },
      "source": [
        "<a href=\"https://colab.research.google.com/github/yschoi9930/Python-for-Data-Analysis/blob/main/CHAPTER5_pandas_%EC%8B%9C%EC%9E%91%ED%95%98%EA%B8%B0.ipynb\" target=\"_parent\"><img src=\"https://colab.research.google.com/assets/colab-badge.svg\" alt=\"Open In Colab\"/></a>"
      ]
    },
    {
      "cell_type": "markdown",
      "source": [
        "# 5. pandas 시작하기"
      ],
      "metadata": {
        "id": "zw3WkaA5FtzP"
      }
    },
    {
      "cell_type": "code",
      "source": [
        "import pandas as pd"
      ],
      "metadata": {
        "id": "hkRHXs8gF4Qk"
      },
      "execution_count": null,
      "outputs": []
    },
    {
      "cell_type": "markdown",
      "source": [
        "## 5.1 pandas 자료구조 소개"
      ],
      "metadata": {
        "id": "xVe4tQT1F4UM"
      }
    },
    {
      "cell_type": "markdown",
      "source": [
        "### 5.1.1 Series\n",
        "- 일련의 객체를 담을 수 있는 1차원 배열같은 자료구조\n",
        "- 왼쪽에 색인, 오른쪽에 색인의 값 보여 줌\n",
        "- Numpy와 비교하여 단일 값을 선택하거나, 여러 값을 선택할 때 색인으로 라벨을 사용 가능\n",
        "- 산술 곱셈, 불리언 배열로 값을 필터링, 수학함수를 적용해도 색인-값 연결 유지\n",
        "- 파이썬의 사전형과 비슷\n",
        "- 산술연산에서 색인과 라벨로 자동 정렬"
      ],
      "metadata": {
        "id": "1WJgK9ObF4XX"
      }
    },
    {
      "cell_type": "code",
      "source": [
        "obj = pd.Series([4,7,-5,3])\n",
        "obj"
      ],
      "metadata": {
        "id": "Ur9_M8exF4aP"
      },
      "execution_count": null,
      "outputs": []
    },
    {
      "cell_type": "code",
      "source": [
        "obj2 = pd.Series([4,7,-5,3], index=['d','b','a','c'])\n",
        "obj2 # 인덱스 직접 지정 가능"
      ],
      "metadata": {
        "id": "nQQ4H2j0F4dp"
      },
      "execution_count": null,
      "outputs": []
    },
    {
      "cell_type": "code",
      "source": [
        "obj2['a']"
      ],
      "metadata": {
        "id": "6McsgjXrF4hB"
      },
      "execution_count": null,
      "outputs": []
    },
    {
      "cell_type": "code",
      "source": [
        "obj2[['c','a']]"
      ],
      "metadata": {
        "id": "AonP-REwF4kI"
      },
      "execution_count": null,
      "outputs": []
    },
    {
      "cell_type": "code",
      "source": [
        "obj2[obj2>0]"
      ],
      "metadata": {
        "id": "roTCEmCMF4ny"
      },
      "execution_count": null,
      "outputs": []
    },
    {
      "cell_type": "code",
      "source": [
        "obj2*2"
      ],
      "metadata": {
        "id": "AvLORhfjF4rU"
      },
      "execution_count": null,
      "outputs": []
    },
    {
      "cell_type": "code",
      "source": [
        "import numpy as np\n",
        "np.exp(obj2)"
      ],
      "metadata": {
        "id": "CP55_uFiF4uv"
      },
      "execution_count": null,
      "outputs": []
    },
    {
      "cell_type": "code",
      "source": [
        "sdata = {'Ohio' : 35000,'Texas':71000, 'Oregin' : 16000, 'Utah' : 5000}"
      ],
      "metadata": {
        "id": "jAtmJrHgF4x7"
      },
      "execution_count": null,
      "outputs": []
    },
    {
      "cell_type": "code",
      "source": [
        "obj3 = pd.Series(sdata)\n",
        "obj3"
      ],
      "metadata": {
        "id": "KbUoBh47F41C"
      },
      "execution_count": null,
      "outputs": []
    },
    {
      "cell_type": "code",
      "source": [
        "states = ['California','Ohio','Oregon','Texas']\n",
        "obj4 = pd.Series(sdata, index = states)\n",
        "obj4\n",
        "\n",
        "# states에 없는 애들은 제외됨, 값이 없는 인덱스는 NAN을 값으로 가짐"
      ],
      "metadata": {
        "id": "2rN_iwyUF448"
      },
      "execution_count": null,
      "outputs": []
    },
    {
      "cell_type": "code",
      "source": [
        "pd.isnull(obj4)"
      ],
      "metadata": {
        "id": "izGD3aZbF48W"
      },
      "execution_count": null,
      "outputs": []
    },
    {
      "cell_type": "code",
      "source": [
        "pd.notnull(obj4)"
      ],
      "metadata": {
        "id": "AlB5H_9zF5Ba"
      },
      "execution_count": null,
      "outputs": []
    },
    {
      "cell_type": "code",
      "source": [
        "obj4.isnull()"
      ],
      "metadata": {
        "id": "Ixu4_38FF5Ej"
      },
      "execution_count": null,
      "outputs": []
    },
    {
      "cell_type": "code",
      "source": [
        "obj4.name = 'Population'"
      ],
      "metadata": {
        "id": "tAmW-6h8F5F4"
      },
      "execution_count": null,
      "outputs": []
    },
    {
      "cell_type": "code",
      "source": [
        "obj4.index.name = 'states'"
      ],
      "metadata": {
        "id": "YAv18cpgF5Md"
      },
      "execution_count": null,
      "outputs": []
    },
    {
      "cell_type": "code",
      "source": [
        "obj4"
      ],
      "metadata": {
        "id": "swrQNopnF5P8"
      },
      "execution_count": null,
      "outputs": []
    },
    {
      "cell_type": "markdown",
      "source": [
        "### 5.1.2 Dataframe"
      ],
      "metadata": {
        "id": "u1LHdK-OF5S6"
      }
    },
    {
      "cell_type": "code",
      "source": [
        "data = {'state' : ['Ohio','Ohio','Ohio','Nevada','Nevada','Nevada'], 'year' : [2000,2001,2002,2001,2002,2003],'pop':[1.5,1.7,3.6,2.4,2.9,3.2]}"
      ],
      "metadata": {
        "id": "rbzIKbGZF5V1"
      },
      "execution_count": null,
      "outputs": []
    },
    {
      "cell_type": "code",
      "source": [
        "frame = pd.DataFrame(data)"
      ],
      "metadata": {
        "id": "JPpg90aKF5Y-"
      },
      "execution_count": null,
      "outputs": []
    },
    {
      "cell_type": "code",
      "source": [
        "frame"
      ],
      "metadata": {
        "id": "64K9E2QAF5cB"
      },
      "execution_count": null,
      "outputs": []
    },
    {
      "cell_type": "code",
      "source": [
        "frame.head()"
      ],
      "metadata": {
        "id": "ngmzm3yAF5e_"
      },
      "execution_count": null,
      "outputs": []
    },
    {
      "cell_type": "code",
      "source": [
        "pd.DataFrame(data,columns = ['year','state','pop'])"
      ],
      "metadata": {
        "id": "2LGcOTGXF5iY"
      },
      "execution_count": null,
      "outputs": []
    },
    {
      "cell_type": "code",
      "source": [
        "frame2 = pd.DataFrame(data, columns = ['year','state','pop','debt'], index = ['one','two','three','four','five','six'])"
      ],
      "metadata": {
        "id": "2edXoWgWF5lW"
      },
      "execution_count": null,
      "outputs": []
    },
    {
      "cell_type": "code",
      "source": [
        "frame2"
      ],
      "metadata": {
        "id": "6eIc-YxsPGzq"
      },
      "execution_count": null,
      "outputs": []
    },
    {
      "cell_type": "code",
      "source": [
        "frame2['state']"
      ],
      "metadata": {
        "id": "yKs683XUPG2x"
      },
      "execution_count": null,
      "outputs": []
    },
    {
      "cell_type": "code",
      "source": [
        "frame2.year"
      ],
      "metadata": {
        "id": "k2yD0_QoPG5w"
      },
      "execution_count": null,
      "outputs": []
    },
    {
      "cell_type": "code",
      "source": [
        "frame2.loc['three']"
      ],
      "metadata": {
        "id": "EbrX4iiCPG8n"
      },
      "execution_count": null,
      "outputs": []
    },
    {
      "cell_type": "code",
      "source": [
        "frame2['debt'] = 16.5"
      ],
      "metadata": {
        "id": "TyxUytFgPG_c"
      },
      "execution_count": null,
      "outputs": []
    },
    {
      "cell_type": "code",
      "source": [
        "frame2"
      ],
      "metadata": {
        "id": "4Wt8_hrePHCW"
      },
      "execution_count": null,
      "outputs": []
    },
    {
      "cell_type": "code",
      "source": [
        "val = pd.Series([-1.2,-1.5,-1.7], index = ['two','four','five'])\n",
        "frame2['debt'] = val "
      ],
      "metadata": {
        "id": "oBxs-hSLPHFa"
      },
      "execution_count": null,
      "outputs": []
    },
    {
      "cell_type": "code",
      "source": [
        "frame2"
      ],
      "metadata": {
        "id": "c-5odg4APHIj"
      },
      "execution_count": null,
      "outputs": []
    },
    {
      "cell_type": "code",
      "source": [
        "frame2['eastern'] = frame2.state == 'Ohio'\n",
        "frame2"
      ],
      "metadata": {
        "id": "WgL7HXZyPHLV"
      },
      "execution_count": null,
      "outputs": []
    },
    {
      "cell_type": "code",
      "source": [
        "del frame2['eastern']"
      ],
      "metadata": {
        "id": "kt_Jo9TjPHOG"
      },
      "execution_count": null,
      "outputs": []
    },
    {
      "cell_type": "code",
      "source": [
        "frame2.columns"
      ],
      "metadata": {
        "id": "yAkvVWl2PHQ9"
      },
      "execution_count": null,
      "outputs": []
    },
    {
      "cell_type": "code",
      "source": [
        "frame2"
      ],
      "metadata": {
        "id": "cBHLFTjkPHT2"
      },
      "execution_count": null,
      "outputs": []
    },
    {
      "cell_type": "code",
      "source": [],
      "metadata": {
        "id": "0TVW_zpGPHWw"
      },
      "execution_count": null,
      "outputs": []
    },
    {
      "cell_type": "code",
      "source": [],
      "metadata": {
        "id": "BG5v3vzKPHZ_"
      },
      "execution_count": null,
      "outputs": []
    }
  ]
}