{
  "nbformat": 4,
  "nbformat_minor": 0,
  "metadata": {
    "colab": {
      "private_outputs": true,
      "provenance": [],
      "mount_file_id": "1s3-UQUeStvyK49yrEKIpIRV8ecmDo5u0",
      "authorship_tag": "ABX9TyOUHMG7ubFGE0yTUr635TV/",
      "include_colab_link": true
    },
    "kernelspec": {
      "name": "python3",
      "display_name": "Python 3"
    },
    "language_info": {
      "name": "python"
    }
  },
  "cells": [
    {
      "cell_type": "markdown",
      "metadata": {
        "id": "view-in-github",
        "colab_type": "text"
      },
      "source": [
        "<a href=\"https://colab.research.google.com/github/yschoi9930/Python-for-Data-Analysis/blob/main/CHAPTER_6_%EB%8D%B0%EC%9D%B4%ED%84%B0_%EB%A1%9C%EB%94%A9%EA%B3%BC_%EC%A0%80%EC%9E%A5%2C_%ED%8C%8C%EC%9D%BC%ED%98%95%EC%8B%9D.ipynb\" target=\"_parent\"><img src=\"https://colab.research.google.com/assets/colab-badge.svg\" alt=\"Open In Colab\"/></a>"
      ]
    },
    {
      "cell_type": "markdown",
      "source": [
        "# CHAPTER 6 데이터 로딩과 저장, 파일형식"
      ],
      "metadata": {
        "id": "j14rHekAeQDn"
      }
    },
    {
      "cell_type": "code",
      "source": [
        "import pandas as pd\n",
        "import numpy as np"
      ],
      "metadata": {
        "id": "7c8I7obFiNfi"
      },
      "execution_count": null,
      "outputs": []
    },
    {
      "cell_type": "markdown",
      "source": [
        "## 6.1 텍스트 파일에서 데이터를 읽고 쓰는 법\n",
        "- 가장 많이 쓰는 read_csv, read_table, read_excel!"
      ],
      "metadata": {
        "id": "amNiTOm0edjq"
      }
    },
    {
      "cell_type": "code",
      "source": [
        "pd.read_csv('/content/drive/MyDrive/Python for Data Analysis/examples/ex1.csv')"
      ],
      "metadata": {
        "id": "ZQXpOYrhedpt"
      },
      "execution_count": null,
      "outputs": []
    },
    {
      "cell_type": "code",
      "source": [
        "pd.read_table('/content/drive/MyDrive/Python for Data Analysis/examples/ex1.csv', sep=',')"
      ],
      "metadata": {
        "id": "5hUILmy7eds3"
      },
      "execution_count": null,
      "outputs": []
    },
    {
      "cell_type": "code",
      "source": [
        "file_name = '/content/drive/MyDrive/Python for Data Analysis/examples/ex1.csv'"
      ],
      "metadata": {
        "id": "mFyrmx2Bi7Qj"
      },
      "execution_count": null,
      "outputs": []
    },
    {
      "cell_type": "code",
      "source": [
        "pd.read_csv('/content/drive/MyDrive/Python for Data Analysis/examples/ex2.csv')"
      ],
      "metadata": {
        "id": "sNzZBtF1edwL"
      },
      "execution_count": null,
      "outputs": []
    },
    {
      "cell_type": "code",
      "source": [
        "pd.read_csv('/content/drive/MyDrive/Python for Data Analysis/examples/ex2.csv', header =None)"
      ],
      "metadata": {
        "id": "IHndMbLredzj"
      },
      "execution_count": null,
      "outputs": []
    },
    {
      "cell_type": "code",
      "source": [
        "pd.read_csv('/content/drive/MyDrive/Python for Data Analysis/examples/ex2.csv', names = ['a','b','c','d','message'])"
      ],
      "metadata": {
        "id": "mAAHmSZ-ed2_"
      },
      "execution_count": null,
      "outputs": []
    },
    {
      "cell_type": "code",
      "source": [
        "names  = names = ['a','b','c','d','message']"
      ],
      "metadata": {
        "id": "DZ5Lc3LTed6Z"
      },
      "execution_count": null,
      "outputs": []
    },
    {
      "cell_type": "code",
      "source": [
        "pd.read_csv('/content/drive/MyDrive/Python for Data Analysis/examples/ex2.csv', names = names, index_col = 'message')"
      ],
      "metadata": {
        "id": "zkqP-ycmed9k"
      },
      "execution_count": null,
      "outputs": []
    },
    {
      "cell_type": "code",
      "source": [
        "pd.read_csv('/content/drive/MyDrive/Python for Data Analysis/examples/csv_mindex.csv')"
      ],
      "metadata": {
        "id": "rqm6DpUsjtl7"
      },
      "execution_count": null,
      "outputs": []
    },
    {
      "cell_type": "code",
      "source": [
        "pd.read_csv('/content/drive/MyDrive/Python for Data Analysis/examples/csv_mindex.csv', index_col = ['key1','key2'])"
      ],
      "metadata": {
        "id": "EzdXvWHjeeA1"
      },
      "execution_count": null,
      "outputs": []
    },
    {
      "cell_type": "code",
      "source": [
        "list(open('/content/drive/MyDrive/Python for Data Analysis/examples/ex3.txt'))"
      ],
      "metadata": {
        "id": "2GjAnCl3eeD5"
      },
      "execution_count": null,
      "outputs": []
    },
    {
      "cell_type": "code",
      "source": [
        "result = pd.read_table('/content/drive/MyDrive/Python for Data Analysis/examples/ex3.txt', sep = '\\s+') # 공백문자 처리"
      ],
      "metadata": {
        "id": "PdO-WOxOeeH0"
      },
      "execution_count": null,
      "outputs": []
    },
    {
      "cell_type": "code",
      "source": [
        "result # 색인을 알아서 추론해줬음"
      ],
      "metadata": {
        "id": "aAmEEBF3eeKK"
      },
      "execution_count": null,
      "outputs": []
    },
    {
      "cell_type": "code",
      "source": [
        "list(open('/content/drive/MyDrive/Python for Data Analysis/examples/ex4.csv'))"
      ],
      "metadata": {
        "id": "fSA4SAgYeeNW"
      },
      "execution_count": null,
      "outputs": []
    },
    {
      "cell_type": "code",
      "source": [
        "# 0,2,3 번째 줄 필요 없음\n",
        "pd.read_csv('/content/drive/MyDrive/Python for Data Analysis/examples/ex4.csv', skiprows=[0,2,3])"
      ],
      "metadata": {
        "id": "EyM1Bgu7eeQT"
      },
      "execution_count": null,
      "outputs": []
    },
    {
      "cell_type": "code",
      "source": [
        "# 누락된 값 처리"
      ],
      "metadata": {
        "id": "prrPQA3Skp8O"
      },
      "execution_count": null,
      "outputs": []
    },
    {
      "cell_type": "code",
      "source": [
        "result = pd.read_csv('/content/drive/MyDrive/Python for Data Analysis/examples/ex5.csv')"
      ],
      "metadata": {
        "id": "qnqSvclHkp__"
      },
      "execution_count": null,
      "outputs": []
    },
    {
      "cell_type": "code",
      "source": [
        "result"
      ],
      "metadata": {
        "id": "8PM5oZsJlE2y"
      },
      "execution_count": null,
      "outputs": []
    },
    {
      "cell_type": "code",
      "source": [
        "pd.isnull(result)"
      ],
      "metadata": {
        "id": "RzO6yeXukqDf"
      },
      "execution_count": null,
      "outputs": []
    },
    {
      "cell_type": "code",
      "source": [
        "# 컬럼마다 원하는 값을 NA처리 할 수 있음\n",
        "s = {'message' : ['foo','NA'], 'something' :['two']}\n",
        "pd.read_csv('/content/drive/MyDrive/Python for Data Analysis/examples/ex5.csv', na_values = s)"
      ],
      "metadata": {
        "id": "-9XCjCNfkqGz"
      },
      "execution_count": null,
      "outputs": []
    },
    {
      "cell_type": "markdown",
      "source": [
        "### 6.1.1 텍스트 파일 조금씩 읽어오기"
      ],
      "metadata": {
        "id": "vhmEOE0akqKP"
      }
    },
    {
      "cell_type": "markdown",
      "source": [
        "- pandas 출력 설정 손보기"
      ],
      "metadata": {
        "id": "OBra7U6omRpc"
      }
    },
    {
      "cell_type": "code",
      "source": [
        "pd.options.display.max_rows = 10"
      ],
      "metadata": {
        "id": "RLL0jl6RkqOD"
      },
      "execution_count": null,
      "outputs": []
    },
    {
      "cell_type": "code",
      "source": [
        "result = pd.read_csv('/content/drive/MyDrive/Python for Data Analysis/examples/ex6.csv')\n",
        "result"
      ],
      "metadata": {
        "id": "i2IZaZGekqRL"
      },
      "execution_count": null,
      "outputs": []
    },
    {
      "cell_type": "markdown",
      "source": [
        "- 초기 몇 줄만 가져오고 싶을 때"
      ],
      "metadata": {
        "id": "Cfqhd7uVmdnZ"
      }
    },
    {
      "cell_type": "code",
      "source": [
        "pd.read_csv('/content/drive/MyDrive/Python for Data Analysis/examples/ex6.csv', nrows = 5)"
      ],
      "metadata": {
        "id": "EHHjZD6ekqUi"
      },
      "execution_count": null,
      "outputs": []
    },
    {
      "cell_type": "markdown",
      "source": [
        "### 6.1.2 데이터를 텍스트 형식으로 기록하기"
      ],
      "metadata": {
        "id": "4MBvdavPkqis"
      }
    },
    {
      "cell_type": "code",
      "source": [
        "data = pd.read_csv('/content/drive/MyDrive/Python for Data Analysis/examples/ex5.csv')"
      ],
      "metadata": {
        "id": "2euWC4VukqmT"
      },
      "execution_count": null,
      "outputs": []
    },
    {
      "cell_type": "markdown",
      "source": [
        "- 데이터 경로에 저장"
      ],
      "metadata": {
        "id": "iF6qDmdwozcc"
      }
    },
    {
      "cell_type": "code",
      "source": [
        "data.to_csv('/content/drive/MyDrive/Python for Data Analysis/examples/out.csv')"
      ],
      "metadata": {
        "id": "N9sCAeKUkqp7"
      },
      "execution_count": null,
      "outputs": []
    },
    {
      "cell_type": "code",
      "source": [
        "import sys"
      ],
      "metadata": {
        "id": "r6ZuRyhBkqth"
      },
      "execution_count": null,
      "outputs": []
    },
    {
      "cell_type": "markdown",
      "source": [
        "- 실제 파일로 기록하지 않고 sys stdout으로 콘솔에 결과 기록"
      ],
      "metadata": {
        "id": "Wk3qVPmuovnk"
      }
    },
    {
      "cell_type": "code",
      "source": [
        "data.to_csv(sys.stdout, sep= '|') "
      ],
      "metadata": {
        "id": "WXT9b1dmkqxR"
      },
      "execution_count": null,
      "outputs": []
    },
    {
      "cell_type": "markdown",
      "source": [
        "- 누락값 원하는 값으로 지정하여 저장"
      ],
      "metadata": {
        "id": "KUUH0nLqo3dc"
      }
    },
    {
      "cell_type": "code",
      "source": [
        "data.to_csv(sys.stdout, na_rep='NULL') "
      ],
      "metadata": {
        "id": "QSm91dwQkq08"
      },
      "execution_count": null,
      "outputs": []
    },
    {
      "cell_type": "markdown",
      "source": [
        "- index랑 header 조건 설정"
      ],
      "metadata": {
        "id": "rrtVio5Xo7h3"
      }
    },
    {
      "cell_type": "code",
      "source": [
        "data.to_csv(sys.stdout, index = False, header = False)"
      ],
      "metadata": {
        "id": "gzzEYFzGkq4e"
      },
      "execution_count": null,
      "outputs": []
    },
    {
      "cell_type": "markdown",
      "source": [
        "- 컬럼 일부분만 기록하고 순서 지정 가능"
      ],
      "metadata": {
        "id": "HN8umQAApBPR"
      }
    },
    {
      "cell_type": "code",
      "source": [
        "data.to_csv(sys.stdout, columns = list('abc'))"
      ],
      "metadata": {
        "id": "liAygKdOkq73"
      },
      "execution_count": null,
      "outputs": []
    },
    {
      "cell_type": "markdown",
      "source": [
        "- Series에도 to_csv 메서드 존재"
      ],
      "metadata": {
        "id": "JBrc1u2OpJ8B"
      }
    },
    {
      "cell_type": "code",
      "source": [
        "dates = pd.date_range('1/1/2000', periods = 7)"
      ],
      "metadata": {
        "id": "h1ebPMa3kq_W"
      },
      "execution_count": null,
      "outputs": []
    },
    {
      "cell_type": "code",
      "source": [
        "dates"
      ],
      "metadata": {
        "id": "eG5ozELBpZyd"
      },
      "execution_count": null,
      "outputs": []
    },
    {
      "cell_type": "code",
      "source": [
        "ts = pd.Series(np.arange(7), index = dates)\n",
        "ts"
      ],
      "metadata": {
        "id": "T6CIN_EkkrDQ"
      },
      "execution_count": null,
      "outputs": []
    },
    {
      "cell_type": "code",
      "source": [
        "ts.to_csv(sys.stdout)"
      ],
      "metadata": {
        "id": "O5ZVlGeVkrGz"
      },
      "execution_count": null,
      "outputs": []
    },
    {
      "cell_type": "markdown",
      "source": [
        "### 6.1.3 구분자 형식 다루기"
      ],
      "metadata": {
        "id": "mYkXUlSYpzYy"
      }
    },
    {
      "cell_type": "code",
      "source": [
        "import csv"
      ],
      "metadata": {
        "id": "2hQDbqmMpzcb"
      },
      "execution_count": null,
      "outputs": []
    },
    {
      "cell_type": "markdown",
      "source": [
        "- 구분자가 이상하게 생긴 파일"
      ],
      "metadata": {
        "id": "8j-OWDUtqYW8"
      }
    },
    {
      "cell_type": "code",
      "source": [
        "f = open('/content/drive/MyDrive/Python for Data Analysis/examples/ex7.csv')"
      ],
      "metadata": {
        "id": "YPByX99ipzgq"
      },
      "execution_count": null,
      "outputs": []
    },
    {
      "cell_type": "code",
      "source": [
        "reader = csv.reader(f)"
      ],
      "metadata": {
        "id": "B-_fqXpLpzia"
      },
      "execution_count": null,
      "outputs": []
    },
    {
      "cell_type": "code",
      "source": [
        "# reader를 순회하면서 큰 따옴표 제거\n",
        "for line in reader :\n",
        "  print(line)"
      ],
      "metadata": {
        "id": "IHK1nP0upzlu"
      },
      "execution_count": null,
      "outputs": []
    },
    {
      "cell_type": "code",
      "source": [
        "with open('/content/drive/MyDrive/Python for Data Analysis/examples/ex7.csv') as f :\n",
        "  lines = list(csv.reader(f))"
      ],
      "metadata": {
        "id": "Kc-K2ncSpzpV"
      },
      "execution_count": null,
      "outputs": []
    },
    {
      "cell_type": "code",
      "source": [
        "lines"
      ],
      "metadata": {
        "id": "tZDNQogJpztP"
      },
      "execution_count": null,
      "outputs": []
    },
    {
      "cell_type": "code",
      "source": [
        "header, values = lines[0], lines[1:]"
      ],
      "metadata": {
        "id": "_1i3GDf4pzw-"
      },
      "execution_count": null,
      "outputs": []
    },
    {
      "cell_type": "code",
      "source": [
        "header, values"
      ],
      "metadata": {
        "id": "xf-9szMeratt"
      },
      "execution_count": null,
      "outputs": []
    },
    {
      "cell_type": "code",
      "source": [
        "data_dict = {h:v for h, v in zip(header, zip(*values))} # zip(*values) : 로우와 컬럼을 전치\n",
        "data_dict"
      ],
      "metadata": {
        "id": "cF7zjO73pz0H"
      },
      "execution_count": null,
      "outputs": []
    },
    {
      "cell_type": "code",
      "source": [
        "data_dict2 = {h:v for h, v in zip(header, values)}\n",
        "data_dict2"
      ],
      "metadata": {
        "id": "jc5i6wjfpz6a"
      },
      "execution_count": null,
      "outputs": []
    },
    {
      "cell_type": "code",
      "source": [
        "data_dict"
      ],
      "metadata": {
        "id": "z7eukFgfpz-S"
      },
      "execution_count": null,
      "outputs": []
    },
    {
      "cell_type": "markdown",
      "source": [
        "### 6.1.4 JSON 데이터\n",
        "- JSON은 웹브라우저와 다른 애플리케이션이 HTTP 요청으로 데이터를 보낼 때 널리 사용하는 표준 파일 형식 중 하나다.\n",
        "- CSV보다는 조금 유연함\n",
        "- 파이썬과 거의 유사함\n",
        "- 객체의 키는 반드시 문자열이어야 함\n",
        "- json을 읽고 쓸 수 있는 파이썬 라이브러리 사용하자 json"
      ],
      "metadata": {
        "id": "pPMBoc5Tpz_d"
      }
    },
    {
      "cell_type": "code",
      "source": [
        "obj = \"\"\"\n",
        "{\"name\": \"Wes\",\n",
        " \"cities_lived\": [\"Akron\", \"Nashville\", \"New York\", \"San Francisco\"],\n",
        " \"pet\": null,\n",
        " \"siblings\": [{\"name\": \"Scott\", \"age\": 34, \"hobbies\": [\"guitars\", \"soccer\"]},\n",
        "              {\"name\": \"Katie\", \"age\": 42, \"hobbies\": [\"diving\", \"art\"]}]\n",
        "}\n",
        "\"\"\""
      ],
      "metadata": {
        "id": "DWgKvU_8p0CO"
      },
      "execution_count": null,
      "outputs": []
    },
    {
      "cell_type": "code",
      "source": [
        "import json"
      ],
      "metadata": {
        "id": "sYL6QZJBp0Fn"
      },
      "execution_count": null,
      "outputs": []
    },
    {
      "cell_type": "markdown",
      "source": [
        "- json to pytion"
      ],
      "metadata": {
        "id": "qGffx9N_wLuU"
      }
    },
    {
      "cell_type": "code",
      "source": [
        "result = json.loads(obj)\n",
        "result"
      ],
      "metadata": {
        "id": "cnnoyphskrKg"
      },
      "execution_count": null,
      "outputs": []
    },
    {
      "cell_type": "markdown",
      "source": [
        "- python to json"
      ],
      "metadata": {
        "id": "QpGMs4d5wFp2"
      }
    },
    {
      "cell_type": "code",
      "source": [
        "asjson = json.dumps(result)"
      ],
      "metadata": {
        "id": "HdWNaK3NwFty"
      },
      "execution_count": null,
      "outputs": []
    },
    {
      "cell_type": "code",
      "source": [
        "asjson"
      ],
      "metadata": {
        "id": "0s4OAU6CwFxq"
      },
      "execution_count": null,
      "outputs": []
    },
    {
      "cell_type": "markdown",
      "source": [
        "- json 객체의 리스트를 사전을 담고 있는 리스트로 변환하여 DF생성자로 넘기고 데이터 필드 선택 가능"
      ],
      "metadata": {
        "id": "oWcRc1RPwF0z"
      }
    },
    {
      "cell_type": "code",
      "source": [
        "result['siblings']"
      ],
      "metadata": {
        "id": "cE7qmB-3wu5J"
      },
      "execution_count": null,
      "outputs": []
    },
    {
      "cell_type": "code",
      "source": [
        "sib = pd.DataFrame(result['siblings'])\n",
        "sib"
      ],
      "metadata": {
        "id": "_loHFVLOwF4L"
      },
      "execution_count": null,
      "outputs": []
    },
    {
      "cell_type": "markdown",
      "source": [
        "- pandas.read_json은 자동으로 JSON 데이터셋을 시리즈나 DF로 변환"
      ],
      "metadata": {
        "id": "D8f18t6BwF7w"
      }
    },
    {
      "cell_type": "code",
      "source": [
        "data = pd.read_json('/content/drive/MyDrive/Python for Data Analysis/examples/example.json')"
      ],
      "metadata": {
        "id": "PHElXAbzwF_o"
      },
      "execution_count": null,
      "outputs": []
    },
    {
      "cell_type": "code",
      "source": [
        "data"
      ],
      "metadata": {
        "id": "7XDN2vvbwGDP"
      },
      "execution_count": null,
      "outputs": []
    },
    {
      "cell_type": "markdown",
      "source": [
        "- pandas 데이터를 JSON으로 저장하는 방법은 to_json 사용"
      ],
      "metadata": {
        "id": "c-A1-yTpwGHJ"
      }
    },
    {
      "cell_type": "code",
      "source": [
        "print(data.to_json())"
      ],
      "metadata": {
        "id": "kxt-CflowGK1"
      },
      "execution_count": null,
      "outputs": []
    },
    {
      "cell_type": "markdown",
      "source": [
        "### 6.1.5 XML과 HTML: 웹 스크래핑\n",
        "- read_html 함수를 통해 lxml이나 Beautiful Soup 같은 라이브러리를 사용해서 자동으로 HTML 파일을 파싱하여 DataFrame으로 변환해준다\n",
        "- XML은 계층적 구조와 메타데이터를 포함하는 중첩된 데이터 구조를 지원하는 데이터 형식\n",
        "- XML과 HTML은 구조적으로 유사하지만 XML이 좀 더 범용적"
      ],
      "metadata": {
        "id": "HcknpD8OwGOy"
      }
    },
    {
      "cell_type": "code",
      "source": [
        "pip install lxml"
      ],
      "metadata": {
        "id": "3mSA9ByRwGSp"
      },
      "execution_count": null,
      "outputs": []
    },
    {
      "cell_type": "code",
      "source": [
        "pip install beautifulsoup4 html5lib"
      ],
      "metadata": {
        "id": "7kHkpMHEwGWq"
      },
      "execution_count": null,
      "outputs": []
    },
    {
      "cell_type": "markdown",
      "source": [
        "- table 태그 안에 있는 모든 표 형식의 데이터 파싱을 시도"
      ],
      "metadata": {
        "id": "JnPwMufowGah"
      }
    },
    {
      "cell_type": "code",
      "source": [
        "tables = pd.read_html('/content/drive/MyDrive/Python for Data Analysis/examples/fdic_failed_bank_list.html')"
      ],
      "metadata": {
        "id": "5BtdebVpwGec"
      },
      "execution_count": null,
      "outputs": []
    },
    {
      "cell_type": "code",
      "source": [
        "tables[0]"
      ],
      "metadata": {
        "id": "hdC8PBzowGiR"
      },
      "execution_count": null,
      "outputs": []
    },
    {
      "cell_type": "markdown",
      "source": [
        "- lxml.objectify를 이용해서 XML 파싱하기"
      ],
      "metadata": {
        "id": "VG_YaOG9wGqa"
      }
    },
    {
      "cell_type": "code",
      "source": [
        "from lxml import objectify"
      ],
      "metadata": {
        "id": "ynbdPIiuylcU"
      },
      "execution_count": null,
      "outputs": []
    },
    {
      "cell_type": "code",
      "source": [
        "path = '/content/drive/MyDrive/Python for Data Analysis/datasets/mta_perf/Performance_MNR.xml'"
      ],
      "metadata": {
        "id": "GYS2c6UtyliP"
      },
      "execution_count": null,
      "outputs": []
    },
    {
      "cell_type": "code",
      "source": [
        "parsed = objectify.parse(open(path))\n",
        "root = parsed.getroot() # XML 파일의 루트 노드에 대한 참조를 얻어옴"
      ],
      "metadata": {
        "id": "gBMSMd4ryljn"
      },
      "execution_count": null,
      "outputs": []
    },
    {
      "cell_type": "code",
      "source": [
        "root.INDICATOR"
      ],
      "metadata": {
        "id": "CsPwQ18l2P7W"
      },
      "execution_count": null,
      "outputs": []
    },
    {
      "cell_type": "code",
      "source": [
        "data = []\n",
        "skip_fields = [\"PARENT_SEQ\", \"INDICATOR_SEQ\",\n",
        "               \"DESIRED_CHANGE\", \"DECIMAL_PLACES\"]\n",
        "\n",
        "for elt in root.INDICATOR : \n",
        "  el_data = {}\n",
        "  for child in elt.getchildren() : \n",
        "    if child.tag in skip_fields :\n",
        "      continue\n",
        "    el_data[child.tag] = child.pyval\n",
        "  data.append(el_data)"
      ],
      "metadata": {
        "id": "USIEyX4Lyll1"
      },
      "execution_count": null,
      "outputs": []
    },
    {
      "cell_type": "code",
      "source": [
        "perf = pd.DataFrame(data)"
      ],
      "metadata": {
        "id": "cAWjhO3Kylps"
      },
      "execution_count": null,
      "outputs": []
    },
    {
      "cell_type": "code",
      "source": [
        "perf.head()"
      ],
      "metadata": {
        "id": "d0LPPILxyluC"
      },
      "execution_count": null,
      "outputs": []
    },
    {
      "cell_type": "markdown",
      "source": [
        "## 6.2 이진 데이터 형식\n",
        "- 데이터를 효율적으로 저장하는 방법 중 pickle직렬화를 사용해 데이터를 이진 형식으로 저장하는 것이다.\n",
        "- 오래 보관할 필요 없는 데이터에 추천"
      ],
      "metadata": {
        "id": "syw-gxqQylzM"
      }
    },
    {
      "cell_type": "code",
      "source": [
        "frame = pd.read_csv('/content/drive/MyDrive/Python for Data Analysis/examples/ex1.csv')"
      ],
      "metadata": {
        "id": "C6TNZGD5yl1R"
      },
      "execution_count": null,
      "outputs": []
    },
    {
      "cell_type": "code",
      "source": [
        "frame"
      ],
      "metadata": {
        "id": "-gGg54luyl5A"
      },
      "execution_count": null,
      "outputs": []
    },
    {
      "cell_type": "code",
      "source": [
        "frame.to_pickle('/content/drive/MyDrive/Python for Data Analysis/examples/frame_pickle')"
      ],
      "metadata": {
        "id": "PHEy1xgN3Xz1"
      },
      "execution_count": null,
      "outputs": []
    },
    {
      "cell_type": "code",
      "source": [
        "pd.read_pickle('/content/drive/MyDrive/Python for Data Analysis/examples/frame_pickle')"
      ],
      "metadata": {
        "id": "O5pammRLyl83"
      },
      "execution_count": null,
      "outputs": []
    },
    {
      "cell_type": "markdown",
      "source": [
        "### 6.2.1 HDFS 형식 사용하기\n",
        "- 대량의 과학 계산용 배열 데이터를 저장하기 위해 고안된 파일 포맷\n",
        "\n",
        "-- 우선..알고 싶지 않아서 잠시 보류"
      ],
      "metadata": {
        "id": "GBmTa44VymAx"
      }
    },
    {
      "cell_type": "markdown",
      "source": [
        "### 6.2.2 ms 엑셀파일에서 읽어오기"
      ],
      "metadata": {
        "id": "wVRX4Hi2ymD_"
      }
    },
    {
      "cell_type": "code",
      "source": [
        "pip install xlrd"
      ],
      "metadata": {
        "id": "DasrCe8bymHz"
      },
      "execution_count": null,
      "outputs": []
    },
    {
      "cell_type": "code",
      "source": [
        "pip install openpyxl"
      ],
      "metadata": {
        "id": "krxbEYtUymLG"
      },
      "execution_count": null,
      "outputs": []
    },
    {
      "cell_type": "markdown",
      "source": [
        "- ExcelFile클래스를 사용하기 위해 xlsx 파일의 경로를 지정하여 객체를 생성함\n",
        "- 한 파일에서 여러시트를 읽을 땐 ExcelFile 생성, 간단하게는 read_excel로 가능하다"
      ],
      "metadata": {
        "id": "SWSphooA4eg_"
      }
    },
    {
      "cell_type": "code",
      "source": [
        "xlsx = pd.ExcelFile('/content/drive/MyDrive/Python for Data Analysis/examples/ex1.xlsx')"
      ],
      "metadata": {
        "id": "IvghA8EaymO8"
      },
      "execution_count": null,
      "outputs": []
    },
    {
      "cell_type": "code",
      "source": [
        "pd.read_excel(xlsx, 'Sheet1')"
      ],
      "metadata": {
        "id": "eUGaKA6TymR-"
      },
      "execution_count": null,
      "outputs": []
    },
    {
      "cell_type": "code",
      "source": [
        "frame = pd.read_excel('/content/drive/MyDrive/Python for Data Analysis/examples/ex1.xlsx', 'Sheet1')"
      ],
      "metadata": {
        "id": "YkfHkY1TymWJ"
      },
      "execution_count": null,
      "outputs": []
    },
    {
      "cell_type": "code",
      "source": [
        "frame"
      ],
      "metadata": {
        "id": "3RXtMGDb49xg"
      },
      "execution_count": null,
      "outputs": []
    },
    {
      "cell_type": "code",
      "source": [
        "frame.to_excel('/content/drive/MyDrive/Python for Data Analysis/examples/ex2.xlsx')"
      ],
      "metadata": {
        "id": "wgBG7IGB490x"
      },
      "execution_count": null,
      "outputs": []
    },
    {
      "cell_type": "markdown",
      "source": [
        "## 웹 API와 함께 사용하기\n",
        "- 저자는 requests 패키지 이용 추천"
      ],
      "metadata": {
        "id": "cRtgHmHY494y"
      }
    },
    {
      "cell_type": "code",
      "source": [
        "import requests"
      ],
      "metadata": {
        "id": "LAHbkpDW498V"
      },
      "execution_count": null,
      "outputs": []
    },
    {
      "cell_type": "code",
      "source": [
        "url = \"https://api.github.com/repos/pandas-dev/pandas/issues\"\n",
        "resp = requests.get(url)"
      ],
      "metadata": {
        "id": "i26OViwW49_I"
      },
      "execution_count": null,
      "outputs": []
    },
    {
      "cell_type": "code",
      "source": [
        "resp"
      ],
      "metadata": {
        "id": "imCpBlBh4-Cj"
      },
      "execution_count": null,
      "outputs": []
    },
    {
      "cell_type": "code",
      "source": [
        "# json 내용을 파이썬 사전 형태로 변환한 객체를 반환\n",
        "data = resp.json()"
      ],
      "metadata": {
        "id": "Jf_wVJXT4-F2"
      },
      "execution_count": null,
      "outputs": []
    },
    {
      "cell_type": "code",
      "source": [
        "data[0]['title']"
      ],
      "metadata": {
        "id": "QIXzilHs4-JO"
      },
      "execution_count": null,
      "outputs": []
    },
    {
      "cell_type": "markdown",
      "source": [
        "## 6.4 데이터베이스와 함께 사용하기\n",
        "- SQL데이터를 가져와 DataFrame에 저장하는 방법이 직관적\n",
        "\n"
      ],
      "metadata": {
        "id": "9gaxNsbJ4-Me"
      }
    },
    {
      "cell_type": "code",
      "source": [
        "import sqlite3"
      ],
      "metadata": {
        "id": "QHK9QlC_4-QH"
      },
      "execution_count": null,
      "outputs": []
    },
    {
      "cell_type": "markdown",
      "source": [
        "- DB에 파이썬의 라이브러리를 이용해 데이터 생성하기"
      ],
      "metadata": {
        "id": "FdQx4B0L6wMm"
      }
    },
    {
      "cell_type": "code",
      "source": [
        "query = \"\"\"\n",
        "CREATE TABLE test\n",
        "(a VARCHAR(20), b VARCHAR(20),\n",
        " c REAL,        d INTEGER\n",
        ");\"\"\""
      ],
      "metadata": {
        "id": "4DB_dnMU55Z_"
      },
      "execution_count": null,
      "outputs": []
    },
    {
      "cell_type": "code",
      "source": [
        "con = sqlite3.connect('mydata.sqlite')"
      ],
      "metadata": {
        "id": "VcY1Ze8H55di"
      },
      "execution_count": null,
      "outputs": []
    },
    {
      "cell_type": "code",
      "source": [
        "con.execute(query)"
      ],
      "metadata": {
        "id": "iFVqodJw55he"
      },
      "execution_count": null,
      "outputs": []
    },
    {
      "cell_type": "code",
      "source": [
        "con.commit()"
      ],
      "metadata": {
        "id": "_z2-9LAt55ki"
      },
      "execution_count": null,
      "outputs": []
    },
    {
      "cell_type": "code",
      "source": [
        "data = [(\"Atlanta\", \"Georgia\", 1.25, 6),\n",
        "        (\"Tallahassee\", \"Florida\", 2.6, 3),\n",
        "        (\"Sacramento\", \"California\", 1.7, 5)]"
      ],
      "metadata": {
        "id": "VFhdtluv55oB"
      },
      "execution_count": null,
      "outputs": []
    },
    {
      "cell_type": "code",
      "source": [
        "stmt = \"INSERT INTO test VALUES(?,?,?,?)\""
      ],
      "metadata": {
        "id": "BJ3BTlT955rP"
      },
      "execution_count": null,
      "outputs": []
    },
    {
      "cell_type": "code",
      "source": [
        "con.executemany(stmt, data)"
      ],
      "metadata": {
        "id": "aBI0YtL055un"
      },
      "execution_count": null,
      "outputs": []
    },
    {
      "cell_type": "code",
      "source": [
        "con.commit()"
      ],
      "metadata": {
        "id": "d2XucmBG55yb"
      },
      "execution_count": null,
      "outputs": []
    },
    {
      "cell_type": "code",
      "source": [
        "cursor = con.execute('select * from test')"
      ],
      "metadata": {
        "id": "bG_0QZjS552o"
      },
      "execution_count": null,
      "outputs": []
    },
    {
      "cell_type": "code",
      "source": [
        "rows = cursor.fetchall()\n",
        "rows"
      ],
      "metadata": {
        "id": "NtwI1sUf69q9"
      },
      "execution_count": null,
      "outputs": []
    },
    {
      "cell_type": "code",
      "source": [
        "cursor.description # 컬럼명 표시"
      ],
      "metadata": {
        "id": "FvxGKmWZ6-cq"
      },
      "execution_count": null,
      "outputs": []
    },
    {
      "cell_type": "code",
      "source": [
        "pd.DataFrame(rows, columns = [x[0] for x in cursor.description])"
      ],
      "metadata": {
        "id": "GlJNWPc66-fn"
      },
      "execution_count": null,
      "outputs": []
    },
    {
      "cell_type": "code",
      "source": [
        "import sqlalchemy as sqla"
      ],
      "metadata": {
        "id": "ZvgrlNNy6-jQ"
      },
      "execution_count": null,
      "outputs": []
    },
    {
      "cell_type": "code",
      "source": [
        "db = sqla.create_engine(\"sqlite:///mydata.sqlite\")"
      ],
      "metadata": {
        "id": "DsgPHW3K6-pi"
      },
      "execution_count": null,
      "outputs": []
    },
    {
      "cell_type": "code",
      "source": [
        "pd.read_sql('select * from test', db)"
      ],
      "metadata": {
        "id": "LgyHtrt06-uA"
      },
      "execution_count": null,
      "outputs": []
    }
  ]
}