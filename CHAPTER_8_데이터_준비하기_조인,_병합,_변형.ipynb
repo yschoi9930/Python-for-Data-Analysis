{
  "nbformat": 4,
  "nbformat_minor": 0,
  "metadata": {
    "colab": {
      "private_outputs": true,
      "provenance": [],
      "authorship_tag": "ABX9TyN4fraLusZ1BC+D7/H7NqMA",
      "include_colab_link": true
    },
    "kernelspec": {
      "name": "python3",
      "display_name": "Python 3"
    },
    "language_info": {
      "name": "python"
    }
  },
  "cells": [
    {
      "cell_type": "markdown",
      "metadata": {
        "id": "view-in-github",
        "colab_type": "text"
      },
      "source": [
        "<a href=\"https://colab.research.google.com/github/yschoi9930/Python-for-Data-Analysis/blob/main/CHAPTER_8_%EB%8D%B0%EC%9D%B4%ED%84%B0_%EC%A4%80%EB%B9%84%ED%95%98%EA%B8%B0_%EC%A1%B0%EC%9D%B8%2C_%EB%B3%91%ED%95%A9%2C_%EB%B3%80%ED%98%95.ipynb\" target=\"_parent\"><img src=\"https://colab.research.google.com/assets/colab-badge.svg\" alt=\"Open In Colab\"/></a>"
      ]
    },
    {
      "cell_type": "markdown",
      "source": [
        "# CHAPTER 8. 데이터 준비하기 : 조인, 병합, 변형"
      ],
      "metadata": {
        "id": "ttNivI1iukKa"
      }
    },
    {
      "cell_type": "markdown",
      "source": [
        "## 8.1 계층적 색인\n",
        "- 축에 대해 다중 색인 단계 지정 가능"
      ],
      "metadata": {
        "id": "VJ_S6gOquwpV"
      }
    },
    {
      "cell_type": "code",
      "source": [
        "import pandas as pd\n",
        "import numpy as np"
      ],
      "metadata": {
        "id": "kaUwt5C2vJN6"
      },
      "execution_count": null,
      "outputs": []
    },
    {
      "cell_type": "markdown",
      "source": [
        "- multiIndex를 색인으로 하는 Series"
      ],
      "metadata": {
        "id": "GCHSI153vqFq"
      }
    },
    {
      "cell_type": "code",
      "source": [
        "data = pd.Series(np.random.randn(9), index = [['a','a','a','b','b','c','c','d','d'],[1,2,3,1,3,1,2,2,3]])\n",
        "data"
      ],
      "metadata": {
        "id": "jQ2xc2iWuws1"
      },
      "execution_count": null,
      "outputs": []
    },
    {
      "cell_type": "code",
      "source": [
        "data.index"
      ],
      "metadata": {
        "id": "G4KNjV9uuwv8"
      },
      "execution_count": null,
      "outputs": []
    },
    {
      "cell_type": "markdown",
      "source": [
        "- 부분적 색인으로 접근"
      ],
      "metadata": {
        "id": "_daHi635wAPU"
      }
    },
    {
      "cell_type": "code",
      "source": [
        "data['b']"
      ],
      "metadata": {
        "id": "mzu1KIezuwzN"
      },
      "execution_count": null,
      "outputs": []
    },
    {
      "cell_type": "code",
      "source": [
        "data['b':'c']"
      ],
      "metadata": {
        "id": "dV_owS08uw5c"
      },
      "execution_count": null,
      "outputs": []
    },
    {
      "cell_type": "code",
      "source": [
        "data.loc[['b','d']]"
      ],
      "metadata": {
        "id": "1_qr3f5awJUc"
      },
      "execution_count": null,
      "outputs": []
    },
    {
      "cell_type": "code",
      "source": [
        "data.loc[:,2]"
      ],
      "metadata": {
        "id": "cgwGVMjquw89"
      },
      "execution_count": null,
      "outputs": []
    },
    {
      "cell_type": "markdown",
      "source": [
        "- 계층적인 색인은 데이터를 재형성하고 피벗테이블 생성 같은 그룹 기반의 작업을 할 때 중요하게 사용"
      ],
      "metadata": {
        "id": "Jev16hTuuxEf"
      }
    },
    {
      "cell_type": "code",
      "source": [
        "data"
      ],
      "metadata": {
        "id": "4bt9w71V69BM"
      },
      "execution_count": null,
      "outputs": []
    },
    {
      "cell_type": "code",
      "source": [
        "data.unstack()"
      ],
      "metadata": {
        "id": "Ld40aMLNuxH0"
      },
      "execution_count": null,
      "outputs": []
    },
    {
      "cell_type": "markdown",
      "source": [
        "- 데이터 프레임은 두 축 모두 계층적 색인을 가질 수 있음음"
      ],
      "metadata": {
        "id": "WGFa211w7iqw"
      }
    },
    {
      "cell_type": "code",
      "source": [
        "frame = pd.DataFrame(np.arange(12).reshape((4,3)), index= [['a','a','b','b'],[1,2,1,2]], columns=[['Ohio','Ohio','Colorado'],['Green','Red','Green']])\n",
        "frame"
      ],
      "metadata": {
        "id": "zvtmRjIYuxL0"
      },
      "execution_count": null,
      "outputs": []
    },
    {
      "cell_type": "markdown",
      "source": [
        "- 계층적 색인의 각 단계는 이름을 가질 수 있음"
      ],
      "metadata": {
        "id": "cFW2MF8y7yCi"
      }
    },
    {
      "cell_type": "code",
      "source": [
        "frame.index.names=['key1','key2']"
      ],
      "metadata": {
        "id": "LeL6TIbbuxPt"
      },
      "execution_count": null,
      "outputs": []
    },
    {
      "cell_type": "code",
      "source": [
        "frame.columns.names = ['state', 'color']"
      ],
      "metadata": {
        "id": "ZIFsXbVXuxTc"
      },
      "execution_count": null,
      "outputs": []
    },
    {
      "cell_type": "code",
      "source": [
        "frame"
      ],
      "metadata": {
        "id": "S0OV0FrxuxXb"
      },
      "execution_count": null,
      "outputs": []
    },
    {
      "cell_type": "code",
      "source": [
        "frame['Ohio']"
      ],
      "metadata": {
        "id": "CtyW773IuxbO"
      },
      "execution_count": null,
      "outputs": []
    },
    {
      "cell_type": "code",
      "source": [
        "MultiIndex.from_arrays([['Ohio','Ohio','Colorado'],['Green','Red','Green']], names=['state','color'])"
      ],
      "metadata": {
        "id": "ZuKKEfWhuxfM"
      },
      "execution_count": null,
      "outputs": []
    },
    {
      "cell_type": "markdown",
      "source": [
        "### 계층의 순서를 바꾸고 정렬하기\n",
        "- swaplevel은 넘겨받은 두 개의 계층 번호나 이름이 뒤바뀐 새로운 객체를 반환함\n",
        "- sort_index 메서드는 단일 계층에 속한 데이터를 정렬한다"
      ],
      "metadata": {
        "id": "8n4QHGp48QcZ"
      }
    },
    {
      "cell_type": "code",
      "source": [
        "frame.swaplevel('key1','key2')"
      ],
      "metadata": {
        "id": "E1UXilUL8Qf4"
      },
      "execution_count": null,
      "outputs": []
    },
    {
      "cell_type": "code",
      "source": [
        "frame"
      ],
      "metadata": {
        "id": "_k8881PI9FEI"
      },
      "execution_count": null,
      "outputs": []
    },
    {
      "cell_type": "code",
      "source": [
        "frame.sort_index(level=0)"
      ],
      "metadata": {
        "id": "-10OH4iK9PKp"
      },
      "execution_count": null,
      "outputs": []
    },
    {
      "cell_type": "code",
      "source": [
        "frame.sort_index(level=1)"
      ],
      "metadata": {
        "id": "H3bG1igk8Qjh"
      },
      "execution_count": null,
      "outputs": []
    },
    {
      "cell_type": "code",
      "source": [
        "frame.swaplevel(0,1)"
      ],
      "metadata": {
        "id": "yGtDQFj48Qm4"
      },
      "execution_count": null,
      "outputs": []
    },
    {
      "cell_type": "code",
      "source": [
        "# level= 0 -> key2 기준으로 정렬\n",
        "frame.swaplevel(0,1).sort_index(level = 0)"
      ],
      "metadata": {
        "id": "MjPjCUYl8QqY"
      },
      "execution_count": null,
      "outputs": []
    },
    {
      "cell_type": "code",
      "source": [
        "# level= 0 -> key1 기준으로 정렬\n",
        "frame.swaplevel(0,1).sort_index(level = 1)"
      ],
      "metadata": {
        "id": "gXSXUI3v8Qtw"
      },
      "execution_count": null,
      "outputs": []
    },
    {
      "cell_type": "markdown",
      "source": [
        "### 8.1.2 계층별 요약 통계계"
      ],
      "metadata": {
        "id": "ZWiMfYY58QxD"
      }
    },
    {
      "cell_type": "code",
      "source": [
        "frame.sum(level='key2')"
      ],
      "metadata": {
        "id": "WKHJl16K8Q0p"
      },
      "execution_count": null,
      "outputs": []
    },
    {
      "cell_type": "code",
      "source": [
        "frame.sum(level='color', axis=1)"
      ],
      "metadata": {
        "id": "NdAGwyD88Q7R"
      },
      "execution_count": null,
      "outputs": []
    },
    {
      "cell_type": "markdown",
      "source": [
        "### 8.1.3 DataFrame 컬럼 사용하기"
      ],
      "metadata": {
        "id": "PQ32soOGuxi-"
      }
    },
    {
      "cell_type": "code",
      "source": [
        "frame = pd.DataFrame({'a':range(7), 'b' :range(7,0,-1), 'c' :['one','one','one','two','two','two', 'two'], 'd':[0,1,2,0,1,2,3]})\n",
        "frame"
      ],
      "metadata": {
        "id": "5BnU07hHuxm0"
      },
      "execution_count": null,
      "outputs": []
    },
    {
      "cell_type": "markdown",
      "source": [
        "- set_index : 하나 이상의 컬럼을 색인으로 하는 데이터프레임 생성"
      ],
      "metadata": {
        "id": "LzLb-Rr_TYWX"
      }
    },
    {
      "cell_type": "code",
      "source": [
        "frame.set_index(['c','d'])"
      ],
      "metadata": {
        "id": "Lg83GvxkTJsM"
      },
      "execution_count": null,
      "outputs": []
    },
    {
      "cell_type": "code",
      "source": [
        "frame.set_index(['c','d'], drop =False)"
      ],
      "metadata": {
        "id": "nAbFIMSoTJvD"
      },
      "execution_count": null,
      "outputs": []
    },
    {
      "cell_type": "code",
      "source": [
        "frame2 = frame.set_index(['c','d'])"
      ],
      "metadata": {
        "id": "CcuSZtB1TJyd"
      },
      "execution_count": null,
      "outputs": []
    },
    {
      "cell_type": "markdown",
      "source": [
        "- reset_indext : 계층적 색인 단계가 컬럼으로 이동"
      ],
      "metadata": {
        "id": "0A4snYKUTiNt"
      }
    },
    {
      "cell_type": "code",
      "source": [
        "frame2.reset_index()"
      ],
      "metadata": {
        "id": "8r069Wi_TJ1U"
      },
      "execution_count": null,
      "outputs": []
    },
    {
      "cell_type": "markdown",
      "source": [
        "## 8.2 데이터 합치기\n",
        "- pd.merge : 하나 이상의 키를 기준으로 DataFrame의 로우를 합친다.\n",
        "- pd.concat : 하나의 축을 따라 객체를 이어붙인다\n",
        "- combile_first : 인스턴스 메서드는 두 객체를 포개서 한 객체에서 누락된 데이터를 다른 객체에 있는 값으로 채운다."
      ],
      "metadata": {
        "id": "mRQfXZmdTJ4c"
      }
    },
    {
      "cell_type": "markdown",
      "source": [
        "### 8.2.1 데이터 베이스 스타일로 DataFrame 합치기\n",
        "- merge, join"
      ],
      "metadata": {
        "id": "K4kCu3T4TJ7U"
      }
    },
    {
      "cell_type": "code",
      "source": [
        "df1 = pd.DataFrame({'key':['b','b','a','c','a','a','b'], 'data1' : range(7)})\n",
        "df2 = pd.DataFrame({'key':['a','b','d'], 'data2':range(3)})"
      ],
      "metadata": {
        "id": "YdnfLr_8TJ-M"
      },
      "execution_count": null,
      "outputs": []
    },
    {
      "cell_type": "code",
      "source": [
        "df1"
      ],
      "metadata": {
        "id": "ySM4FrCkTKA7"
      },
      "execution_count": null,
      "outputs": []
    },
    {
      "cell_type": "code",
      "source": [
        "df2"
      ],
      "metadata": {
        "id": "qqfQqbl1TKDz"
      },
      "execution_count": null,
      "outputs": []
    },
    {
      "cell_type": "code",
      "source": [
        "pd.merge(df1,df2)"
      ],
      "metadata": {
        "id": "h8NtvKe8TKGU"
      },
      "execution_count": null,
      "outputs": []
    },
    {
      "cell_type": "markdown",
      "source": [
        "- 어떤 컬럼을 병합할 것인지 명시하는 것이 좋음"
      ],
      "metadata": {
        "id": "WcKKX6WpTKJb"
      }
    },
    {
      "cell_type": "code",
      "source": [
        "pd.merge(df1,df2, on = 'key')"
      ],
      "metadata": {
        "id": "rMBE8fYgTKMj"
      },
      "execution_count": null,
      "outputs": []
    },
    {
      "cell_type": "code",
      "source": [
        "df3 = pd.DataFrame({'lkey':['b','b','a','c','a','a','b'], 'data1' : range(7)})\n",
        "df4 = pd.DataFrame({'rkey':['a','b','b'],'data2' : range(3)})"
      ],
      "metadata": {
        "id": "s7xLLiHlTKO2"
      },
      "execution_count": null,
      "outputs": []
    },
    {
      "cell_type": "code",
      "source": [
        "df3"
      ],
      "metadata": {
        "id": "-SjhowZjTKRU"
      },
      "execution_count": null,
      "outputs": []
    },
    {
      "cell_type": "code",
      "source": [
        "df4"
      ],
      "metadata": {
        "id": "XcYdVp_PTKUP"
      },
      "execution_count": null,
      "outputs": []
    },
    {
      "cell_type": "markdown",
      "source": [
        "- 기준열 이름이 같을 때\n",
        "pd.merge(left, right, on = '기준열', how = '조인방식')\n",
        "\n",
        "- 기준열 이름이 다를 때\n",
        "pd.merge(left, right, left_on = '왼쪽 열', right_on = '오른쪽 열', how = '조인방식')"
      ],
      "metadata": {
        "id": "QfH5oIvWX8U_"
      }
    },
    {
      "cell_type": "code",
      "source": [
        "pd.merge(df3,df4, left_on = 'lkey', right_on ='rkey', how= 'outer')"
      ],
      "metadata": {
        "id": "olmXPzlfTKXV"
      },
      "execution_count": null,
      "outputs": []
    },
    {
      "cell_type": "markdown",
      "source": [
        "- 여러 개의 키를 넘길 때"
      ],
      "metadata": {
        "id": "dxgzs-IQTKZ5"
      }
    },
    {
      "cell_type": "code",
      "source": [
        "left = pd.DataFrame({\"key1\": [\"foo\", \"foo\", \"bar\"],\n",
        "                     \"key2\": [\"one\", \"two\", \"one\"],\n",
        "                     \"lval\": pd.Series([1, 2, 3], dtype='Int64')})\n",
        "right = pd.DataFrame({\"key1\": [\"foo\", \"foo\", \"bar\", \"bar\"],\n",
        "                      \"key2\": [\"one\", \"one\", \"one\", \"two\"],\n",
        "                      \"rval\": pd.Series([4, 5, 6, 7], dtype='Int64')})"
      ],
      "metadata": {
        "id": "j36mBW9sTKcr"
      },
      "execution_count": null,
      "outputs": []
    },
    {
      "cell_type": "code",
      "source": [
        "left"
      ],
      "metadata": {
        "id": "eCQ9ueQITKfb"
      },
      "execution_count": null,
      "outputs": []
    },
    {
      "cell_type": "code",
      "source": [
        "right"
      ],
      "metadata": {
        "id": "E96PWq9GTKld"
      },
      "execution_count": null,
      "outputs": []
    },
    {
      "cell_type": "code",
      "source": [
        "pd.merge(left, right, on = ['key1','key2'], how = 'outer')"
      ],
      "metadata": {
        "id": "silWfvuFYvKp"
      },
      "execution_count": null,
      "outputs": []
    },
    {
      "cell_type": "code",
      "source": [
        "# 자동으로 공통 컬럼 찾아서 inner 조인해줌\n",
        "pd.merge(left, right)"
      ],
      "metadata": {
        "id": "0uN7Y0NLYvNx"
      },
      "execution_count": null,
      "outputs": []
    },
    {
      "cell_type": "code",
      "source": [
        "# 자동으로 공통 컬럼인데 on에 안들어가면 이름 뒤에 붙여 구분해줌줌\n",
        "pd.merge(left, right, on = 'key1')"
      ],
      "metadata": {
        "id": "k9BKDGJOYvTw"
      },
      "execution_count": null,
      "outputs": []
    },
    {
      "cell_type": "code",
      "source": [
        "# 구분해주는 컬럼명을 지정하고 싶을 때\n",
        "pd.merge(left, right, on = 'key1', suffixes = ('_left','_right'))"
      ],
      "metadata": {
        "id": "757FWdNJYvQp"
      },
      "execution_count": null,
      "outputs": []
    },
    {
      "cell_type": "markdown",
      "source": [
        "### 8.2.2 색인 병합하기"
      ],
      "metadata": {
        "id": "g2LJYG_bYvW5"
      }
    },
    {
      "cell_type": "code",
      "source": [
        "left1 = pd.DataFrame({\"key\": [\"a\", \"b\", \"a\", \"a\", \"b\", \"c\"],\n",
        "                      \"value\": pd.Series(range(6), dtype=\"Int64\")})\n",
        "right1 = pd.DataFrame({\"group_val\": [3.5, 7]}, index=[\"a\", \"b\"])"
      ],
      "metadata": {
        "id": "QY-BWcncYvZw"
      },
      "execution_count": null,
      "outputs": []
    },
    {
      "cell_type": "code",
      "source": [
        "left1"
      ],
      "metadata": {
        "id": "IcShD2_1Yvc4"
      },
      "execution_count": null,
      "outputs": []
    },
    {
      "cell_type": "code",
      "source": [
        "right1"
      ],
      "metadata": {
        "id": "dxKRwfJWYvfb"
      },
      "execution_count": null,
      "outputs": []
    },
    {
      "cell_type": "markdown",
      "source": [
        "- 병합하려는 키가 한 테이블의 색인일 경우 : letf_index, right_index"
      ],
      "metadata": {
        "id": "ImVbfZHgaIuw"
      }
    },
    {
      "cell_type": "code",
      "source": [
        "pd.merge(left1, right1, left_on = 'key', right_index = True)"
      ],
      "metadata": {
        "id": "1wB0PTXwYvil"
      },
      "execution_count": null,
      "outputs": []
    },
    {
      "cell_type": "code",
      "source": [
        "pd.merge(left1, right1, left_on = 'key', right_index = True, how = 'outer')"
      ],
      "metadata": {
        "id": "f31sco83Yvl3"
      },
      "execution_count": null,
      "outputs": []
    },
    {
      "cell_type": "code",
      "source": [
        "lefth = pd.DataFrame({'data': [0,1,2,3,4], 'key1':['Ohio','Ohio','Ohio','Nevada','Nevada'], 'key2' : [2000,2001,2002,2001,2002]})"
      ],
      "metadata": {
        "id": "forRigHyaRxo"
      },
      "execution_count": null,
      "outputs": []
    },
    {
      "cell_type": "code",
      "source": [
        "lefth"
      ],
      "metadata": {
        "id": "9-iRRN2AaR0H"
      },
      "execution_count": null,
      "outputs": []
    },
    {
      "cell_type": "code",
      "source": [
        "righth = pd.DataFrame(np.arange(12).reshape((6,2)), columns = ['event1','event2'], index = [['Nevada','Nevada','Ohio','Ohio','Ohio','Ohio'],[2001,2000,2000,2000,2001,2002]])"
      ],
      "metadata": {
        "id": "7UILRI19aR3P"
      },
      "execution_count": null,
      "outputs": []
    },
    {
      "cell_type": "code",
      "source": [
        "righth "
      ],
      "metadata": {
        "id": "_WicLe0LaR6H"
      },
      "execution_count": null,
      "outputs": []
    },
    {
      "cell_type": "code",
      "source": [],
      "metadata": {
        "id": "2tXN_MNkaR9P"
      },
      "execution_count": null,
      "outputs": []
    },
    {
      "cell_type": "code",
      "source": [],
      "metadata": {
        "id": "y6BHBGCKaSAA"
      },
      "execution_count": null,
      "outputs": []
    },
    {
      "cell_type": "code",
      "source": [],
      "metadata": {
        "id": "q5m2HY1jaSC4"
      },
      "execution_count": null,
      "outputs": []
    },
    {
      "cell_type": "code",
      "source": [],
      "metadata": {
        "id": "NTTJXzMoaSFv"
      },
      "execution_count": null,
      "outputs": []
    },
    {
      "cell_type": "code",
      "source": [],
      "metadata": {
        "id": "u485f8-EaSIh"
      },
      "execution_count": null,
      "outputs": []
    },
    {
      "cell_type": "code",
      "source": [],
      "metadata": {
        "id": "hb-JyLeyaSLZ"
      },
      "execution_count": null,
      "outputs": []
    },
    {
      "cell_type": "code",
      "source": [],
      "metadata": {
        "id": "Ysp2Nxs5aSN7"
      },
      "execution_count": null,
      "outputs": []
    },
    {
      "cell_type": "code",
      "source": [],
      "metadata": {
        "id": "C_vwZLgXaSQz"
      },
      "execution_count": null,
      "outputs": []
    },
    {
      "cell_type": "code",
      "source": [],
      "metadata": {
        "id": "6JaB6x7EaSTf"
      },
      "execution_count": null,
      "outputs": []
    },
    {
      "cell_type": "code",
      "source": [],
      "metadata": {
        "id": "86Na7QxuaSWa"
      },
      "execution_count": null,
      "outputs": []
    },
    {
      "cell_type": "code",
      "source": [],
      "metadata": {
        "id": "xSdMnJ3RaSZS"
      },
      "execution_count": null,
      "outputs": []
    },
    {
      "cell_type": "code",
      "source": [],
      "metadata": {
        "id": "duW1GvqwaSbw"
      },
      "execution_count": null,
      "outputs": []
    },
    {
      "cell_type": "code",
      "source": [],
      "metadata": {
        "id": "iZh4Ff9qaSeo"
      },
      "execution_count": null,
      "outputs": []
    },
    {
      "cell_type": "code",
      "source": [],
      "metadata": {
        "id": "vRiadN50aShN"
      },
      "execution_count": null,
      "outputs": []
    },
    {
      "cell_type": "code",
      "source": [],
      "metadata": {
        "id": "1qKF3E-saSjn"
      },
      "execution_count": null,
      "outputs": []
    },
    {
      "cell_type": "code",
      "source": [],
      "metadata": {
        "id": "1IOMVbSTaSmz"
      },
      "execution_count": null,
      "outputs": []
    },
    {
      "cell_type": "code",
      "source": [],
      "metadata": {
        "id": "UOiOVBtmaSpn"
      },
      "execution_count": null,
      "outputs": []
    }
  ]
}