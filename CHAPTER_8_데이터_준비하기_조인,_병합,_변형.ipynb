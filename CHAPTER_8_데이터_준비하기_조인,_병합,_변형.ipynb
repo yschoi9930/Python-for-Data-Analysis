{
  "nbformat": 4,
  "nbformat_minor": 0,
  "metadata": {
    "colab": {
      "private_outputs": true,
      "provenance": [],
      "mount_file_id": "1Uz71ORczB4szjrc06_vWKJztCcBIGkLb",
      "authorship_tag": "ABX9TyMrRt+TtL8D/l+mmeUl8dKr",
      "include_colab_link": true
    },
    "kernelspec": {
      "name": "python3",
      "display_name": "Python 3"
    },
    "language_info": {
      "name": "python"
    }
  },
  "cells": [
    {
      "cell_type": "markdown",
      "metadata": {
        "id": "view-in-github",
        "colab_type": "text"
      },
      "source": [
        "<a href=\"https://colab.research.google.com/github/yschoi9930/Python-for-Data-Analysis/blob/main/CHAPTER_8_%EB%8D%B0%EC%9D%B4%ED%84%B0_%EC%A4%80%EB%B9%84%ED%95%98%EA%B8%B0_%EC%A1%B0%EC%9D%B8%2C_%EB%B3%91%ED%95%A9%2C_%EB%B3%80%ED%98%95.ipynb\" target=\"_parent\"><img src=\"https://colab.research.google.com/assets/colab-badge.svg\" alt=\"Open In Colab\"/></a>"
      ]
    },
    {
      "cell_type": "markdown",
      "source": [
        "# CHAPTER 8. 데이터 준비하기 : 조인, 병합, 변형"
      ],
      "metadata": {
        "id": "ttNivI1iukKa"
      }
    },
    {
      "cell_type": "markdown",
      "source": [
        "## 8.1 계층적 색인\n",
        "- 축에 대해 다중 색인 단계 지정 가능"
      ],
      "metadata": {
        "id": "VJ_S6gOquwpV"
      }
    },
    {
      "cell_type": "code",
      "source": [
        "import pandas as pd\n",
        "import numpy as np"
      ],
      "metadata": {
        "id": "kaUwt5C2vJN6"
      },
      "execution_count": null,
      "outputs": []
    },
    {
      "cell_type": "markdown",
      "source": [
        "- multiIndex를 색인으로 하는 Series"
      ],
      "metadata": {
        "id": "GCHSI153vqFq"
      }
    },
    {
      "cell_type": "code",
      "source": [
        "data = pd.Series(np.random.randn(9), index = [['a','a','a','b','b','c','c','d','d'],[1,2,3,1,3,1,2,2,3]])\n",
        "data"
      ],
      "metadata": {
        "id": "jQ2xc2iWuws1"
      },
      "execution_count": null,
      "outputs": []
    },
    {
      "cell_type": "code",
      "source": [
        "data.index"
      ],
      "metadata": {
        "id": "G4KNjV9uuwv8"
      },
      "execution_count": null,
      "outputs": []
    },
    {
      "cell_type": "markdown",
      "source": [
        "- 부분적 색인으로 접근"
      ],
      "metadata": {
        "id": "_daHi635wAPU"
      }
    },
    {
      "cell_type": "code",
      "source": [
        "data['b']"
      ],
      "metadata": {
        "id": "mzu1KIezuwzN"
      },
      "execution_count": null,
      "outputs": []
    },
    {
      "cell_type": "code",
      "source": [
        "data['b':'c']"
      ],
      "metadata": {
        "id": "dV_owS08uw5c"
      },
      "execution_count": null,
      "outputs": []
    },
    {
      "cell_type": "code",
      "source": [
        "data.loc[['b','d']]"
      ],
      "metadata": {
        "id": "1_qr3f5awJUc"
      },
      "execution_count": null,
      "outputs": []
    },
    {
      "cell_type": "code",
      "source": [
        "data.loc[:,2]"
      ],
      "metadata": {
        "id": "cgwGVMjquw89"
      },
      "execution_count": null,
      "outputs": []
    },
    {
      "cell_type": "markdown",
      "source": [
        "- 계층적인 색인은 데이터를 재형성하고 피벗테이블 생성 같은 그룹 기반의 작업을 할 때 중요하게 사용"
      ],
      "metadata": {
        "id": "Jev16hTuuxEf"
      }
    },
    {
      "cell_type": "code",
      "source": [
        "data"
      ],
      "metadata": {
        "id": "4bt9w71V69BM"
      },
      "execution_count": null,
      "outputs": []
    },
    {
      "cell_type": "code",
      "source": [
        "data.unstack()"
      ],
      "metadata": {
        "id": "Ld40aMLNuxH0"
      },
      "execution_count": null,
      "outputs": []
    },
    {
      "cell_type": "markdown",
      "source": [
        "- 데이터 프레임은 두 축 모두 계층적 색인을 가질 수 있음음"
      ],
      "metadata": {
        "id": "WGFa211w7iqw"
      }
    },
    {
      "cell_type": "code",
      "source": [
        "frame = pd.DataFrame(np.arange(12).reshape((4,3)), index= [['a','a','b','b'],[1,2,1,2]], columns=[['Ohio','Ohio','Colorado'],['Green','Red','Green']])\n",
        "frame"
      ],
      "metadata": {
        "id": "zvtmRjIYuxL0"
      },
      "execution_count": null,
      "outputs": []
    },
    {
      "cell_type": "markdown",
      "source": [
        "- 계층적 색인의 각 단계는 이름을 가질 수 있음"
      ],
      "metadata": {
        "id": "cFW2MF8y7yCi"
      }
    },
    {
      "cell_type": "code",
      "source": [
        "frame.index.names=['key1','key2']"
      ],
      "metadata": {
        "id": "LeL6TIbbuxPt"
      },
      "execution_count": null,
      "outputs": []
    },
    {
      "cell_type": "code",
      "source": [
        "frame.columns.names = ['state', 'color']"
      ],
      "metadata": {
        "id": "ZIFsXbVXuxTc"
      },
      "execution_count": null,
      "outputs": []
    },
    {
      "cell_type": "code",
      "source": [
        "frame"
      ],
      "metadata": {
        "id": "S0OV0FrxuxXb"
      },
      "execution_count": null,
      "outputs": []
    },
    {
      "cell_type": "code",
      "source": [
        "frame['Ohio']"
      ],
      "metadata": {
        "id": "CtyW773IuxbO"
      },
      "execution_count": null,
      "outputs": []
    },
    {
      "cell_type": "code",
      "source": [
        "MultiIndex.from_arrays([['Ohio','Ohio','Colorado'],['Green','Red','Green']], names=['state','color'])"
      ],
      "metadata": {
        "id": "ZuKKEfWhuxfM"
      },
      "execution_count": null,
      "outputs": []
    },
    {
      "cell_type": "markdown",
      "source": [
        "### 계층의 순서를 바꾸고 정렬하기\n",
        "- swaplevel은 넘겨받은 두 개의 계층 번호나 이름이 뒤바뀐 새로운 객체를 반환함\n",
        "- sort_index 메서드는 단일 계층에 속한 데이터를 정렬한다"
      ],
      "metadata": {
        "id": "8n4QHGp48QcZ"
      }
    },
    {
      "cell_type": "code",
      "source": [
        "frame.swaplevel('key1','key2')"
      ],
      "metadata": {
        "id": "E1UXilUL8Qf4"
      },
      "execution_count": null,
      "outputs": []
    },
    {
      "cell_type": "code",
      "source": [
        "frame"
      ],
      "metadata": {
        "id": "_k8881PI9FEI"
      },
      "execution_count": null,
      "outputs": []
    },
    {
      "cell_type": "code",
      "source": [
        "frame.sort_index(level=0)"
      ],
      "metadata": {
        "id": "-10OH4iK9PKp"
      },
      "execution_count": null,
      "outputs": []
    },
    {
      "cell_type": "code",
      "source": [
        "frame.sort_index(level=1)"
      ],
      "metadata": {
        "id": "H3bG1igk8Qjh"
      },
      "execution_count": null,
      "outputs": []
    },
    {
      "cell_type": "code",
      "source": [
        "frame.swaplevel(0,1)"
      ],
      "metadata": {
        "id": "yGtDQFj48Qm4"
      },
      "execution_count": null,
      "outputs": []
    },
    {
      "cell_type": "code",
      "source": [
        "# level= 0 -> key2 기준으로 정렬\n",
        "frame.swaplevel(0,1).sort_index(level = 0)"
      ],
      "metadata": {
        "id": "MjPjCUYl8QqY"
      },
      "execution_count": null,
      "outputs": []
    },
    {
      "cell_type": "code",
      "source": [
        "# level= 0 -> key1 기준으로 정렬\n",
        "frame.swaplevel(0,1).sort_index(level = 1)"
      ],
      "metadata": {
        "id": "gXSXUI3v8Qtw"
      },
      "execution_count": null,
      "outputs": []
    },
    {
      "cell_type": "markdown",
      "source": [
        "### 8.1.2 계층별 요약 통계계"
      ],
      "metadata": {
        "id": "ZWiMfYY58QxD"
      }
    },
    {
      "cell_type": "code",
      "source": [
        "frame.sum(level='key2')"
      ],
      "metadata": {
        "id": "WKHJl16K8Q0p"
      },
      "execution_count": null,
      "outputs": []
    },
    {
      "cell_type": "code",
      "source": [
        "frame.sum(level='color', axis=1)"
      ],
      "metadata": {
        "id": "NdAGwyD88Q7R"
      },
      "execution_count": null,
      "outputs": []
    },
    {
      "cell_type": "markdown",
      "source": [
        "### 8.1.3 DataFrame 컬럼 사용하기"
      ],
      "metadata": {
        "id": "PQ32soOGuxi-"
      }
    },
    {
      "cell_type": "code",
      "source": [
        "frame = pd.DataFrame({'a':range(7), 'b' :range(7,0,-1), 'c' :['one','one','one','two','two','two', 'two'], 'd':[0,1,2,0,1,2,3]})\n",
        "frame"
      ],
      "metadata": {
        "id": "5BnU07hHuxm0"
      },
      "execution_count": null,
      "outputs": []
    },
    {
      "cell_type": "markdown",
      "source": [
        "- set_index : 하나 이상의 컬럼을 색인으로 하는 데이터프레임 생성"
      ],
      "metadata": {
        "id": "LzLb-Rr_TYWX"
      }
    },
    {
      "cell_type": "code",
      "source": [
        "frame.set_index(['c','d'])"
      ],
      "metadata": {
        "id": "Lg83GvxkTJsM"
      },
      "execution_count": null,
      "outputs": []
    },
    {
      "cell_type": "code",
      "source": [
        "frame.set_index(['c','d'], drop =False)"
      ],
      "metadata": {
        "id": "nAbFIMSoTJvD"
      },
      "execution_count": null,
      "outputs": []
    },
    {
      "cell_type": "code",
      "source": [
        "frame2 = frame.set_index(['c','d'])"
      ],
      "metadata": {
        "id": "CcuSZtB1TJyd"
      },
      "execution_count": null,
      "outputs": []
    },
    {
      "cell_type": "markdown",
      "source": [
        "- reset_indext : 계층적 색인 단계가 컬럼으로 이동"
      ],
      "metadata": {
        "id": "0A4snYKUTiNt"
      }
    },
    {
      "cell_type": "code",
      "source": [
        "frame2.reset_index()"
      ],
      "metadata": {
        "id": "8r069Wi_TJ1U"
      },
      "execution_count": null,
      "outputs": []
    },
    {
      "cell_type": "markdown",
      "source": [
        "## 8.2 데이터 합치기\n",
        "- pd.merge : 하나 이상의 키를 기준으로 DataFrame의 로우를 합친다.\n",
        "- pd.concat : 하나의 축을 따라 객체를 이어붙인다\n",
        "- combile_first : 인스턴스 메서드는 두 객체를 포개서 한 객체에서 누락된 데이터를 다른 객체에 있는 값으로 채운다."
      ],
      "metadata": {
        "id": "mRQfXZmdTJ4c"
      }
    },
    {
      "cell_type": "markdown",
      "source": [
        "### 8.2.1 데이터 베이스 스타일로 DataFrame 합치기\n",
        "- merge, join"
      ],
      "metadata": {
        "id": "K4kCu3T4TJ7U"
      }
    },
    {
      "cell_type": "code",
      "source": [
        "df1 = pd.DataFrame({'key':['b','b','a','c','a','a','b'], 'data1' : range(7)})\n",
        "df2 = pd.DataFrame({'key':['a','b','d'], 'data2':range(3)})"
      ],
      "metadata": {
        "id": "YdnfLr_8TJ-M"
      },
      "execution_count": null,
      "outputs": []
    },
    {
      "cell_type": "code",
      "source": [
        "df1"
      ],
      "metadata": {
        "id": "ySM4FrCkTKA7"
      },
      "execution_count": null,
      "outputs": []
    },
    {
      "cell_type": "code",
      "source": [
        "df2"
      ],
      "metadata": {
        "id": "qqfQqbl1TKDz"
      },
      "execution_count": null,
      "outputs": []
    },
    {
      "cell_type": "code",
      "source": [
        "pd.merge(df1,df2)"
      ],
      "metadata": {
        "id": "h8NtvKe8TKGU"
      },
      "execution_count": null,
      "outputs": []
    },
    {
      "cell_type": "markdown",
      "source": [
        "- 어떤 컬럼을 병합할 것인지 명시하는 것이 좋음"
      ],
      "metadata": {
        "id": "WcKKX6WpTKJb"
      }
    },
    {
      "cell_type": "code",
      "source": [
        "pd.merge(df1,df2, on = 'key')"
      ],
      "metadata": {
        "id": "rMBE8fYgTKMj"
      },
      "execution_count": null,
      "outputs": []
    },
    {
      "cell_type": "code",
      "source": [
        "df3 = pd.DataFrame({'lkey':['b','b','a','c','a','a','b'], 'data1' : range(7)})\n",
        "df4 = pd.DataFrame({'rkey':['a','b','b'],'data2' : range(3)})"
      ],
      "metadata": {
        "id": "s7xLLiHlTKO2"
      },
      "execution_count": null,
      "outputs": []
    },
    {
      "cell_type": "code",
      "source": [
        "df3"
      ],
      "metadata": {
        "id": "-SjhowZjTKRU"
      },
      "execution_count": null,
      "outputs": []
    },
    {
      "cell_type": "code",
      "source": [
        "df4"
      ],
      "metadata": {
        "id": "XcYdVp_PTKUP"
      },
      "execution_count": null,
      "outputs": []
    },
    {
      "cell_type": "markdown",
      "source": [
        "- 기준열 이름이 같을 때\n",
        "pd.merge(left, right, on = '기준열', how = '조인방식')\n",
        "\n",
        "- 기준열 이름이 다를 때\n",
        "pd.merge(left, right, left_on = '왼쪽 열', right_on = '오른쪽 열', how = '조인방식')"
      ],
      "metadata": {
        "id": "QfH5oIvWX8U_"
      }
    },
    {
      "cell_type": "code",
      "source": [
        "pd.merge(df3,df4, left_on = 'lkey', right_on ='rkey', how= 'outer')"
      ],
      "metadata": {
        "id": "olmXPzlfTKXV"
      },
      "execution_count": null,
      "outputs": []
    },
    {
      "cell_type": "markdown",
      "source": [
        "- 여러 개의 키를 넘길 때"
      ],
      "metadata": {
        "id": "dxgzs-IQTKZ5"
      }
    },
    {
      "cell_type": "code",
      "source": [
        "left = pd.DataFrame({\"key1\": [\"foo\", \"foo\", \"bar\"],\n",
        "                     \"key2\": [\"one\", \"two\", \"one\"],\n",
        "                     \"lval\": pd.Series([1, 2, 3], dtype='Int64')})\n",
        "right = pd.DataFrame({\"key1\": [\"foo\", \"foo\", \"bar\", \"bar\"],\n",
        "                      \"key2\": [\"one\", \"one\", \"one\", \"two\"],\n",
        "                      \"rval\": pd.Series([4, 5, 6, 7], dtype='Int64')})"
      ],
      "metadata": {
        "id": "j36mBW9sTKcr"
      },
      "execution_count": null,
      "outputs": []
    },
    {
      "cell_type": "code",
      "source": [
        "left"
      ],
      "metadata": {
        "id": "eCQ9ueQITKfb"
      },
      "execution_count": null,
      "outputs": []
    },
    {
      "cell_type": "code",
      "source": [
        "right"
      ],
      "metadata": {
        "id": "E96PWq9GTKld"
      },
      "execution_count": null,
      "outputs": []
    },
    {
      "cell_type": "code",
      "source": [
        "pd.merge(left, right, on = ['key1','key2'], how = 'outer')"
      ],
      "metadata": {
        "id": "silWfvuFYvKp"
      },
      "execution_count": null,
      "outputs": []
    },
    {
      "cell_type": "code",
      "source": [
        "# 자동으로 공통 컬럼 찾아서 inner 조인해줌\n",
        "pd.merge(left, right)"
      ],
      "metadata": {
        "id": "0uN7Y0NLYvNx"
      },
      "execution_count": null,
      "outputs": []
    },
    {
      "cell_type": "code",
      "source": [
        "# 자동으로 공통 컬럼인데 on에 안들어가면 이름 뒤에 붙여 구분해줌줌\n",
        "pd.merge(left, right, on = 'key1')"
      ],
      "metadata": {
        "id": "k9BKDGJOYvTw"
      },
      "execution_count": null,
      "outputs": []
    },
    {
      "cell_type": "code",
      "source": [
        "# 구분해주는 컬럼명을 지정하고 싶을 때\n",
        "pd.merge(left, right, on = 'key1', suffixes = ('_left','_right'))"
      ],
      "metadata": {
        "id": "757FWdNJYvQp"
      },
      "execution_count": null,
      "outputs": []
    },
    {
      "cell_type": "markdown",
      "source": [
        "### 8.2.2 색인 병합하기"
      ],
      "metadata": {
        "id": "g2LJYG_bYvW5"
      }
    },
    {
      "cell_type": "code",
      "source": [
        "left1 = pd.DataFrame({\"key\": [\"a\", \"b\", \"a\", \"a\", \"b\", \"c\"],\n",
        "                      \"value\": pd.Series(range(6), dtype=\"Int64\")})\n",
        "right1 = pd.DataFrame({\"group_val\": [3.5, 7]}, index=[\"a\", \"b\"])"
      ],
      "metadata": {
        "id": "QY-BWcncYvZw"
      },
      "execution_count": null,
      "outputs": []
    },
    {
      "cell_type": "code",
      "source": [
        "left1"
      ],
      "metadata": {
        "id": "IcShD2_1Yvc4"
      },
      "execution_count": null,
      "outputs": []
    },
    {
      "cell_type": "code",
      "source": [
        "right1"
      ],
      "metadata": {
        "id": "dxKRwfJWYvfb"
      },
      "execution_count": null,
      "outputs": []
    },
    {
      "cell_type": "markdown",
      "source": [
        "- 병합하려는 키가 한 테이블의 색인일 경우 : letf_index, right_index"
      ],
      "metadata": {
        "id": "ImVbfZHgaIuw"
      }
    },
    {
      "cell_type": "code",
      "source": [
        "pd.merge(left1, right1, left_on = 'key', right_index = True)"
      ],
      "metadata": {
        "id": "1wB0PTXwYvil"
      },
      "execution_count": null,
      "outputs": []
    },
    {
      "cell_type": "code",
      "source": [
        "pd.merge(left1, right1, left_on = 'key', right_index = True, how = 'outer')"
      ],
      "metadata": {
        "id": "f31sco83Yvl3"
      },
      "execution_count": null,
      "outputs": []
    },
    {
      "cell_type": "code",
      "source": [
        "lefth = pd.DataFrame({'data': [0,1,2,3,4], 'key1':['Ohio','Ohio','Ohio','Nevada','Nevada'], 'key2' : [2000,2001,2002,2001,2002]})"
      ],
      "metadata": {
        "id": "forRigHyaRxo"
      },
      "execution_count": null,
      "outputs": []
    },
    {
      "cell_type": "code",
      "source": [
        "lefth"
      ],
      "metadata": {
        "id": "9-iRRN2AaR0H"
      },
      "execution_count": null,
      "outputs": []
    },
    {
      "cell_type": "code",
      "source": [
        "righth = pd.DataFrame(np.arange(12).reshape((6,2)), columns = ['event1','event2'], index = [['Nevada','Nevada','Ohio','Ohio','Ohio','Ohio'],[2001,2000,2000,2000,2001,2002]])"
      ],
      "metadata": {
        "id": "7UILRI19aR3P"
      },
      "execution_count": null,
      "outputs": []
    },
    {
      "cell_type": "code",
      "source": [
        "righth "
      ],
      "metadata": {
        "id": "_WicLe0LaR6H"
      },
      "execution_count": null,
      "outputs": []
    },
    {
      "cell_type": "code",
      "source": [
        "pd.merge(lefth, righth, left_on = ['key1','key2'], right_index = True)"
      ],
      "metadata": {
        "id": "22yMakSMg1Jo"
      },
      "execution_count": null,
      "outputs": []
    },
    {
      "cell_type": "markdown",
      "source": [
        "- 양쪽에 공통적으로 존재하는 여러개의 색인으로 병합 가능"
      ],
      "metadata": {
        "id": "Vzv1r2gDh4fX"
      }
    },
    {
      "cell_type": "code",
      "source": [
        "left2 = pd.DataFrame([[1,2],[3,4],[5,6]], index = ['a','c','e'], columns = ['Ohio','Nevada'])"
      ],
      "metadata": {
        "id": "DC7DfJmvg1G6"
      },
      "execution_count": null,
      "outputs": []
    },
    {
      "cell_type": "code",
      "source": [
        "right2 = pd.DataFrame([[7,8],[9,10],[11,12],[13,14]], index = ['b','c','d','e'], columns = ['Missouri','Alabama'])"
      ],
      "metadata": {
        "id": "s8sd6Vm6g1ET"
      },
      "execution_count": null,
      "outputs": []
    },
    {
      "cell_type": "code",
      "source": [
        "left2"
      ],
      "metadata": {
        "id": "fBWuzgbzg1Bq"
      },
      "execution_count": null,
      "outputs": []
    },
    {
      "cell_type": "code",
      "source": [
        "right2"
      ],
      "metadata": {
        "id": "WWcodV5Ug0-l"
      },
      "execution_count": null,
      "outputs": []
    },
    {
      "cell_type": "code",
      "source": [
        "pd.merge(left2, right2, how = 'outer', left_index = True, right_index= True)"
      ],
      "metadata": {
        "id": "4zZW7YRHg0r5"
      },
      "execution_count": null,
      "outputs": []
    },
    {
      "cell_type": "code",
      "source": [
        "left2.join(right2, how = 'outer')"
      ],
      "metadata": {
        "id": "3TNAS_3qiXGL"
      },
      "execution_count": null,
      "outputs": []
    },
    {
      "cell_type": "markdown",
      "source": [
        "- 간단하게 병합하는 방법"
      ],
      "metadata": {
        "id": "2tXN_MNkaR9P"
      }
    },
    {
      "cell_type": "code",
      "source": [
        "another = pd.DataFrame([[7,8],[9,10],[11,12],[16,17]], index = ['a','c','e','f'], columns = ['New york', 'Oregon'])"
      ],
      "metadata": {
        "id": "y6BHBGCKaSAA"
      },
      "execution_count": null,
      "outputs": []
    },
    {
      "cell_type": "code",
      "source": [
        "another"
      ],
      "metadata": {
        "id": "q5m2HY1jaSC4"
      },
      "execution_count": null,
      "outputs": []
    },
    {
      "cell_type": "code",
      "source": [
        "left2.join([right2, another])"
      ],
      "metadata": {
        "id": "NTTJXzMoaSFv"
      },
      "execution_count": null,
      "outputs": []
    },
    {
      "cell_type": "code",
      "source": [
        "left2.join([right2, another], how = 'outer')"
      ],
      "metadata": {
        "id": "u485f8-EaSIh"
      },
      "execution_count": null,
      "outputs": []
    },
    {
      "cell_type": "markdown",
      "source": [
        "### 8.2.3 축 따라 이어붙이기\n",
        "- concatenate 함수 사용"
      ],
      "metadata": {
        "id": "hb-JyLeyaSLZ"
      }
    },
    {
      "cell_type": "code",
      "source": [
        "arr = np.arange(12).reshape((3,4))"
      ],
      "metadata": {
        "id": "Ysp2Nxs5aSN7"
      },
      "execution_count": null,
      "outputs": []
    },
    {
      "cell_type": "code",
      "source": [
        "arr"
      ],
      "metadata": {
        "id": "jj5ymxS5jEyn"
      },
      "execution_count": null,
      "outputs": []
    },
    {
      "cell_type": "code",
      "source": [
        "np.concatenate([arr,arr],axis =1)"
      ],
      "metadata": {
        "id": "C_vwZLgXaSQz"
      },
      "execution_count": null,
      "outputs": []
    },
    {
      "cell_type": "markdown",
      "source": [
        "- 색인이 겹치지 않는 3개의 시리즈"
      ],
      "metadata": {
        "id": "6JaB6x7EaSTf"
      }
    },
    {
      "cell_type": "code",
      "source": [
        "s1 = pd.Series([0,1], index = ['a','b'])\n",
        "s2 = pd.Series([2,3,4], index = ['c','d','e'])\n",
        "s3 = pd.Series([5,6], index = ['f','g'])"
      ],
      "metadata": {
        "id": "86Na7QxuaSWa"
      },
      "execution_count": null,
      "outputs": []
    },
    {
      "cell_type": "code",
      "source": [
        "pd.concat([s1,s2,s3])"
      ],
      "metadata": {
        "id": "xSdMnJ3RaSZS"
      },
      "execution_count": null,
      "outputs": []
    },
    {
      "cell_type": "code",
      "source": [
        "pd.concat([s1,s2,s3], axis = 1)"
      ],
      "metadata": {
        "id": "duW1GvqwaSbw"
      },
      "execution_count": null,
      "outputs": []
    },
    {
      "cell_type": "code",
      "source": [
        "s4 = pd.concat([s1,s3])"
      ],
      "metadata": {
        "id": "iZh4Ff9qaSeo"
      },
      "execution_count": null,
      "outputs": []
    },
    {
      "cell_type": "code",
      "source": [
        "s4"
      ],
      "metadata": {
        "id": "vRiadN50aShN"
      },
      "execution_count": null,
      "outputs": []
    },
    {
      "cell_type": "code",
      "source": [
        "pd.concat([s1,s4], axis = 1)"
      ],
      "metadata": {
        "id": "1qKF3E-saSjn"
      },
      "execution_count": null,
      "outputs": []
    },
    {
      "cell_type": "code",
      "source": [
        "pd.concat([s1,s4], axis = 1, join = 'inner')"
      ],
      "metadata": {
        "id": "1IOMVbSTaSmz"
      },
      "execution_count": null,
      "outputs": []
    },
    {
      "cell_type": "markdown",
      "source": [
        "- 이어붙인 축에 대해 계층적 색인을 생성하여 식별 가능하게 함"
      ],
      "metadata": {
        "id": "FEOcYY3Rkk0n"
      }
    },
    {
      "cell_type": "code",
      "source": [
        "result = pd.concat([s1,s2,s3], keys = ['one','two','three'])"
      ],
      "metadata": {
        "id": "UOiOVBtmaSpn"
      },
      "execution_count": null,
      "outputs": []
    },
    {
      "cell_type": "code",
      "source": [
        "result"
      ],
      "metadata": {
        "id": "dhZecJYhkbXy"
      },
      "execution_count": null,
      "outputs": []
    },
    {
      "cell_type": "markdown",
      "source": [
        "- 데이터 프레임의 로우 색인이 분석에 필요한 데이터를 포함하고 있지 않은 경우"
      ],
      "metadata": {
        "id": "paXAoMR6kkTR"
      }
    },
    {
      "cell_type": "code",
      "source": [
        "df1 = pd.DataFrame(np.random.randn(3,4), columns = ['a','b','c','d'])\n",
        "df2 = pd.DataFrame(np.random.randn(2,3), columns = ['b','d','a'])"
      ],
      "metadata": {
        "id": "EVniIoWmkcqn"
      },
      "execution_count": null,
      "outputs": []
    },
    {
      "cell_type": "code",
      "source": [
        "pd.concat([df1,df2], ignore_index = True)"
      ],
      "metadata": {
        "id": "ay-WEZlhlqcR"
      },
      "execution_count": null,
      "outputs": []
    },
    {
      "cell_type": "code",
      "source": [
        "pd.concat([df1,df2])"
      ],
      "metadata": {
        "id": "lMnl5Kmulusv"
      },
      "execution_count": null,
      "outputs": []
    },
    {
      "cell_type": "markdown",
      "source": [
        "### 8.2.4 겹치는 데이터 합치기\n",
        "- if - else 표현인 np.where로 가능\n",
        "- 혹은 combine_first "
      ],
      "metadata": {
        "id": "HJFnOP1bmKFe"
      }
    },
    {
      "cell_type": "code",
      "source": [
        "a = pd.Series([np.nan, 2.5, np.nan, 3.5, 4.5, np.nan], index = ['f','e','d','c','b','a'])\n",
        "b = pd.Series(np.arange(len(a), dtype=np.float64), index = ['f','e','d','c','b','a'])"
      ],
      "metadata": {
        "id": "LA4_8W41mLJU"
      },
      "execution_count": null,
      "outputs": []
    },
    {
      "cell_type": "code",
      "source": [
        "b[-1] = np.nan"
      ],
      "metadata": {
        "id": "F-W-a353mLNF"
      },
      "execution_count": null,
      "outputs": []
    },
    {
      "cell_type": "code",
      "source": [
        "b"
      ],
      "metadata": {
        "id": "QixzPsILmLQW"
      },
      "execution_count": null,
      "outputs": []
    },
    {
      "cell_type": "code",
      "source": [
        "a"
      ],
      "metadata": {
        "id": "8ZxznWfNm0RM"
      },
      "execution_count": null,
      "outputs": []
    },
    {
      "cell_type": "code",
      "source": [
        "np.where(pd.isnull(a), b, a)"
      ],
      "metadata": {
        "id": "sDunJcIqmLTs"
      },
      "execution_count": null,
      "outputs": []
    },
    {
      "cell_type": "code",
      "source": [
        "b[:-2].combine_first(a[2:])"
      ],
      "metadata": {
        "id": "cD_vYmwSmLXO"
      },
      "execution_count": null,
      "outputs": []
    },
    {
      "cell_type": "markdown",
      "source": [
        "## 8.3 재형성과 피벗"
      ],
      "metadata": {
        "id": "0EBQ5tp8mLaY"
      }
    },
    {
      "cell_type": "markdown",
      "source": [
        "### 8.3.1 계층적 색인으로 재형성하기"
      ],
      "metadata": {
        "id": "UUrObLKHmLdj"
      }
    },
    {
      "cell_type": "code",
      "source": [
        "data = pd.DataFrame(np.arange(6).reshape((2, 3)),\n",
        "                    index=pd.Index([\"Ohio\", \"Colorado\"], name=\"state\"),\n",
        "                    columns=pd.Index([\"one\", \"two\", \"three\"],\n",
        "                    name=\"number\"))\n",
        "data"
      ],
      "metadata": {
        "id": "4bMPTEyDmLgv"
      },
      "execution_count": null,
      "outputs": []
    },
    {
      "cell_type": "code",
      "source": [
        "result = data.stack()"
      ],
      "metadata": {
        "id": "pGZbMSkemLj6"
      },
      "execution_count": null,
      "outputs": []
    },
    {
      "cell_type": "code",
      "source": [
        "result.unstack()"
      ],
      "metadata": {
        "id": "yKg4a4YbmLnA"
      },
      "execution_count": null,
      "outputs": []
    },
    {
      "cell_type": "code",
      "source": [
        "result.unstack(0)"
      ],
      "metadata": {
        "id": "xT7vYijbFTOO"
      },
      "execution_count": null,
      "outputs": []
    },
    {
      "cell_type": "code",
      "source": [
        "result.unstack(1)"
      ],
      "metadata": {
        "id": "535NUBL-mLqI"
      },
      "execution_count": null,
      "outputs": []
    },
    {
      "cell_type": "code",
      "source": [
        "result.unstack('state')"
      ],
      "metadata": {
        "id": "0QlhvkBCmLtP"
      },
      "execution_count": null,
      "outputs": []
    },
    {
      "cell_type": "code",
      "source": [
        "s1 = pd.Series([0, 1, 2, 3], index=[\"a\", \"b\", \"c\", \"d\"], dtype=\"Int64\")\n",
        "s2 = pd.Series([4, 5, 6], index=[\"c\", \"d\", \"e\"], dtype=\"Int64\")\n",
        "data2 = pd.concat([s1, s2], keys=[\"one\", \"two\"])\n",
        "data2"
      ],
      "metadata": {
        "id": "Vl_-c_FDmLwW"
      },
      "execution_count": null,
      "outputs": []
    },
    {
      "cell_type": "code",
      "source": [
        "# 누락된 데이터 발생 가능\n",
        "data2.unstack()"
      ],
      "metadata": {
        "id": "wnz7OwUTmLzF"
      },
      "execution_count": null,
      "outputs": []
    },
    {
      "cell_type": "code",
      "source": [
        "data2.unstack().stack()"
      ],
      "metadata": {
        "id": "iOcKvW2aQIRn"
      },
      "execution_count": null,
      "outputs": []
    },
    {
      "cell_type": "code",
      "source": [
        "data2.unstack().stack(dropna = False)"
      ],
      "metadata": {
        "id": "1sA_LGuKQIUP"
      },
      "execution_count": null,
      "outputs": []
    },
    {
      "cell_type": "markdown",
      "source": [
        "- unstack 레벨은 결과에서 가장 낮은 단계"
      ],
      "metadata": {
        "id": "o8MT3_gTQIXs"
      }
    },
    {
      "cell_type": "code",
      "source": [
        "result"
      ],
      "metadata": {
        "id": "j9LZpCnORWhU"
      },
      "execution_count": null,
      "outputs": []
    },
    {
      "cell_type": "code",
      "source": [
        "df = pd.DataFrame({'left' :result, 'right' : result +5}, columns = pd.Index(['left','right'], name = 'side'))"
      ],
      "metadata": {
        "id": "hjV0lRG0QIaM"
      },
      "execution_count": null,
      "outputs": []
    },
    {
      "cell_type": "code",
      "source": [
        "df"
      ],
      "metadata": {
        "id": "YuJMrXCFQIdw"
      },
      "execution_count": null,
      "outputs": []
    },
    {
      "cell_type": "code",
      "source": [
        "df.unstack()"
      ],
      "metadata": {
        "id": "rFrTkqflSCtW"
      },
      "execution_count": null,
      "outputs": []
    },
    {
      "cell_type": "code",
      "source": [
        "df.unstack(1)"
      ],
      "metadata": {
        "id": "BYDauH2JSLjg"
      },
      "execution_count": null,
      "outputs": []
    },
    {
      "cell_type": "code",
      "source": [
        "df.unstack(0)"
      ],
      "metadata": {
        "id": "xX6eruAhSPhH"
      },
      "execution_count": null,
      "outputs": []
    },
    {
      "cell_type": "code",
      "source": [
        "df.unstack('state')"
      ],
      "metadata": {
        "id": "pfLj3J6BQIgW"
      },
      "execution_count": null,
      "outputs": []
    },
    {
      "cell_type": "code",
      "source": [
        "df.unstack('state').stack('side')"
      ],
      "metadata": {
        "id": "HMxhPROfQIjW"
      },
      "execution_count": null,
      "outputs": []
    },
    {
      "cell_type": "markdown",
      "source": [
        "### 8.3.2 긴 형식에서 넓은 형식으로 피벗하기\n"
      ],
      "metadata": {
        "id": "CAJSWvlRQImc"
      }
    },
    {
      "cell_type": "code",
      "source": [
        "data = pd.read_csv('/content/drive/MyDrive/Python for Data Analysis/examples/macrodata.csv')"
      ],
      "metadata": {
        "id": "ebVZrQ82QIpu"
      },
      "execution_count": null,
      "outputs": []
    },
    {
      "cell_type": "code",
      "source": [
        "data"
      ],
      "metadata": {
        "id": "0ZE8AiEJQIs0"
      },
      "execution_count": null,
      "outputs": []
    },
    {
      "cell_type": "code",
      "source": [
        "# periodIndex : 시간간격을 \n",
        "periods = pd.PeriodIndex(year = data.year, quarter = data.quarter, name = 'date')\n",
        "periods"
      ],
      "metadata": {
        "id": "kS1kFOkHQIvk"
      },
      "execution_count": null,
      "outputs": []
    },
    {
      "cell_type": "code",
      "source": [
        "columns = pd.Index(['realgdp','infl','unemp'], name = 'item')\n",
        "columns"
      ],
      "metadata": {
        "id": "iqLbcX4eQIy2"
      },
      "execution_count": null,
      "outputs": []
    },
    {
      "cell_type": "code",
      "source": [
        "data = data.reindex(columns=columns)\n",
        "data"
      ],
      "metadata": {
        "id": "RqjNQdkUmL2H"
      },
      "execution_count": null,
      "outputs": []
    },
    {
      "cell_type": "code",
      "source": [
        "data.index = periods.to_timestamp('D','end')"
      ],
      "metadata": {
        "id": "jTxv-v9GVVXA"
      },
      "execution_count": null,
      "outputs": []
    },
    {
      "cell_type": "code",
      "source": [
        "data"
      ],
      "metadata": {
        "id": "EBxrJjc-VVaI"
      },
      "execution_count": null,
      "outputs": []
    },
    {
      "cell_type": "code",
      "source": [
        "ldata = data.stack().reset_index().rename(columns = {0:'value'})"
      ],
      "metadata": {
        "id": "0vWPifChVVcm"
      },
      "execution_count": null,
      "outputs": []
    },
    {
      "cell_type": "code",
      "source": [
        "data.stack().reset_index()"
      ],
      "metadata": {
        "id": "N620xUwXV6VW"
      },
      "execution_count": null,
      "outputs": []
    },
    {
      "cell_type": "code",
      "source": [
        "ldata"
      ],
      "metadata": {
        "id": "1bBoPiRcVVft"
      },
      "execution_count": null,
      "outputs": []
    },
    {
      "cell_type": "code",
      "source": [
        "pivoted = ldata.pivot('date', 'item', 'value') # (로우, 컬럼색인, 값을 표시하는 컬럼명명)"
      ],
      "metadata": {
        "id": "UqixqD87VVim"
      },
      "execution_count": null,
      "outputs": []
    },
    {
      "cell_type": "code",
      "source": [
        "pivoted"
      ],
      "metadata": {
        "id": "EpYPLB3KVVld"
      },
      "execution_count": null,
      "outputs": []
    },
    {
      "cell_type": "code",
      "source": [
        "ldata"
      ],
      "metadata": {
        "id": "EmwyYOQGWy1F"
      },
      "execution_count": null,
      "outputs": []
    },
    {
      "cell_type": "code",
      "source": [
        "ldata['value2'] = np.random.randn(len(ldata))"
      ],
      "metadata": {
        "id": "StyP8zoFVVor"
      },
      "execution_count": null,
      "outputs": []
    },
    {
      "cell_type": "code",
      "source": [
        "ldata[:10]"
      ],
      "metadata": {
        "id": "U_pA_ZNhVVrX"
      },
      "execution_count": null,
      "outputs": []
    },
    {
      "cell_type": "code",
      "source": [
        "pivoted  = ldata.pivot('date','item')"
      ],
      "metadata": {
        "id": "kWXzfkvxVVur"
      },
      "execution_count": null,
      "outputs": []
    },
    {
      "cell_type": "code",
      "source": [
        "pivoted[:5]"
      ],
      "metadata": {
        "id": "iyRN-c4aVVyD"
      },
      "execution_count": null,
      "outputs": []
    },
    {
      "cell_type": "code",
      "source": [
        "ldata"
      ],
      "metadata": {
        "id": "KsZgA6WLXT_O"
      },
      "execution_count": null,
      "outputs": []
    },
    {
      "cell_type": "code",
      "source": [
        "ldata.set_index(['date','item'])"
      ],
      "metadata": {
        "id": "PGq7CeWFXCb2"
      },
      "execution_count": null,
      "outputs": []
    },
    {
      "cell_type": "code",
      "source": [
        "ldata.set_index(['date','item']).unstack('item')"
      ],
      "metadata": {
        "id": "Q27SkO2xXCfe"
      },
      "execution_count": null,
      "outputs": []
    },
    {
      "cell_type": "markdown",
      "source": [
        "### 8.3.3 넓은 형식에서 긴 형식으로 피벗하기\n",
        "- pivot과 반대되는 연산 panda.melt\n",
        "- 여러 칼럼을 하나로 병합하고 DataFrame을 입력보다 긴 형태로 만들어 냄"
      ],
      "metadata": {
        "id": "uv5e18osXCi-"
      }
    },
    {
      "cell_type": "code",
      "source": [
        "df = pd.DataFrame({'key':['foo','bar','baz'], 'A' :[1,2,3], 'B' : [4,5,6], 'C' :[7,8,9]})"
      ],
      "metadata": {
        "id": "5Il-kfCJXClt"
      },
      "execution_count": null,
      "outputs": []
    },
    {
      "cell_type": "code",
      "source": [
        "df"
      ],
      "metadata": {
        "id": "JTPJzvyeXCol"
      },
      "execution_count": null,
      "outputs": []
    },
    {
      "cell_type": "code",
      "source": [
        "melted = pd.melt(df, ['key'])\n",
        "melted"
      ],
      "metadata": {
        "id": "Y2YdMk6yXCrd"
      },
      "execution_count": null,
      "outputs": []
    },
    {
      "cell_type": "code",
      "source": [
        "reshaped = melted.pivot('key','variable', 'value')"
      ],
      "metadata": {
        "id": "Ns9hEl7cXCun"
      },
      "execution_count": null,
      "outputs": []
    },
    {
      "cell_type": "code",
      "source": [
        "reshaped"
      ],
      "metadata": {
        "id": "h1h1HHaGY6s4"
      },
      "execution_count": null,
      "outputs": []
    },
    {
      "cell_type": "code",
      "source": [
        "reshaped.reset_index()"
      ],
      "metadata": {
        "id": "5Kh8F0CkXCxd"
      },
      "execution_count": null,
      "outputs": []
    },
    {
      "cell_type": "code",
      "source": [
        "pd.melt(df, id_vars = ['key'], value_vars = ['A','B'])"
      ],
      "metadata": {
        "id": "vU1h-ki5XC0l"
      },
      "execution_count": null,
      "outputs": []
    },
    {
      "cell_type": "code",
      "source": [
        "pd.melt(df, value_vars = ['A','B'])"
      ],
      "metadata": {
        "id": "YCxk7VdbXC3M"
      },
      "execution_count": null,
      "outputs": []
    },
    {
      "cell_type": "code",
      "source": [
        "pd.melt(df, value_vars = ['key','A','B'])"
      ],
      "metadata": {
        "id": "sStu9eiiZYSd"
      },
      "execution_count": null,
      "outputs": []
    }
  ]
}