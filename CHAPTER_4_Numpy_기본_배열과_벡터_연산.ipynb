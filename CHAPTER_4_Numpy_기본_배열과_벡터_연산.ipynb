{
  "nbformat": 4,
  "nbformat_minor": 0,
  "metadata": {
    "colab": {
      "private_outputs": true,
      "provenance": [],
      "toc_visible": true,
      "authorship_tag": "ABX9TyNlCcZIh40CBvy2TBaSxFrv",
      "include_colab_link": true
    },
    "kernelspec": {
      "name": "python3",
      "display_name": "Python 3"
    },
    "language_info": {
      "name": "python"
    }
  },
  "cells": [
    {
      "cell_type": "markdown",
      "metadata": {
        "id": "view-in-github",
        "colab_type": "text"
      },
      "source": [
        "<a href=\"https://colab.research.google.com/github/yschoi9930/Python-for-Data-Analysis/blob/main/CHAPTER_4_Numpy_%EA%B8%B0%EB%B3%B8_%EB%B0%B0%EC%97%B4%EA%B3%BC_%EB%B2%A1%ED%84%B0_%EC%97%B0%EC%82%B0.ipynb\" target=\"_parent\"><img src=\"https://colab.research.google.com/assets/colab-badge.svg\" alt=\"Open In Colab\"/></a>"
      ]
    },
    {
      "cell_type": "markdown",
      "source": [
        "# Numpy란,,, Numpy 특징\n",
        "- 빠른 배열 계산과 유연한 브로드캐스팅 기능을 제공\n",
        "- 반복문을 작성할 필요 없이 전체 데이터 배열을 빠르게 계산할 수 있는 표준 수학 함수\n",
        "- 저수준 언어로 작성된 외부 라이브러리에 데이터를 전달하거나 반대로 외부 라이브러리에서 Numpy 배열 형태로 전달하기 용이\n",
        "- 일반적인 산술 데이터 처리를 위한 기반 라이브러리를 제공\n",
        "- 대용량 데이터 배열을 효율적으로 다룰 수 있도록 설계"
      ],
      "metadata": {
        "id": "fC94TZXquwQl"
      }
    },
    {
      "cell_type": "markdown",
      "source": [
        "## 4.1 Numpy ndarray : 다차원 배열 객체\n",
        "- ndarray : N차원의 배열 객체\n",
        "- 파이썬에서 사용할 수 있는 대규모 데이터 집합을 담을 수 있는 빠르고 유연한 자료구조\n",
        "- ndarray의 모든 원소는 같은 자료형이어야만 함\n"
      ],
      "metadata": {
        "id": "atQI0AUTx_f0"
      }
    },
    {
      "cell_type": "code",
      "source": [
        "import numpy as np\n",
        "\n",
        "data = np.random.randn(2,3)\n",
        "data"
      ],
      "metadata": {
        "id": "u06rZlepx_i9"
      },
      "execution_count": null,
      "outputs": []
    },
    {
      "cell_type": "code",
      "source": [
        "data * 10"
      ],
      "metadata": {
        "id": "7uehsWLmx_mI"
      },
      "execution_count": null,
      "outputs": []
    },
    {
      "cell_type": "code",
      "source": [
        "data + data"
      ],
      "metadata": {
        "id": "cztgosd-x_o9"
      },
      "execution_count": null,
      "outputs": []
    },
    {
      "cell_type": "code",
      "source": [
        "data.shape"
      ],
      "metadata": {
        "id": "bSKSk7cOx_sG"
      },
      "execution_count": null,
      "outputs": []
    },
    {
      "cell_type": "code",
      "source": [
        "data.dtype"
      ],
      "metadata": {
        "id": "gWsp1IVIx_vH"
      },
      "execution_count": null,
      "outputs": []
    },
    {
      "cell_type": "markdown",
      "source": [
        "### 4.1.1 ndarray 생성하기\n",
        "- array 함수 : 배열을 생성하는 가장 쉬운 방법\n",
        "- 참고 : astype을 호출하면 새로운 dtype이 이전 dtype과 동일해도 항상 새로운 배열을 생성(데이터를 복사)한다."
      ],
      "metadata": {
        "id": "UQvGhKTnx_yD"
      }
    },
    {
      "cell_type": "code",
      "source": [
        "data1 = [6,7.5,8,0,1]\n",
        "arr1 = np.array(data1)\n",
        "arr1"
      ],
      "metadata": {
        "id": "fBHo48JSx_09"
      },
      "execution_count": null,
      "outputs": []
    },
    {
      "cell_type": "code",
      "source": [
        "data2 = [[1,2,3,4],[5,6,7,8]]\n",
        "arr2 = np.array(data2)\n",
        "arr2"
      ],
      "metadata": {
        "id": "2B42B1cFx_4D"
      },
      "execution_count": null,
      "outputs": []
    },
    {
      "cell_type": "code",
      "source": [
        "arr2.ndim, arr2.shape # 차원확인, 구조 확인"
      ],
      "metadata": {
        "id": "PcOysRbtx_6n"
      },
      "execution_count": null,
      "outputs": []
    },
    {
      "cell_type": "code",
      "source": [
        "# arrange : range 함수의 배열 버전\n",
        "np.arange(15)"
      ],
      "metadata": {
        "id": "WNroTat0x_9y"
      },
      "execution_count": null,
      "outputs": []
    },
    {
      "cell_type": "code",
      "source": [
        "arr2.dtype # int64"
      ],
      "metadata": {
        "id": "0GJ75TD70u8q"
      },
      "execution_count": null,
      "outputs": []
    },
    {
      "cell_type": "code",
      "source": [
        "arr2 = arr2.astype(np.float64)"
      ],
      "metadata": {
        "id": "_FShV-R51AUD"
      },
      "execution_count": null,
      "outputs": []
    },
    {
      "cell_type": "code",
      "source": [
        "arr2.dtype # float64로 변경"
      ],
      "metadata": {
        "id": "XrzZTkn3yAAo"
      },
      "execution_count": null,
      "outputs": []
    },
    {
      "cell_type": "code",
      "source": [
        "numeric_strings = np.array(['1.25','-9.6','42'], dtype = np.string_)"
      ],
      "metadata": {
        "id": "7IPAFDlZyADP"
      },
      "execution_count": null,
      "outputs": []
    },
    {
      "cell_type": "code",
      "source": [
        "numeric_strings.dtype"
      ],
      "metadata": {
        "id": "oyJl7Qt81ZCu"
      },
      "execution_count": null,
      "outputs": []
    },
    {
      "cell_type": "code",
      "source": [
        "numeric_strings.astype('float64') # 숫자형으로 변환"
      ],
      "metadata": {
        "id": "RPc-HxHG1ZHr"
      },
      "execution_count": null,
      "outputs": []
    },
    {
      "cell_type": "markdown",
      "source": [
        "### Numpy 배열의 산술연산\n",
        "- 배열은 for 문을 작성하지 않고 데이터를 일괄 처리 가능 = 벡터화"
      ],
      "metadata": {
        "id": "QwoFbM5P1ZK5"
      }
    },
    {
      "cell_type": "code",
      "source": [
        "arr = np.array([[1,2,3,4],[5,6,7,8]])"
      ],
      "metadata": {
        "id": "udvwjg8m1ZOs"
      },
      "execution_count": null,
      "outputs": []
    },
    {
      "cell_type": "code",
      "source": [
        "arr*arr"
      ],
      "metadata": {
        "id": "6bqQuaGq1ZR7"
      },
      "execution_count": null,
      "outputs": []
    },
    {
      "cell_type": "code",
      "source": [
        "1/arr"
      ],
      "metadata": {
        "id": "ckrZY6L51ZVj"
      },
      "execution_count": null,
      "outputs": []
    },
    {
      "cell_type": "code",
      "source": [
        "arr2 = np.array([[7,8,1,0],[2,3,1,8]])"
      ],
      "metadata": {
        "id": "oIQoimpd2f-D"
      },
      "execution_count": null,
      "outputs": []
    },
    {
      "cell_type": "code",
      "source": [
        "# 비교연산은 불리언 배열 반환\n",
        "arr>arr2"
      ],
      "metadata": {
        "id": "8JFhCBi52gBK"
      },
      "execution_count": null,
      "outputs": []
    },
    {
      "cell_type": "markdown",
      "source": [
        "### 색인과 슬라이싱 기초\n",
        "- 리스트와 중요한 차이점은 배열 조각은 원본 배열의 뷰다\n",
        "- 즉, 데이터는 복사되지 않고 뷰에 대한 변경은 그대로 원본 배열에 반영된다.\n",
        "- 2차원 배열의 색인은 0번 축을 로우, 1번 축을 컬럼으로 이해"
      ],
      "metadata": {
        "id": "QieVFYNe2gE3"
      }
    },
    {
      "cell_type": "code",
      "source": [
        "arr = np.arange(10)"
      ],
      "metadata": {
        "id": "CBmLUDhz2gI5"
      },
      "execution_count": null,
      "outputs": []
    },
    {
      "cell_type": "code",
      "source": [
        "arr[5]"
      ],
      "metadata": {
        "id": "NPJjkFQN2gNk"
      },
      "execution_count": null,
      "outputs": []
    },
    {
      "cell_type": "code",
      "source": [
        "arr[5:8]"
      ],
      "metadata": {
        "id": "DAr7BHNu2gQR"
      },
      "execution_count": null,
      "outputs": []
    },
    {
      "cell_type": "code",
      "source": [
        "arr[5:8] = 12\n",
        "arr"
      ],
      "metadata": {
        "id": "HjC45M_k2gSd"
      },
      "execution_count": null,
      "outputs": []
    },
    {
      "cell_type": "code",
      "source": [
        "arr_slice = arr[5:8]\n",
        "arr_slice"
      ],
      "metadata": {
        "id": "kTbToLnK2gV_"
      },
      "execution_count": null,
      "outputs": []
    },
    {
      "cell_type": "code",
      "source": [
        "arr_slice[1] = 12345\n",
        "arr"
      ],
      "metadata": {
        "id": "ImpYprQU2gZZ"
      },
      "execution_count": null,
      "outputs": []
    },
    {
      "cell_type": "code",
      "source": [
        "arr_slice[:] = 64\n",
        "arr"
      ],
      "metadata": {
        "id": "dLFKtOiJ2gc2"
      },
      "execution_count": null,
      "outputs": []
    },
    {
      "cell_type": "code",
      "source": [
        "arr2d =  np.array([[1,2,3],[4,5,6],[7,8,9]])\n",
        "arr2d[2]"
      ],
      "metadata": {
        "id": "wkNqIb0C2gf5"
      },
      "execution_count": null,
      "outputs": []
    },
    {
      "cell_type": "code",
      "source": [
        "arr2d[0][2], arr2d[0,2]"
      ],
      "metadata": {
        "id": "8E6B9Rdi2gjR"
      },
      "execution_count": null,
      "outputs": []
    },
    {
      "cell_type": "code",
      "source": [
        "arr3d = np.array([[[1,2,3],[4,5,6]],[[7,8,9],[10,11,12]]])\n",
        "arr3d"
      ],
      "metadata": {
        "id": "MUCC3msZ2gmZ"
      },
      "execution_count": null,
      "outputs": []
    },
    {
      "cell_type": "code",
      "source": [
        "arr3d[0]"
      ],
      "metadata": {
        "id": "j93Y4bdX2gpe"
      },
      "execution_count": null,
      "outputs": []
    },
    {
      "cell_type": "code",
      "source": [
        "arr3d[0], arr3d[0,1], arr3d[0,1,0]"
      ],
      "metadata": {
        "id": "Rc2SAHmD2gtK"
      },
      "execution_count": null,
      "outputs": []
    },
    {
      "cell_type": "code",
      "source": [
        "x = arr3d[1]\n",
        "x[0]"
      ],
      "metadata": {
        "id": "lo3lVUN_2gv-"
      },
      "execution_count": null,
      "outputs": []
    },
    {
      "cell_type": "code",
      "source": [
        "# 슬라이스\n",
        "arr2d[:2]"
      ],
      "metadata": {
        "id": "WT4nmzC_2gzJ"
      },
      "execution_count": null,
      "outputs": []
    },
    {
      "cell_type": "code",
      "source": [
        "arr2d[:2,1:2]"
      ],
      "metadata": {
        "id": "gm8LJ9vn2g2H"
      },
      "execution_count": null,
      "outputs": []
    },
    {
      "cell_type": "code",
      "source": [
        "arr2d[1,:2]"
      ],
      "metadata": {
        "id": "_0ZMS3Gh8VBl"
      },
      "execution_count": null,
      "outputs": []
    },
    {
      "cell_type": "code",
      "source": [
        "arr2d[:1,2]"
      ],
      "metadata": {
        "id": "H-IsI8-08VFv"
      },
      "execution_count": null,
      "outputs": []
    },
    {
      "cell_type": "code",
      "source": [
        "arr2d[:,1:2]"
      ],
      "metadata": {
        "id": "0GvfJ4D38VJi"
      },
      "execution_count": null,
      "outputs": []
    },
    {
      "cell_type": "markdown",
      "source": [
        "### 4.1.5 불리언 값으로 선택하기\n"
      ],
      "metadata": {
        "id": "-sn1D-Us8VNX"
      }
    },
    {
      "cell_type": "code",
      "source": [
        "names = np.array(['Bob','Joe','Will','Bob','Will','Joe','Joe'])\n",
        "data = np.random.randn(7,4)\n",
        "names"
      ],
      "metadata": {
        "id": "V-RCwZbc8VRB"
      },
      "execution_count": null,
      "outputs": []
    },
    {
      "cell_type": "code",
      "source": [
        "data"
      ],
      "metadata": {
        "id": "IhBTbSLS8VU7"
      },
      "execution_count": null,
      "outputs": []
    },
    {
      "cell_type": "code",
      "source": [
        "names == 'Bob'"
      ],
      "metadata": {
        "id": "plX5mwMn8VYh"
      },
      "execution_count": null,
      "outputs": []
    },
    {
      "cell_type": "code",
      "source": [
        "data[names=='Bob']"
      ],
      "metadata": {
        "id": "vpcwjwDj8VcK"
      },
      "execution_count": null,
      "outputs": []
    },
    {
      "cell_type": "code",
      "source": [
        "data[names =='Bob',2]"
      ],
      "metadata": {
        "id": "U46L7t5o8Vfx"
      },
      "execution_count": null,
      "outputs": []
    },
    {
      "cell_type": "markdown",
      "source": [
        "### 4.1.6 팬시 색인\n",
        "- 팬시 색인은 정수 배열을 사용한 색인을 설명하기 위해 차용한 단어"
      ],
      "metadata": {
        "id": "7ZJfVfTS8Vi-"
      }
    },
    {
      "cell_type": "code",
      "source": [
        "arr = np.empty((8,4))\n",
        "\n",
        "for i in range(8):\n",
        "  arr[i] = i"
      ],
      "metadata": {
        "id": "XnXxWuNtypNo"
      },
      "execution_count": null,
      "outputs": []
    },
    {
      "cell_type": "code",
      "source": [
        "arr"
      ],
      "metadata": {
        "id": "ALPfeQjgypZw"
      },
      "execution_count": null,
      "outputs": []
    },
    {
      "cell_type": "code",
      "source": [
        "# 특정한 순서로 로우를 선택하고 싶을 때\n",
        "arr[[4,3,0,5]]"
      ],
      "metadata": {
        "id": "-1QRrWEuypeK"
      },
      "execution_count": null,
      "outputs": []
    },
    {
      "cell_type": "code",
      "source": [
        "arr[[-3,-5,-7]]"
      ],
      "metadata": {
        "id": "wL4wX2PnyphN"
      },
      "execution_count": null,
      "outputs": []
    },
    {
      "cell_type": "code",
      "source": [
        "arr = np.arange(32).reshape((8,4))\n",
        "arr"
      ],
      "metadata": {
        "id": "j4--UU5gypkQ"
      },
      "execution_count": null,
      "outputs": []
    },
    {
      "cell_type": "code",
      "source": [
        "arr[[1,5,7,2]]"
      ],
      "metadata": {
        "id": "mobRu2LCypnM"
      },
      "execution_count": null,
      "outputs": []
    },
    {
      "cell_type": "code",
      "source": [
        "arr[[1,5,7,2],[0,3,1,2]]"
      ],
      "metadata": {
        "id": "VsiHo8N-ypqV"
      },
      "execution_count": null,
      "outputs": []
    },
    {
      "cell_type": "code",
      "source": [
        "arr[[1,5,7,2]][:,[0,3,1,2]]"
      ],
      "metadata": {
        "id": "BcsCVFBPyptb"
      },
      "execution_count": null,
      "outputs": []
    },
    {
      "cell_type": "markdown",
      "source": [
        "### 4.1.7 배열 전치와 축 바꾸기\n",
        "- 데이터를 복사하지 않고 데이터의 모양이 바뀐 뷰를 반환\n",
        "- T 속성을 통해 행 열 전환\n",
        "- transpose 메서드는 튜플로 축 번호를 받아서 치환\n",
        "- swapaxes는 두개의 번호를 받아 배열을 뒤바꿈"
      ],
      "metadata": {
        "id": "wVKbUNflypwh"
      }
    },
    {
      "cell_type": "code",
      "source": [
        "arr = np.arange(15).reshape(3,5)\n",
        "arr"
      ],
      "metadata": {
        "id": "e0d9_D9Nypz9"
      },
      "execution_count": null,
      "outputs": []
    },
    {
      "cell_type": "code",
      "source": [
        "arr.T"
      ],
      "metadata": {
        "id": "_9S8J6lEyp5p"
      },
      "execution_count": null,
      "outputs": []
    },
    {
      "cell_type": "code",
      "source": [
        "arr=np.random.randn(6,3)\n",
        "arr"
      ],
      "metadata": {
        "id": "alDs6JnNyp_5"
      },
      "execution_count": null,
      "outputs": []
    },
    {
      "cell_type": "code",
      "source": [
        "np.dot(arr.T,arr)"
      ],
      "metadata": {
        "id": "KNLZ6krqyqC1"
      },
      "execution_count": null,
      "outputs": []
    },
    {
      "cell_type": "code",
      "source": [
        "arr = np.arange(16).reshape((2,2,4))\n",
        "arr"
      ],
      "metadata": {
        "id": "w5GBSoFA8Vn6"
      },
      "execution_count": null,
      "outputs": []
    },
    {
      "cell_type": "code",
      "source": [
        "arr.transpose(1,0,2)"
      ],
      "metadata": {
        "id": "hx6LwAjU3LJg"
      },
      "execution_count": null,
      "outputs": []
    },
    {
      "cell_type": "code",
      "source": [
        "arr.transpose(0,1,2)"
      ],
      "metadata": {
        "id": "ju_mkdin3LNX"
      },
      "execution_count": null,
      "outputs": []
    },
    {
      "cell_type": "code",
      "source": [
        "arr"
      ],
      "metadata": {
        "id": "c8gHRkbL4UPK"
      },
      "execution_count": null,
      "outputs": []
    },
    {
      "cell_type": "code",
      "source": [
        "arr.shape # (2,2,4) 0축 2, 1축 2, 2축 4"
      ],
      "metadata": {
        "id": "f8ACzL1F3LU4"
      },
      "execution_count": null,
      "outputs": []
    },
    {
      "cell_type": "code",
      "source": [
        "arr.swapaxes(0,2).shape # 0 축과 2축을 교환"
      ],
      "metadata": {
        "id": "Wq1jAlXW3LWR"
      },
      "execution_count": null,
      "outputs": []
    },
    {
      "cell_type": "markdown",
      "source": [
        "## 4.2 유니버셜 함수 : 배열의 각 원소를 빠르게 처리하는 함수\n",
        "- 간단한 함수를 고속으로 수행할 수 있는 벡터화된 래퍼 함수\n",
        "- np.sqrt, np.exp -> 단항 유니버셜 함수\n",
        "- add, maximum -> 이항 유니버셜 함수"
      ],
      "metadata": {
        "id": "vqjvEkws3LlR"
      }
    },
    {
      "cell_type": "code",
      "source": [
        "arr = np.arange(10)\n",
        "arr"
      ],
      "metadata": {
        "id": "9QWvI0sz3LoP"
      },
      "execution_count": null,
      "outputs": []
    },
    {
      "cell_type": "code",
      "source": [
        "np.sqrt(arr)"
      ],
      "metadata": {
        "id": "ZK5u1dbx3LrE"
      },
      "execution_count": null,
      "outputs": []
    },
    {
      "cell_type": "code",
      "source": [
        "np.exp(arr)"
      ],
      "metadata": {
        "id": "6T9krewL3Lt-"
      },
      "execution_count": null,
      "outputs": []
    },
    {
      "cell_type": "code",
      "source": [
        "x = np.random.randn(8)\n",
        "y = np.random.randn(8)\n",
        "x, y"
      ],
      "metadata": {
        "id": "AC9bgP2e3Lwe"
      },
      "execution_count": null,
      "outputs": []
    },
    {
      "cell_type": "code",
      "source": [
        "np.maximum(x,y) # 원소별로 가장 큰 값 계산"
      ],
      "metadata": {
        "id": "w48ZsRrN3LzJ"
      },
      "execution_count": null,
      "outputs": []
    },
    {
      "cell_type": "markdown",
      "source": [
        "### 4.3.1 배열 연산으로 조건절 표현하기\n",
        "- numpy,where 함수는 x if 조건 else y 같은 삼항식의 벡터화된 버전\n",
        "- np.where의 두번째와 세번째 인자는 배열이 아니어도 상관없다.\n",
        "- np.where를 사용할 때 스칼라값과 배열을 조합할 수 있음"
      ],
      "metadata": {
        "id": "BYJl1yOT_hve"
      }
    },
    {
      "cell_type": "code",
      "source": [
        "xarr = np.array([1.1,1.2,1.3,1.4,1.5])\n",
        "yarr = np.array([2.1,2.2,2.3,2.4,2.5])\n",
        "cond = np.array([True, False,True,True,False])"
      ],
      "metadata": {
        "id": "WXfrWMtb3L4j"
      },
      "execution_count": null,
      "outputs": []
    },
    {
      "cell_type": "code",
      "source": [
        "result = [(x if c else y) for x,y,c in zip(xarr,yarr, cond)]\n",
        "result\n",
        "# 단점 : 다차원 배열에서 사용할 수 없음"
      ],
      "metadata": {
        "id": "8lzV9NqJ3L7l"
      },
      "execution_count": null,
      "outputs": []
    },
    {
      "cell_type": "code",
      "source": [
        "result = np.where(cond,xarr,yarr) #np.where(조건, 충족, 불충족)\n",
        "result"
      ],
      "metadata": {
        "id": "6XErltvQ3L-7"
      },
      "execution_count": null,
      "outputs": []
    },
    {
      "cell_type": "code",
      "source": [
        "arr = np.random.randn(4,4)\n",
        "arr"
      ],
      "metadata": {
        "id": "BhXTXD2p3MBB"
      },
      "execution_count": null,
      "outputs": []
    },
    {
      "cell_type": "code",
      "source": [
        "arr>0"
      ],
      "metadata": {
        "id": "cIyTQ8VZ3MEP"
      },
      "execution_count": null,
      "outputs": []
    },
    {
      "cell_type": "code",
      "source": [
        "result = np.where(arr>0,1,0)\n",
        "result"
      ],
      "metadata": {
        "id": "T-zP0upY3MH1"
      },
      "execution_count": null,
      "outputs": []
    },
    {
      "cell_type": "code",
      "source": [
        "result = np.where(arr>0,arr,0)\n",
        "result"
      ],
      "metadata": {
        "id": "mH78IAhjBVPl"
      },
      "execution_count": null,
      "outputs": []
    },
    {
      "cell_type": "markdown",
      "source": [
        "### 4.3.2 수학매서드와 통계매서드"
      ],
      "metadata": {
        "id": "7yPNRhE_BVUc"
      }
    },
    {
      "cell_type": "code",
      "source": [
        "arr = np.random.randn(5,4)\n",
        "arr"
      ],
      "metadata": {
        "id": "AJsVfrCxBVXr"
      },
      "execution_count": null,
      "outputs": []
    },
    {
      "cell_type": "code",
      "source": [
        "arr.mean(), np.mean(arr), arr.sum()"
      ],
      "metadata": {
        "id": "OjyELBIEBVa7"
      },
      "execution_count": null,
      "outputs": []
    },
    {
      "cell_type": "code",
      "source": [
        "# axis 인자를 받아서 해당 axis에 대한 통계를 계산\n",
        "arr.mean(axis=1) # 모든 컬럼에서 평균"
      ],
      "metadata": {
        "id": "4pq9NNX8BVds"
      },
      "execution_count": null,
      "outputs": []
    },
    {
      "cell_type": "code",
      "source": [
        "arr.sum(axis=0) # 모든 로우에서 합"
      ],
      "metadata": {
        "id": "c4CJVFdABVhW"
      },
      "execution_count": null,
      "outputs": []
    },
    {
      "cell_type": "markdown",
      "source": [
        "### 4.3.4 정렬"
      ],
      "metadata": {
        "id": "qAnRgTR5BVjn"
      }
    },
    {
      "cell_type": "code",
      "source": [
        "arr = np.random.randn(6)"
      ],
      "metadata": {
        "id": "PmBYBByTBVmV"
      },
      "execution_count": null,
      "outputs": []
    },
    {
      "cell_type": "code",
      "source": [
        "arr.sort()"
      ],
      "metadata": {
        "id": "rho9Hd_kBVpc"
      },
      "execution_count": null,
      "outputs": []
    },
    {
      "cell_type": "code",
      "source": [
        "arr"
      ],
      "metadata": {
        "id": "qyivatNQBVsu"
      },
      "execution_count": null,
      "outputs": []
    },
    {
      "cell_type": "markdown",
      "source": [
        "### 4.3.5 집합 관련 함수\n"
      ],
      "metadata": {
        "id": "TWjoIqehBVvZ"
      }
    },
    {
      "cell_type": "code",
      "source": [
        "names = np.array(['aa','bb','aa'])"
      ],
      "metadata": {
        "id": "OLolXYpABVya"
      },
      "execution_count": null,
      "outputs": []
    },
    {
      "cell_type": "code",
      "source": [
        "np.unique(names)"
      ],
      "metadata": {
        "id": "jg9KAO6cBV1c"
      },
      "execution_count": null,
      "outputs": []
    },
    {
      "cell_type": "code",
      "source": [
        "np.ones(5)"
      ],
      "metadata": {
        "id": "NKiEAMCgBV4S"
      },
      "execution_count": null,
      "outputs": []
    },
    {
      "cell_type": "markdown",
      "source": [
        "## 4.6 난수 생성\n",
        "- 다양한 종류의 확률분포로부터 효과적으로 표본값을 생성하는데 주로 사용"
      ],
      "metadata": {
        "id": "dMmfCJ8_BV7V"
      }
    },
    {
      "cell_type": "code",
      "source": [
        "samples = np.random.normal(size = (4,4))\n",
        "samples"
      ],
      "metadata": {
        "id": "byS84QLOBV_E"
      },
      "execution_count": null,
      "outputs": []
    },
    {
      "cell_type": "code",
      "source": [],
      "metadata": {
        "id": "pprnFEVuBWC6"
      },
      "execution_count": null,
      "outputs": []
    },
    {
      "cell_type": "code",
      "source": [],
      "metadata": {
        "id": "JmxveQVWBWEw"
      },
      "execution_count": null,
      "outputs": []
    }
  ]
}